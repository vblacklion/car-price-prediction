{
 "cells": [
  {
   "cell_type": "markdown",
   "metadata": {},
   "source": [
    "# Model"
   ]
  },
  {
   "cell_type": "markdown",
   "metadata": {},
   "source": [
    "## Importing Data"
   ]
  },
  {
   "cell_type": "code",
   "execution_count": 52,
   "metadata": {},
   "outputs": [],
   "source": [
    "# Import necessary modules\n",
    "import pandas as pd\n",
    "import numpy as np\n",
    "\n",
    "import matplotlib.pyplot as plt\n",
    "%matplotlib inline\n",
    "plt.style.use('ggplot')\n",
    "\n",
    "import seaborn as sns\n",
    "\n",
    "# Display 100 columns max\n",
    "pd.set_option('display.max_columns', 100)\n",
    "\n",
    "# Display 20 characters max within a cell\n",
    "# pd.set_option('max_colwidth',60)\n",
    "\n",
    "from sklearn.model_selection import train_test_split\n",
    "from sklearn.linear_model import Lasso\n",
    "from sklearn.model_selection import cross_val_score\n",
    "\n",
    "from sklearn.linear_model import LogisticRegression\n",
    "from sklearn.linear_model import LinearRegression\n",
    "from sklearn.model_selection import cross_val_score\n",
    "\n",
    "from sklearn.ensemble import RandomForestRegressor\n",
    "from sklearn.model_selection import RandomizedSearchCV\n",
    "\n",
    "from sklearn.metrics import mean_squared_error, mean_absolute_error, r2_score\n",
    "\n",
    "import mlflow\n",
    "\n",
    "import pickle"
   ]
  },
  {
   "cell_type": "code",
   "execution_count": 90,
   "metadata": {},
   "outputs": [],
   "source": [
    "# Import imputed data\n",
    "df = pd.read_pickle(\"autos_golden_20190719.pkl\")\n",
    "\n",
    "# Import data without missing values (No imputation, no missing in the data)\n",
    "df_clean = pd.read_pickle(\"autos_clean_golden_20190719.pkl\")\n",
    "\n",
    "# Import data with missing values (No imputation)\n",
    "df_missing = pd.read_pickle(\"autos_missing_golden_20190719.pkl\")"
   ]
  },
  {
   "cell_type": "code",
   "execution_count": 3,
   "metadata": {},
   "outputs": [
    {
     "data": {
      "text/plain": [
       "((15911, 150), (15915, 150))"
      ]
     },
     "execution_count": 3,
     "metadata": {},
     "output_type": "execute_result"
    }
   ],
   "source": [
    "df.shape, df_missing.shape"
   ]
  },
  {
   "cell_type": "code",
   "execution_count": 4,
   "metadata": {},
   "outputs": [
    {
     "data": {
      "text/plain": [
       "(9975, 150)"
      ]
     },
     "execution_count": 4,
     "metadata": {},
     "output_type": "execute_result"
    }
   ],
   "source": [
    "df_clean.shape"
   ]
  },
  {
   "cell_type": "code",
   "execution_count": 5,
   "metadata": {},
   "outputs": [
    {
     "data": {
      "text/html": [
       "<div>\n",
       "<style scoped>\n",
       "    .dataframe tbody tr th:only-of-type {\n",
       "        vertical-align: middle;\n",
       "    }\n",
       "\n",
       "    .dataframe tbody tr th {\n",
       "        vertical-align: top;\n",
       "    }\n",
       "\n",
       "    .dataframe thead th {\n",
       "        text-align: right;\n",
       "    }\n",
       "</style>\n",
       "<table border=\"1\" class=\"dataframe\">\n",
       "  <thead>\n",
       "    <tr style=\"text-align: right;\">\n",
       "      <th></th>\n",
       "      <th>co2_emission</th>\n",
       "      <th>displacement</th>\n",
       "      <th>hp</th>\n",
       "      <th>km</th>\n",
       "      <th>ss_abs</th>\n",
       "      <th>ss_adaptive_cruise_control</th>\n",
       "      <th>ss_adaptive_headlights</th>\n",
       "      <th>ss_alarm_system</th>\n",
       "      <th>ss_blind_spot_monitor</th>\n",
       "      <th>ss_central_door_lock</th>\n",
       "      <th>ss_central_door_lock_with_remote_control</th>\n",
       "      <th>ss_daytime_running_lights</th>\n",
       "      <th>ss_driver_drowsiness_detection</th>\n",
       "      <th>ss_driver_side_airbag</th>\n",
       "      <th>ss_electronic_stability_control</th>\n",
       "      <th>ss_emergency_brake_assistant</th>\n",
       "      <th>ss_emergency_system</th>\n",
       "      <th>ss_fog_lights</th>\n",
       "      <th>ss_head_airbag</th>\n",
       "      <th>ss_immobilizer</th>\n",
       "      <th>ss_isofix</th>\n",
       "      <th>ss_led_daytime_running_lights</th>\n",
       "      <th>ss_led_headlights</th>\n",
       "      <th>ss_lane_departure_warning_system</th>\n",
       "      <th>ss_night_view_assist</th>\n",
       "      <th>ss_passenger_side_airbag</th>\n",
       "      <th>ss_power_steering</th>\n",
       "      <th>ss_rear_airbag</th>\n",
       "      <th>ss_side_airbag</th>\n",
       "      <th>ss_tire_pressure_monitoring_system</th>\n",
       "      <th>ss_traction_control</th>\n",
       "      <th>ss_traffic_sign_recognition</th>\n",
       "      <th>ss_xenon_headlights</th>\n",
       "      <th>inspection_new</th>\n",
       "      <th>age</th>\n",
       "      <th>ent_media_bluetooth</th>\n",
       "      <th>ent_media_cd_player</th>\n",
       "      <th>ent_media_digital_radio</th>\n",
       "      <th>ent_media_hands_free_equipment</th>\n",
       "      <th>ent_media_mp3</th>\n",
       "      <th>ent_media_on_board_computer</th>\n",
       "      <th>ent_media_radio</th>\n",
       "      <th>ent_media_sound_system</th>\n",
       "      <th>ent_media_television</th>\n",
       "      <th>ent_media_usb</th>\n",
       "      <th>nr_of_doors</th>\n",
       "      <th>nr_of_seats</th>\n",
       "      <th>warranty</th>\n",
       "      <th>cc_air_conditioning</th>\n",
       "      <th>cc_air_suspension</th>\n",
       "      <th>...</th>\n",
       "      <th>ext_tuned_car</th>\n",
       "      <th>ext_voice_control</th>\n",
       "      <th>ext_winter_tyres</th>\n",
       "      <th>make_Audi</th>\n",
       "      <th>make_Opel</th>\n",
       "      <th>make_Renault</th>\n",
       "      <th>model_A1</th>\n",
       "      <th>model_A2</th>\n",
       "      <th>model_A3</th>\n",
       "      <th>model_Astra</th>\n",
       "      <th>model_Clio</th>\n",
       "      <th>model_Corsa</th>\n",
       "      <th>model_Duster</th>\n",
       "      <th>model_Espace</th>\n",
       "      <th>model_Insignia</th>\n",
       "      <th>body_Compact</th>\n",
       "      <th>body_Convertible</th>\n",
       "      <th>body_Coupe</th>\n",
       "      <th>body_Off-Road</th>\n",
       "      <th>body_Other</th>\n",
       "      <th>body_Sedans</th>\n",
       "      <th>body_Station wagon</th>\n",
       "      <th>body_Transporter</th>\n",
       "      <th>body_Van</th>\n",
       "      <th>body_color_Beige</th>\n",
       "      <th>body_color_Black</th>\n",
       "      <th>body_color_Blue</th>\n",
       "      <th>body_color_Bronze</th>\n",
       "      <th>body_color_Brown</th>\n",
       "      <th>body_color_Green</th>\n",
       "      <th>body_color_Grey</th>\n",
       "      <th>body_color_Orange</th>\n",
       "      <th>body_color_Red</th>\n",
       "      <th>body_color_Silver</th>\n",
       "      <th>body_color_Violet</th>\n",
       "      <th>body_color_White</th>\n",
       "      <th>body_color_Yellow</th>\n",
       "      <th>gearing_type_Automatic</th>\n",
       "      <th>gearing_type_Manual</th>\n",
       "      <th>gearing_type_Semi-automatic</th>\n",
       "      <th>fuel_diesel</th>\n",
       "      <th>fuel_electric</th>\n",
       "      <th>fuel_gasoline</th>\n",
       "      <th>fuel_lpg</th>\n",
       "      <th>type_Demonstration</th>\n",
       "      <th>type_Employee's car</th>\n",
       "      <th>type_New</th>\n",
       "      <th>type_Pre-registered</th>\n",
       "      <th>type_Used</th>\n",
       "      <th>price</th>\n",
       "    </tr>\n",
       "  </thead>\n",
       "  <tbody>\n",
       "    <tr>\n",
       "      <th>0</th>\n",
       "      <td>99.0</td>\n",
       "      <td>1422.0</td>\n",
       "      <td>66.0</td>\n",
       "      <td>56013.0</td>\n",
       "      <td>1.0</td>\n",
       "      <td>0.0</td>\n",
       "      <td>0.0</td>\n",
       "      <td>0.0</td>\n",
       "      <td>0.0</td>\n",
       "      <td>1.0</td>\n",
       "      <td>0.0</td>\n",
       "      <td>1.0</td>\n",
       "      <td>0.0</td>\n",
       "      <td>1.0</td>\n",
       "      <td>1.0</td>\n",
       "      <td>0.0</td>\n",
       "      <td>0.0</td>\n",
       "      <td>1.0</td>\n",
       "      <td>0.0</td>\n",
       "      <td>1.0</td>\n",
       "      <td>1.0</td>\n",
       "      <td>0.0</td>\n",
       "      <td>0.0</td>\n",
       "      <td>0.0</td>\n",
       "      <td>0.0</td>\n",
       "      <td>1.0</td>\n",
       "      <td>1.0</td>\n",
       "      <td>0.0</td>\n",
       "      <td>1.0</td>\n",
       "      <td>1.0</td>\n",
       "      <td>1.0</td>\n",
       "      <td>0.0</td>\n",
       "      <td>1.0</td>\n",
       "      <td>1.0</td>\n",
       "      <td>3.0</td>\n",
       "      <td>1.0</td>\n",
       "      <td>0.0</td>\n",
       "      <td>0.0</td>\n",
       "      <td>1.0</td>\n",
       "      <td>0.0</td>\n",
       "      <td>1.0</td>\n",
       "      <td>1.0</td>\n",
       "      <td>0.0</td>\n",
       "      <td>0.0</td>\n",
       "      <td>0.0</td>\n",
       "      <td>5.0</td>\n",
       "      <td>5.0</td>\n",
       "      <td>1.0</td>\n",
       "      <td>1.0</td>\n",
       "      <td>0.0</td>\n",
       "      <td>...</td>\n",
       "      <td>0.0</td>\n",
       "      <td>1.0</td>\n",
       "      <td>0.0</td>\n",
       "      <td>1.0</td>\n",
       "      <td>0.0</td>\n",
       "      <td>0.0</td>\n",
       "      <td>1.0</td>\n",
       "      <td>0.0</td>\n",
       "      <td>0.0</td>\n",
       "      <td>0.0</td>\n",
       "      <td>0.0</td>\n",
       "      <td>0.0</td>\n",
       "      <td>0.0</td>\n",
       "      <td>0.0</td>\n",
       "      <td>0.0</td>\n",
       "      <td>0.0</td>\n",
       "      <td>0.0</td>\n",
       "      <td>0.0</td>\n",
       "      <td>0.0</td>\n",
       "      <td>0.0</td>\n",
       "      <td>1.0</td>\n",
       "      <td>0.0</td>\n",
       "      <td>0.0</td>\n",
       "      <td>0.0</td>\n",
       "      <td>0.0</td>\n",
       "      <td>1.0</td>\n",
       "      <td>0.0</td>\n",
       "      <td>0.0</td>\n",
       "      <td>0.0</td>\n",
       "      <td>0.0</td>\n",
       "      <td>0.0</td>\n",
       "      <td>0.0</td>\n",
       "      <td>0.0</td>\n",
       "      <td>0.0</td>\n",
       "      <td>0.0</td>\n",
       "      <td>0.0</td>\n",
       "      <td>0.0</td>\n",
       "      <td>1.0</td>\n",
       "      <td>0.0</td>\n",
       "      <td>0.0</td>\n",
       "      <td>1.0</td>\n",
       "      <td>0.0</td>\n",
       "      <td>0.0</td>\n",
       "      <td>0.0</td>\n",
       "      <td>0.0</td>\n",
       "      <td>0.0</td>\n",
       "      <td>0.0</td>\n",
       "      <td>0.0</td>\n",
       "      <td>1.0</td>\n",
       "      <td>15770.0</td>\n",
       "    </tr>\n",
       "    <tr>\n",
       "      <th>1</th>\n",
       "      <td>129.0</td>\n",
       "      <td>1798.0</td>\n",
       "      <td>141.0</td>\n",
       "      <td>80000.0</td>\n",
       "      <td>1.0</td>\n",
       "      <td>0.0</td>\n",
       "      <td>0.0</td>\n",
       "      <td>0.0</td>\n",
       "      <td>0.0</td>\n",
       "      <td>1.0</td>\n",
       "      <td>1.0</td>\n",
       "      <td>1.0</td>\n",
       "      <td>0.0</td>\n",
       "      <td>1.0</td>\n",
       "      <td>1.0</td>\n",
       "      <td>0.0</td>\n",
       "      <td>0.0</td>\n",
       "      <td>0.0</td>\n",
       "      <td>1.0</td>\n",
       "      <td>1.0</td>\n",
       "      <td>1.0</td>\n",
       "      <td>0.0</td>\n",
       "      <td>0.0</td>\n",
       "      <td>0.0</td>\n",
       "      <td>0.0</td>\n",
       "      <td>1.0</td>\n",
       "      <td>1.0</td>\n",
       "      <td>0.0</td>\n",
       "      <td>1.0</td>\n",
       "      <td>1.0</td>\n",
       "      <td>1.0</td>\n",
       "      <td>0.0</td>\n",
       "      <td>1.0</td>\n",
       "      <td>0.0</td>\n",
       "      <td>2.0</td>\n",
       "      <td>1.0</td>\n",
       "      <td>0.0</td>\n",
       "      <td>0.0</td>\n",
       "      <td>1.0</td>\n",
       "      <td>0.0</td>\n",
       "      <td>1.0</td>\n",
       "      <td>1.0</td>\n",
       "      <td>1.0</td>\n",
       "      <td>0.0</td>\n",
       "      <td>0.0</td>\n",
       "      <td>3.0</td>\n",
       "      <td>4.0</td>\n",
       "      <td>0.0</td>\n",
       "      <td>1.0</td>\n",
       "      <td>0.0</td>\n",
       "      <td>...</td>\n",
       "      <td>0.0</td>\n",
       "      <td>1.0</td>\n",
       "      <td>0.0</td>\n",
       "      <td>1.0</td>\n",
       "      <td>0.0</td>\n",
       "      <td>0.0</td>\n",
       "      <td>1.0</td>\n",
       "      <td>0.0</td>\n",
       "      <td>0.0</td>\n",
       "      <td>0.0</td>\n",
       "      <td>0.0</td>\n",
       "      <td>0.0</td>\n",
       "      <td>0.0</td>\n",
       "      <td>0.0</td>\n",
       "      <td>0.0</td>\n",
       "      <td>0.0</td>\n",
       "      <td>0.0</td>\n",
       "      <td>0.0</td>\n",
       "      <td>0.0</td>\n",
       "      <td>0.0</td>\n",
       "      <td>1.0</td>\n",
       "      <td>0.0</td>\n",
       "      <td>0.0</td>\n",
       "      <td>0.0</td>\n",
       "      <td>0.0</td>\n",
       "      <td>0.0</td>\n",
       "      <td>0.0</td>\n",
       "      <td>0.0</td>\n",
       "      <td>0.0</td>\n",
       "      <td>0.0</td>\n",
       "      <td>0.0</td>\n",
       "      <td>0.0</td>\n",
       "      <td>1.0</td>\n",
       "      <td>0.0</td>\n",
       "      <td>0.0</td>\n",
       "      <td>0.0</td>\n",
       "      <td>0.0</td>\n",
       "      <td>1.0</td>\n",
       "      <td>0.0</td>\n",
       "      <td>0.0</td>\n",
       "      <td>0.0</td>\n",
       "      <td>0.0</td>\n",
       "      <td>1.0</td>\n",
       "      <td>0.0</td>\n",
       "      <td>0.0</td>\n",
       "      <td>0.0</td>\n",
       "      <td>0.0</td>\n",
       "      <td>0.0</td>\n",
       "      <td>1.0</td>\n",
       "      <td>14500.0</td>\n",
       "    </tr>\n",
       "    <tr>\n",
       "      <th>2</th>\n",
       "      <td>99.0</td>\n",
       "      <td>1598.0</td>\n",
       "      <td>85.0</td>\n",
       "      <td>83450.0</td>\n",
       "      <td>1.0</td>\n",
       "      <td>0.0</td>\n",
       "      <td>0.0</td>\n",
       "      <td>0.0</td>\n",
       "      <td>0.0</td>\n",
       "      <td>1.0</td>\n",
       "      <td>0.0</td>\n",
       "      <td>1.0</td>\n",
       "      <td>0.0</td>\n",
       "      <td>1.0</td>\n",
       "      <td>1.0</td>\n",
       "      <td>0.0</td>\n",
       "      <td>0.0</td>\n",
       "      <td>0.0</td>\n",
       "      <td>0.0</td>\n",
       "      <td>1.0</td>\n",
       "      <td>1.0</td>\n",
       "      <td>0.0</td>\n",
       "      <td>0.0</td>\n",
       "      <td>0.0</td>\n",
       "      <td>0.0</td>\n",
       "      <td>1.0</td>\n",
       "      <td>1.0</td>\n",
       "      <td>0.0</td>\n",
       "      <td>1.0</td>\n",
       "      <td>1.0</td>\n",
       "      <td>1.0</td>\n",
       "      <td>0.0</td>\n",
       "      <td>0.0</td>\n",
       "      <td>0.0</td>\n",
       "      <td>3.0</td>\n",
       "      <td>0.0</td>\n",
       "      <td>0.0</td>\n",
       "      <td>0.0</td>\n",
       "      <td>0.0</td>\n",
       "      <td>1.0</td>\n",
       "      <td>1.0</td>\n",
       "      <td>0.0</td>\n",
       "      <td>0.0</td>\n",
       "      <td>0.0</td>\n",
       "      <td>0.0</td>\n",
       "      <td>4.0</td>\n",
       "      <td>4.0</td>\n",
       "      <td>1.0</td>\n",
       "      <td>1.0</td>\n",
       "      <td>0.0</td>\n",
       "      <td>...</td>\n",
       "      <td>0.0</td>\n",
       "      <td>1.0</td>\n",
       "      <td>0.0</td>\n",
       "      <td>1.0</td>\n",
       "      <td>0.0</td>\n",
       "      <td>0.0</td>\n",
       "      <td>1.0</td>\n",
       "      <td>0.0</td>\n",
       "      <td>0.0</td>\n",
       "      <td>0.0</td>\n",
       "      <td>0.0</td>\n",
       "      <td>0.0</td>\n",
       "      <td>0.0</td>\n",
       "      <td>0.0</td>\n",
       "      <td>0.0</td>\n",
       "      <td>0.0</td>\n",
       "      <td>0.0</td>\n",
       "      <td>0.0</td>\n",
       "      <td>0.0</td>\n",
       "      <td>0.0</td>\n",
       "      <td>1.0</td>\n",
       "      <td>0.0</td>\n",
       "      <td>0.0</td>\n",
       "      <td>0.0</td>\n",
       "      <td>0.0</td>\n",
       "      <td>1.0</td>\n",
       "      <td>0.0</td>\n",
       "      <td>0.0</td>\n",
       "      <td>0.0</td>\n",
       "      <td>0.0</td>\n",
       "      <td>0.0</td>\n",
       "      <td>0.0</td>\n",
       "      <td>0.0</td>\n",
       "      <td>0.0</td>\n",
       "      <td>0.0</td>\n",
       "      <td>0.0</td>\n",
       "      <td>0.0</td>\n",
       "      <td>1.0</td>\n",
       "      <td>0.0</td>\n",
       "      <td>0.0</td>\n",
       "      <td>1.0</td>\n",
       "      <td>0.0</td>\n",
       "      <td>0.0</td>\n",
       "      <td>0.0</td>\n",
       "      <td>0.0</td>\n",
       "      <td>0.0</td>\n",
       "      <td>0.0</td>\n",
       "      <td>0.0</td>\n",
       "      <td>1.0</td>\n",
       "      <td>14640.0</td>\n",
       "    </tr>\n",
       "    <tr>\n",
       "      <th>3</th>\n",
       "      <td>99.0</td>\n",
       "      <td>1422.0</td>\n",
       "      <td>66.0</td>\n",
       "      <td>73000.0</td>\n",
       "      <td>1.0</td>\n",
       "      <td>0.0</td>\n",
       "      <td>0.0</td>\n",
       "      <td>1.0</td>\n",
       "      <td>0.0</td>\n",
       "      <td>0.0</td>\n",
       "      <td>1.0</td>\n",
       "      <td>0.0</td>\n",
       "      <td>1.0</td>\n",
       "      <td>1.0</td>\n",
       "      <td>1.0</td>\n",
       "      <td>0.0</td>\n",
       "      <td>1.0</td>\n",
       "      <td>0.0</td>\n",
       "      <td>1.0</td>\n",
       "      <td>1.0</td>\n",
       "      <td>1.0</td>\n",
       "      <td>0.0</td>\n",
       "      <td>0.0</td>\n",
       "      <td>0.0</td>\n",
       "      <td>0.0</td>\n",
       "      <td>1.0</td>\n",
       "      <td>1.0</td>\n",
       "      <td>0.0</td>\n",
       "      <td>1.0</td>\n",
       "      <td>1.0</td>\n",
       "      <td>0.0</td>\n",
       "      <td>0.0</td>\n",
       "      <td>0.0</td>\n",
       "      <td>0.0</td>\n",
       "      <td>3.0</td>\n",
       "      <td>1.0</td>\n",
       "      <td>1.0</td>\n",
       "      <td>0.0</td>\n",
       "      <td>1.0</td>\n",
       "      <td>1.0</td>\n",
       "      <td>1.0</td>\n",
       "      <td>1.0</td>\n",
       "      <td>1.0</td>\n",
       "      <td>0.0</td>\n",
       "      <td>1.0</td>\n",
       "      <td>3.0</td>\n",
       "      <td>4.0</td>\n",
       "      <td>0.0</td>\n",
       "      <td>0.0</td>\n",
       "      <td>1.0</td>\n",
       "      <td>...</td>\n",
       "      <td>0.0</td>\n",
       "      <td>1.0</td>\n",
       "      <td>0.0</td>\n",
       "      <td>1.0</td>\n",
       "      <td>0.0</td>\n",
       "      <td>0.0</td>\n",
       "      <td>1.0</td>\n",
       "      <td>0.0</td>\n",
       "      <td>0.0</td>\n",
       "      <td>0.0</td>\n",
       "      <td>0.0</td>\n",
       "      <td>0.0</td>\n",
       "      <td>0.0</td>\n",
       "      <td>0.0</td>\n",
       "      <td>0.0</td>\n",
       "      <td>0.0</td>\n",
       "      <td>0.0</td>\n",
       "      <td>0.0</td>\n",
       "      <td>0.0</td>\n",
       "      <td>0.0</td>\n",
       "      <td>1.0</td>\n",
       "      <td>0.0</td>\n",
       "      <td>0.0</td>\n",
       "      <td>0.0</td>\n",
       "      <td>0.0</td>\n",
       "      <td>0.0</td>\n",
       "      <td>0.0</td>\n",
       "      <td>0.0</td>\n",
       "      <td>1.0</td>\n",
       "      <td>0.0</td>\n",
       "      <td>0.0</td>\n",
       "      <td>0.0</td>\n",
       "      <td>0.0</td>\n",
       "      <td>0.0</td>\n",
       "      <td>0.0</td>\n",
       "      <td>0.0</td>\n",
       "      <td>0.0</td>\n",
       "      <td>1.0</td>\n",
       "      <td>0.0</td>\n",
       "      <td>0.0</td>\n",
       "      <td>1.0</td>\n",
       "      <td>0.0</td>\n",
       "      <td>0.0</td>\n",
       "      <td>0.0</td>\n",
       "      <td>0.0</td>\n",
       "      <td>0.0</td>\n",
       "      <td>0.0</td>\n",
       "      <td>0.0</td>\n",
       "      <td>1.0</td>\n",
       "      <td>14500.0</td>\n",
       "    </tr>\n",
       "    <tr>\n",
       "      <th>4</th>\n",
       "      <td>109.0</td>\n",
       "      <td>1422.0</td>\n",
       "      <td>66.0</td>\n",
       "      <td>16200.0</td>\n",
       "      <td>1.0</td>\n",
       "      <td>0.0</td>\n",
       "      <td>0.0</td>\n",
       "      <td>0.0</td>\n",
       "      <td>0.0</td>\n",
       "      <td>1.0</td>\n",
       "      <td>0.0</td>\n",
       "      <td>0.0</td>\n",
       "      <td>0.0</td>\n",
       "      <td>1.0</td>\n",
       "      <td>1.0</td>\n",
       "      <td>0.0</td>\n",
       "      <td>0.0</td>\n",
       "      <td>1.0</td>\n",
       "      <td>0.0</td>\n",
       "      <td>1.0</td>\n",
       "      <td>1.0</td>\n",
       "      <td>0.0</td>\n",
       "      <td>0.0</td>\n",
       "      <td>0.0</td>\n",
       "      <td>0.0</td>\n",
       "      <td>1.0</td>\n",
       "      <td>1.0</td>\n",
       "      <td>0.0</td>\n",
       "      <td>1.0</td>\n",
       "      <td>1.0</td>\n",
       "      <td>1.0</td>\n",
       "      <td>0.0</td>\n",
       "      <td>1.0</td>\n",
       "      <td>1.0</td>\n",
       "      <td>3.0</td>\n",
       "      <td>1.0</td>\n",
       "      <td>1.0</td>\n",
       "      <td>0.0</td>\n",
       "      <td>1.0</td>\n",
       "      <td>1.0</td>\n",
       "      <td>1.0</td>\n",
       "      <td>1.0</td>\n",
       "      <td>0.0</td>\n",
       "      <td>0.0</td>\n",
       "      <td>1.0</td>\n",
       "      <td>5.0</td>\n",
       "      <td>5.0</td>\n",
       "      <td>1.0</td>\n",
       "      <td>1.0</td>\n",
       "      <td>0.0</td>\n",
       "      <td>...</td>\n",
       "      <td>0.0</td>\n",
       "      <td>1.0</td>\n",
       "      <td>0.0</td>\n",
       "      <td>1.0</td>\n",
       "      <td>0.0</td>\n",
       "      <td>0.0</td>\n",
       "      <td>1.0</td>\n",
       "      <td>0.0</td>\n",
       "      <td>0.0</td>\n",
       "      <td>0.0</td>\n",
       "      <td>0.0</td>\n",
       "      <td>0.0</td>\n",
       "      <td>0.0</td>\n",
       "      <td>0.0</td>\n",
       "      <td>0.0</td>\n",
       "      <td>0.0</td>\n",
       "      <td>0.0</td>\n",
       "      <td>0.0</td>\n",
       "      <td>0.0</td>\n",
       "      <td>0.0</td>\n",
       "      <td>1.0</td>\n",
       "      <td>0.0</td>\n",
       "      <td>0.0</td>\n",
       "      <td>0.0</td>\n",
       "      <td>0.0</td>\n",
       "      <td>1.0</td>\n",
       "      <td>0.0</td>\n",
       "      <td>0.0</td>\n",
       "      <td>0.0</td>\n",
       "      <td>0.0</td>\n",
       "      <td>0.0</td>\n",
       "      <td>0.0</td>\n",
       "      <td>0.0</td>\n",
       "      <td>0.0</td>\n",
       "      <td>0.0</td>\n",
       "      <td>0.0</td>\n",
       "      <td>0.0</td>\n",
       "      <td>1.0</td>\n",
       "      <td>0.0</td>\n",
       "      <td>0.0</td>\n",
       "      <td>1.0</td>\n",
       "      <td>0.0</td>\n",
       "      <td>0.0</td>\n",
       "      <td>0.0</td>\n",
       "      <td>0.0</td>\n",
       "      <td>0.0</td>\n",
       "      <td>0.0</td>\n",
       "      <td>0.0</td>\n",
       "      <td>1.0</td>\n",
       "      <td>16790.0</td>\n",
       "    </tr>\n",
       "  </tbody>\n",
       "</table>\n",
       "<p>5 rows × 150 columns</p>\n",
       "</div>"
      ],
      "text/plain": [
       "   co2_emission  displacement     hp       km  ss_abs  \\\n",
       "0          99.0        1422.0   66.0  56013.0     1.0   \n",
       "1         129.0        1798.0  141.0  80000.0     1.0   \n",
       "2          99.0        1598.0   85.0  83450.0     1.0   \n",
       "3          99.0        1422.0   66.0  73000.0     1.0   \n",
       "4         109.0        1422.0   66.0  16200.0     1.0   \n",
       "\n",
       "   ss_adaptive_cruise_control  ss_adaptive_headlights  ss_alarm_system  \\\n",
       "0                         0.0                     0.0              0.0   \n",
       "1                         0.0                     0.0              0.0   \n",
       "2                         0.0                     0.0              0.0   \n",
       "3                         0.0                     0.0              1.0   \n",
       "4                         0.0                     0.0              0.0   \n",
       "\n",
       "   ss_blind_spot_monitor  ss_central_door_lock  \\\n",
       "0                    0.0                   1.0   \n",
       "1                    0.0                   1.0   \n",
       "2                    0.0                   1.0   \n",
       "3                    0.0                   0.0   \n",
       "4                    0.0                   1.0   \n",
       "\n",
       "   ss_central_door_lock_with_remote_control  ss_daytime_running_lights  \\\n",
       "0                                       0.0                        1.0   \n",
       "1                                       1.0                        1.0   \n",
       "2                                       0.0                        1.0   \n",
       "3                                       1.0                        0.0   \n",
       "4                                       0.0                        0.0   \n",
       "\n",
       "   ss_driver_drowsiness_detection  ss_driver_side_airbag  \\\n",
       "0                             0.0                    1.0   \n",
       "1                             0.0                    1.0   \n",
       "2                             0.0                    1.0   \n",
       "3                             1.0                    1.0   \n",
       "4                             0.0                    1.0   \n",
       "\n",
       "   ss_electronic_stability_control  ss_emergency_brake_assistant  \\\n",
       "0                              1.0                           0.0   \n",
       "1                              1.0                           0.0   \n",
       "2                              1.0                           0.0   \n",
       "3                              1.0                           0.0   \n",
       "4                              1.0                           0.0   \n",
       "\n",
       "   ss_emergency_system  ss_fog_lights  ss_head_airbag  ss_immobilizer  \\\n",
       "0                  0.0            1.0             0.0             1.0   \n",
       "1                  0.0            0.0             1.0             1.0   \n",
       "2                  0.0            0.0             0.0             1.0   \n",
       "3                  1.0            0.0             1.0             1.0   \n",
       "4                  0.0            1.0             0.0             1.0   \n",
       "\n",
       "   ss_isofix  ss_led_daytime_running_lights  ss_led_headlights  \\\n",
       "0        1.0                            0.0                0.0   \n",
       "1        1.0                            0.0                0.0   \n",
       "2        1.0                            0.0                0.0   \n",
       "3        1.0                            0.0                0.0   \n",
       "4        1.0                            0.0                0.0   \n",
       "\n",
       "   ss_lane_departure_warning_system  ss_night_view_assist  \\\n",
       "0                               0.0                   0.0   \n",
       "1                               0.0                   0.0   \n",
       "2                               0.0                   0.0   \n",
       "3                               0.0                   0.0   \n",
       "4                               0.0                   0.0   \n",
       "\n",
       "   ss_passenger_side_airbag  ss_power_steering  ss_rear_airbag  \\\n",
       "0                       1.0                1.0             0.0   \n",
       "1                       1.0                1.0             0.0   \n",
       "2                       1.0                1.0             0.0   \n",
       "3                       1.0                1.0             0.0   \n",
       "4                       1.0                1.0             0.0   \n",
       "\n",
       "   ss_side_airbag  ss_tire_pressure_monitoring_system  ss_traction_control  \\\n",
       "0             1.0                                 1.0                  1.0   \n",
       "1             1.0                                 1.0                  1.0   \n",
       "2             1.0                                 1.0                  1.0   \n",
       "3             1.0                                 1.0                  0.0   \n",
       "4             1.0                                 1.0                  1.0   \n",
       "\n",
       "   ss_traffic_sign_recognition  ss_xenon_headlights  inspection_new  age  \\\n",
       "0                          0.0                  1.0             1.0  3.0   \n",
       "1                          0.0                  1.0             0.0  2.0   \n",
       "2                          0.0                  0.0             0.0  3.0   \n",
       "3                          0.0                  0.0             0.0  3.0   \n",
       "4                          0.0                  1.0             1.0  3.0   \n",
       "\n",
       "   ent_media_bluetooth  ent_media_cd_player  ent_media_digital_radio  \\\n",
       "0                  1.0                  0.0                      0.0   \n",
       "1                  1.0                  0.0                      0.0   \n",
       "2                  0.0                  0.0                      0.0   \n",
       "3                  1.0                  1.0                      0.0   \n",
       "4                  1.0                  1.0                      0.0   \n",
       "\n",
       "   ent_media_hands_free_equipment  ent_media_mp3  ent_media_on_board_computer  \\\n",
       "0                             1.0            0.0                          1.0   \n",
       "1                             1.0            0.0                          1.0   \n",
       "2                             0.0            1.0                          1.0   \n",
       "3                             1.0            1.0                          1.0   \n",
       "4                             1.0            1.0                          1.0   \n",
       "\n",
       "   ent_media_radio  ent_media_sound_system  ent_media_television  \\\n",
       "0              1.0                     0.0                   0.0   \n",
       "1              1.0                     1.0                   0.0   \n",
       "2              0.0                     0.0                   0.0   \n",
       "3              1.0                     1.0                   0.0   \n",
       "4              1.0                     0.0                   0.0   \n",
       "\n",
       "   ent_media_usb  nr_of_doors  nr_of_seats  warranty  cc_air_conditioning  \\\n",
       "0            0.0          5.0          5.0       1.0                  1.0   \n",
       "1            0.0          3.0          4.0       0.0                  1.0   \n",
       "2            0.0          4.0          4.0       1.0                  1.0   \n",
       "3            1.0          3.0          4.0       0.0                  0.0   \n",
       "4            1.0          5.0          5.0       1.0                  1.0   \n",
       "\n",
       "   cc_air_suspension  ...  ext_tuned_car  ext_voice_control  ext_winter_tyres  \\\n",
       "0                0.0  ...            0.0                1.0               0.0   \n",
       "1                0.0  ...            0.0                1.0               0.0   \n",
       "2                0.0  ...            0.0                1.0               0.0   \n",
       "3                1.0  ...            0.0                1.0               0.0   \n",
       "4                0.0  ...            0.0                1.0               0.0   \n",
       "\n",
       "   make_Audi  make_Opel  make_Renault  model_A1  model_A2  model_A3  \\\n",
       "0        1.0        0.0           0.0       1.0       0.0       0.0   \n",
       "1        1.0        0.0           0.0       1.0       0.0       0.0   \n",
       "2        1.0        0.0           0.0       1.0       0.0       0.0   \n",
       "3        1.0        0.0           0.0       1.0       0.0       0.0   \n",
       "4        1.0        0.0           0.0       1.0       0.0       0.0   \n",
       "\n",
       "   model_Astra  model_Clio  model_Corsa  model_Duster  model_Espace  \\\n",
       "0          0.0         0.0          0.0           0.0           0.0   \n",
       "1          0.0         0.0          0.0           0.0           0.0   \n",
       "2          0.0         0.0          0.0           0.0           0.0   \n",
       "3          0.0         0.0          0.0           0.0           0.0   \n",
       "4          0.0         0.0          0.0           0.0           0.0   \n",
       "\n",
       "   model_Insignia  body_Compact  body_Convertible  body_Coupe  body_Off-Road  \\\n",
       "0             0.0           0.0               0.0         0.0            0.0   \n",
       "1             0.0           0.0               0.0         0.0            0.0   \n",
       "2             0.0           0.0               0.0         0.0            0.0   \n",
       "3             0.0           0.0               0.0         0.0            0.0   \n",
       "4             0.0           0.0               0.0         0.0            0.0   \n",
       "\n",
       "   body_Other  body_Sedans  body_Station wagon  body_Transporter  body_Van  \\\n",
       "0         0.0          1.0                 0.0               0.0       0.0   \n",
       "1         0.0          1.0                 0.0               0.0       0.0   \n",
       "2         0.0          1.0                 0.0               0.0       0.0   \n",
       "3         0.0          1.0                 0.0               0.0       0.0   \n",
       "4         0.0          1.0                 0.0               0.0       0.0   \n",
       "\n",
       "   body_color_Beige  body_color_Black  body_color_Blue  body_color_Bronze  \\\n",
       "0               0.0               1.0              0.0                0.0   \n",
       "1               0.0               0.0              0.0                0.0   \n",
       "2               0.0               1.0              0.0                0.0   \n",
       "3               0.0               0.0              0.0                0.0   \n",
       "4               0.0               1.0              0.0                0.0   \n",
       "\n",
       "   body_color_Brown  body_color_Green  body_color_Grey  body_color_Orange  \\\n",
       "0               0.0               0.0              0.0                0.0   \n",
       "1               0.0               0.0              0.0                0.0   \n",
       "2               0.0               0.0              0.0                0.0   \n",
       "3               1.0               0.0              0.0                0.0   \n",
       "4               0.0               0.0              0.0                0.0   \n",
       "\n",
       "   body_color_Red  body_color_Silver  body_color_Violet  body_color_White  \\\n",
       "0             0.0                0.0                0.0               0.0   \n",
       "1             1.0                0.0                0.0               0.0   \n",
       "2             0.0                0.0                0.0               0.0   \n",
       "3             0.0                0.0                0.0               0.0   \n",
       "4             0.0                0.0                0.0               0.0   \n",
       "\n",
       "   body_color_Yellow  gearing_type_Automatic  gearing_type_Manual  \\\n",
       "0                0.0                     1.0                  0.0   \n",
       "1                0.0                     1.0                  0.0   \n",
       "2                0.0                     1.0                  0.0   \n",
       "3                0.0                     1.0                  0.0   \n",
       "4                0.0                     1.0                  0.0   \n",
       "\n",
       "   gearing_type_Semi-automatic  fuel_diesel  fuel_electric  fuel_gasoline  \\\n",
       "0                          0.0          1.0            0.0            0.0   \n",
       "1                          0.0          0.0            0.0            1.0   \n",
       "2                          0.0          1.0            0.0            0.0   \n",
       "3                          0.0          1.0            0.0            0.0   \n",
       "4                          0.0          1.0            0.0            0.0   \n",
       "\n",
       "   fuel_lpg  type_Demonstration  type_Employee's car  type_New  \\\n",
       "0       0.0                 0.0                  0.0       0.0   \n",
       "1       0.0                 0.0                  0.0       0.0   \n",
       "2       0.0                 0.0                  0.0       0.0   \n",
       "3       0.0                 0.0                  0.0       0.0   \n",
       "4       0.0                 0.0                  0.0       0.0   \n",
       "\n",
       "   type_Pre-registered  type_Used    price  \n",
       "0                  0.0        1.0  15770.0  \n",
       "1                  0.0        1.0  14500.0  \n",
       "2                  0.0        1.0  14640.0  \n",
       "3                  0.0        1.0  14500.0  \n",
       "4                  0.0        1.0  16790.0  \n",
       "\n",
       "[5 rows x 150 columns]"
      ]
     },
     "execution_count": 5,
     "metadata": {},
     "output_type": "execute_result"
    }
   ],
   "source": [
    "df.head()"
   ]
  },
  {
   "cell_type": "markdown",
   "metadata": {
    "toc-hr-collapsed": false
   },
   "source": [
    "## Model"
   ]
  },
  {
   "cell_type": "code",
   "execution_count": 91,
   "metadata": {},
   "outputs": [],
   "source": [
    "# Create features and target (df)\n",
    "X = df.drop('price', axis = 1) # features\n",
    "y = df['price'] # target"
   ]
  },
  {
   "cell_type": "code",
   "execution_count": 7,
   "metadata": {},
   "outputs": [],
   "source": [
    "# Create features and target (df)\n",
    "X_c = df_clean.drop('price', axis = 1) # features\n",
    "y_c = df_clean['price'] # target"
   ]
  },
  {
   "cell_type": "code",
   "execution_count": 8,
   "metadata": {},
   "outputs": [],
   "source": [
    "# # Create features and target (array)\n",
    "# X = df.drop('price', axis = 1).values # features\n",
    "# y = df['price'].values # target"
   ]
  },
  {
   "cell_type": "code",
   "execution_count": 9,
   "metadata": {},
   "outputs": [],
   "source": [
    "# Train-test split\n",
    "X_train, X_test, y_train, y_test = train_test_split(X, y, test_size = 0.3, random_state=57)"
   ]
  },
  {
   "cell_type": "code",
   "execution_count": 10,
   "metadata": {},
   "outputs": [],
   "source": [
    "# Train-test split\n",
    "X_train_c, X_test_c, y_train_c, y_test_c = train_test_split(X_c, y_c, test_size = 0.3, random_state=57)"
   ]
  },
  {
   "cell_type": "markdown",
   "metadata": {},
   "source": [
    "### Model Evaluation Metrics"
   ]
  },
  {
   "cell_type": "code",
   "execution_count": 12,
   "metadata": {},
   "outputs": [],
   "source": [
    "def eval_metrics(actual, pred):\n",
    "    rmse = np.sqrt(mean_squared_error(actual, pred))\n",
    "    mae = mean_absolute_error(actual, pred)\n",
    "    r2 = r2_score(actual, pred)\n",
    "    return rmse, mae, r2"
   ]
  },
  {
   "cell_type": "markdown",
   "metadata": {},
   "source": [
    "### Linear Regression"
   ]
  },
  {
   "cell_type": "code",
   "execution_count": 92,
   "metadata": {},
   "outputs": [
    {
     "data": {
      "text/plain": [
       "array([[  99., 1422.,   66., ...,    0.,    0.,    0.],\n",
       "       [ 129., 1798.,  141., ...,    0.,    0.,    0.],\n",
       "       [  99., 1598.,   85., ...,    0.,    0.,    0.],\n",
       "       ...,\n",
       "       [ 139., 1997.,  146., ...,    0.,    0.,    0.],\n",
       "       [ 139., 1997.,  147., ...,    0.,    0.,    0.],\n",
       "       [ 153., 1798.,  165., ...,    0.,    0.,    0.]])"
      ]
     },
     "execution_count": 92,
     "metadata": {},
     "output_type": "execute_result"
    }
   ],
   "source": [
    "from sklearn.preprocessing import PolynomialFeatures\n",
    "\n",
    "poly = PolynomialFeatures(interaction_only=True,include_bias = False)\n",
    "poly.fit_transform(X)"
   ]
  },
  {
   "cell_type": "code",
   "execution_count": 93,
   "metadata": {},
   "outputs": [
    {
     "data": {
      "text/plain": [
       "Index(['co2_emission', 'displacement', 'hp', 'km', 'ss_abs',\n",
       "       'ss_adaptive_cruise_control', 'ss_adaptive_headlights',\n",
       "       'ss_alarm_system', 'ss_blind_spot_monitor', 'ss_central_door_lock',\n",
       "       ...\n",
       "       'gearing_type_Semi-automatic', 'fuel_diesel', 'fuel_electric',\n",
       "       'fuel_gasoline', 'fuel_lpg', 'type_Demonstration',\n",
       "       'type_Employee's car', 'type_New', 'type_Pre-registered', 'type_Used'],\n",
       "      dtype='object', length=149)"
      ]
     },
     "execution_count": 93,
     "metadata": {},
     "output_type": "execute_result"
    }
   ],
   "source": [
    "X.columns"
   ]
  },
  {
   "cell_type": "markdown",
   "metadata": {},
   "source": [
    "### Lasso"
   ]
  },
  {
   "cell_type": "code",
   "execution_count": 12,
   "metadata": {},
   "outputs": [],
   "source": [
    "# Create Alphas, and lists to store scores\n",
    "alpha_space = np.linspace(1, 10)\n",
    "lasso_scores = []\n",
    "\n",
    "# Create a regressor\n",
    "lasso_ = Lasso(normalize = True)\n",
    "\n",
    "# Compute scores over range of alphas\n",
    "for alpha in alpha_space:\n",
    "    \n",
    "    # Specify alpha\n",
    "    lasso_.alpha = alpha\n",
    "    \n",
    "    # Perfrom 5-fold CV\n",
    "    lasso_cv_scores = cross_val_score(lasso_, X_train, y_train, cv=5)\n",
    "    \n",
    "    # Append the mean and std to the lists\n",
    "    lasso_scores.append(np.mean(lasso_cv_scores))\n",
    "    \n",
    "    # Log parameter, metrics, and model to MLflow\n",
    "    with mlflow.start_run(run_name=\"Lasso CV\"): # \"with\" is necessary for multiple runs\n",
    "        mlflow.log_param(\"alpha\", alpha)\n",
    "        mlflow.log_metric(\"lasso_cv_score\", np.mean(lasso_cv_scores))"
   ]
  },
  {
   "cell_type": "code",
   "execution_count": 13,
   "metadata": {},
   "outputs": [],
   "source": [
    "#!mlflow ui"
   ]
  },
  {
   "cell_type": "code",
   "execution_count": 14,
   "metadata": {},
   "outputs": [
    {
     "data": {
      "image/png": "[encoded data removed]",
      "text/plain": [
       "<Figure size 432x288 with 1 Axes>"
      ]
     },
     "metadata": {
      "needs_background": "light"
     },
     "output_type": "display_data"
    }
   ],
   "source": [
    "# Create a function to display how cv scores changes with alphas\n",
    "def display_plot(cv_scores):\n",
    "    fig = plt.figure()\n",
    "    ax = fig.add_subplot(1,1,1)\n",
    "    ax.plot(alpha_space, cv_scores)\n",
    "\n",
    "    ax.set_ylabel('CV Score')\n",
    "    ax.set_xlabel('Alpha')\n",
    "    ax.axhline(np.max(cv_scores), linestyle='--', color='.5')\n",
    "    ax.set_xlim([alpha_space[0], alpha_space[-1]])\n",
    "    ax.set_xscale('log')\n",
    "    ax.axvline(x=1.4, c='b', linestyle='--', alpha=0.5)\n",
    "    plt.show()\n",
    "    \n",
    "display_plot(lasso_scores)"
   ]
  },
  {
   "cell_type": "markdown",
   "metadata": {},
   "source": [
    "$alpha = 1.4$ seems to be a good choice"
   ]
  },
  {
   "cell_type": "code",
   "execution_count": 15,
   "metadata": {},
   "outputs": [
    {
     "name": "stdout",
     "output_type": "stream",
     "text": [
      "R^2: 0.850\n"
     ]
    }
   ],
   "source": [
    "# Instantiate Lasso regressor\n",
    "lasso = Lasso(alpha = 1.4, normalize = True)\n",
    "\n",
    "# Fit the regressor\n",
    "lasso.fit(X_train, y_train)\n",
    "\n",
    "# Print the R-squared\n",
    "print(\"R^2: {0:.3f}\".format(lasso.score(X_test, y_test)))\n",
    "\n",
    "# Calculate evaluation metrics\n",
    "rmse, mae, r2 = eval_metrics(y_test, lasso.predict(X_test))\n",
    "\n",
    "# Log parameter, metrics, and model to MLflow\n",
    "with mlflow.start_run(run_name=\"Lasso Regression\"):\n",
    "    mlflow.log_param(\"alpha\", 1.4)\n",
    "    mlflow.log_metric(\"rmse\", rmse)\n",
    "    mlflow.log_metric(\"mae\", mae)\n",
    "    mlflow.log_metric(\"r2\", r2)\n",
    "#mlflow.end_run()"
   ]
  },
  {
   "cell_type": "code",
   "execution_count": 16,
   "metadata": {},
   "outputs": [
    {
     "name": "stdout",
     "output_type": "stream",
     "text": [
      "Average 5-Fold CV Score: 0.856\n"
     ]
    }
   ],
   "source": [
    "# Perform 5-fold cross-validation\n",
    "cv_scores = cross_val_score(lasso, X_test, y_test, cv=5)\n",
    "\n",
    "print(\"Average 5-Fold CV Score: {0:.3f}\".format(np.mean(cv_scores)))"
   ]
  },
  {
   "cell_type": "markdown",
   "metadata": {},
   "source": [
    "### Linear Regression"
   ]
  },
  {
   "cell_type": "code",
   "execution_count": 17,
   "metadata": {},
   "outputs": [
    {
     "name": "stdout",
     "output_type": "stream",
     "text": [
      "R^2: 0.86\n"
     ]
    }
   ],
   "source": [
    "# Create the regressor\n",
    "reg = LinearRegression()\n",
    "\n",
    "# Fit the regressor to the training data\n",
    "reg.fit(X_train, y_train)\n",
    "\n",
    "# Print the R-squared\n",
    "print(\"R^2: {0:.2f}\".format(reg.score(X_test, y_test)))\n",
    "\n",
    "# Calculate evaluation metrics\n",
    "rmse, mae, r2 = eval_metrics(y_test, reg.predict(X_test))\n",
    "\n",
    "# Log parameter, metrics, and model to MLflow\n",
    "mlflow.start_run(run_name=\"Linear Regression\")\n",
    "mlflow.log_param(\"normalize\", False)\n",
    "mlflow.log_metric(\"rmse\", rmse)\n",
    "mlflow.log_metric(\"mae\", mae)\n",
    "mlflow.log_metric(\"r2\", r2)\n",
    "mlflow.end_run()"
   ]
  },
  {
   "cell_type": "code",
   "execution_count": 18,
   "metadata": {},
   "outputs": [
    {
     "name": "stdout",
     "output_type": "stream",
     "text": [
      "R^2: 0.86\n"
     ]
    }
   ],
   "source": [
    "# Create the regressor\n",
    "reg = LinearRegression(normalize=True)\n",
    "\n",
    "# Fit the regressor to the training data\n",
    "reg.fit(X_train, y_train)\n",
    "\n",
    "# Print the R-squared\n",
    "print(\"R^2: {0:.2f}\".format(reg.score(X_test, y_test)))\n",
    "\n",
    "# Calculate evaluation metrics\n",
    "rmse, mae, r2 = eval_metrics(y_test, reg.predict(X_test))\n",
    "\n",
    "# Log parameter, metrics, and model to MLflow\n",
    "mlflow.start_run(run_name=\"Linear Regression\")\n",
    "mlflow.log_param(\"normalize\", True)\n",
    "mlflow.log_metric(\"rmse\", rmse)\n",
    "mlflow.log_metric(\"mae\", mae)\n",
    "mlflow.log_metric(\"r2\", r2)\n",
    "mlflow.end_run()"
   ]
  },
  {
   "cell_type": "code",
   "execution_count": 19,
   "metadata": {},
   "outputs": [
    {
     "name": "stdout",
     "output_type": "stream",
     "text": [
      "R^2: 0.89\n"
     ]
    }
   ],
   "source": [
    "# Create the regressor\n",
    "reg = LinearRegression()\n",
    "\n",
    "# Fit the regressor to the training data\n",
    "reg.fit(X_train_c, y_train_c)\n",
    "\n",
    "# Print the R-squared\n",
    "print(\"R^2: {0:.2f}\".format(reg.score(X_test_c, y_test_c)))\n",
    "\n",
    "# Calculate evaluation metrics\n",
    "rmse, mae, r2 = eval_metrics(y_test, reg.predict(X_test))\n",
    "\n",
    "# Log parameter, metrics, and model to MLflow\n",
    "with mlflow.start_run(run_name=\"Linear Regression 'Dropped Missing'\"):\n",
    "    mlflow.log_metric(\"rmse\", rmse)\n",
    "    mlflow.log_metric(\"mae\", mae)\n",
    "    mlflow.log_metric(\"r2\", r2)"
   ]
  },
  {
   "cell_type": "markdown",
   "metadata": {},
   "source": [
    "### Random Forest"
   ]
  },
  {
   "cell_type": "code",
   "execution_count": 21,
   "metadata": {},
   "outputs": [
    {
     "name": "stdout",
     "output_type": "stream",
     "text": [
      "RMSE: 2263.214033\n"
     ]
    }
   ],
   "source": [
    "preds_rf = reg_rf.predict(X_test)\n",
    "\n",
    "rmse = np.sqrt(mean_squared_error(y_test, preds_rf))\n",
    "print(\"RMSE: %f\" % (rmse))"
   ]
  },
  {
   "cell_type": "code",
   "execution_count": 22,
   "metadata": {},
   "outputs": [],
   "source": [
    "reg_rf = RandomForestRegressor(random_state=57, n_estimators=100)\n",
    "\n",
    "reg_rf.fit(X_train_c, y_train_c)\n",
    "\n",
    "reg_rf.score(X_test_c, y_test_c)\n",
    "\n",
    "#pd.DataFrame({'x':X_hp.columns.values, 'y':reg_rf.feature_importances_})\n",
    "\n",
    "# Calculate evaluation metrics\n",
    "rmse, mae, r2 = eval_metrics(y_test_c, reg_rf.predict(X_test_c))\n",
    "\n",
    "# Log parameter, metrics, and model to MLflow\n",
    "with mlflow.start_run(run_name=\"Random Forest 'Dropped Missing'\"):\n",
    "    mlflow.log_metric(\"rmse\", rmse)\n",
    "    mlflow.log_metric(\"mae\", mae)\n",
    "    mlflow.log_metric(\"r2\", r2)"
   ]
  },
  {
   "cell_type": "code",
   "execution_count": 23,
   "metadata": {},
   "outputs": [
    {
     "name": "stdout",
     "output_type": "stream",
     "text": [
      "RMSE: 1417.694077\n",
      "R2:  0.9564041028161769\n"
     ]
    }
   ],
   "source": [
    "preds_rf = reg_rf.predict(X_test_c)\n",
    "\n",
    "rmse = np.sqrt(mean_squared_error(y_test_c, preds_rf))\n",
    "print(\"RMSE: %f\" % (rmse))\n",
    "print(\"R2: \", r2)"
   ]
  },
  {
   "cell_type": "code",
   "execution_count": 24,
   "metadata": {},
   "outputs": [
    {
     "data": {
      "text/html": [
       "<div>\n",
       "<style scoped>\n",
       "    .dataframe tbody tr th:only-of-type {\n",
       "        vertical-align: middle;\n",
       "    }\n",
       "\n",
       "    .dataframe tbody tr th {\n",
       "        vertical-align: top;\n",
       "    }\n",
       "\n",
       "    .dataframe thead th {\n",
       "        text-align: right;\n",
       "    }\n",
       "</style>\n",
       "<table border=\"1\" class=\"dataframe\">\n",
       "  <thead>\n",
       "    <tr style=\"text-align: right;\">\n",
       "      <th></th>\n",
       "      <th>importance</th>\n",
       "    </tr>\n",
       "    <tr>\n",
       "      <th>features</th>\n",
       "      <th></th>\n",
       "    </tr>\n",
       "  </thead>\n",
       "  <tbody>\n",
       "    <tr>\n",
       "      <th>hp</th>\n",
       "      <td>0.452566</td>\n",
       "    </tr>\n",
       "    <tr>\n",
       "      <th>age</th>\n",
       "      <td>0.189630</td>\n",
       "    </tr>\n",
       "    <tr>\n",
       "      <th>km</th>\n",
       "      <td>0.072461</td>\n",
       "    </tr>\n",
       "    <tr>\n",
       "      <th>make_Audi</th>\n",
       "      <td>0.057877</td>\n",
       "    </tr>\n",
       "    <tr>\n",
       "      <th>model_Espace</th>\n",
       "      <td>0.046592</td>\n",
       "    </tr>\n",
       "    <tr>\n",
       "      <th>gearing_type_Manual</th>\n",
       "      <td>0.021433</td>\n",
       "    </tr>\n",
       "    <tr>\n",
       "      <th>model_Astra</th>\n",
       "      <td>0.017461</td>\n",
       "    </tr>\n",
       "    <tr>\n",
       "      <th>model_A3</th>\n",
       "      <td>0.013834</td>\n",
       "    </tr>\n",
       "    <tr>\n",
       "      <th>displacement</th>\n",
       "      <td>0.012800</td>\n",
       "    </tr>\n",
       "    <tr>\n",
       "      <th>cc_park_distance_control</th>\n",
       "      <td>0.012353</td>\n",
       "    </tr>\n",
       "  </tbody>\n",
       "</table>\n",
       "</div>"
      ],
      "text/plain": [
       "                          importance\n",
       "features                            \n",
       "hp                          0.452566\n",
       "age                         0.189630\n",
       "km                          0.072461\n",
       "make_Audi                   0.057877\n",
       "model_Espace                0.046592\n",
       "gearing_type_Manual         0.021433\n",
       "model_Astra                 0.017461\n",
       "model_A3                    0.013834\n",
       "displacement                0.012800\n",
       "cc_park_distance_control    0.012353"
      ]
     },
     "execution_count": 24,
     "metadata": {},
     "output_type": "execute_result"
    }
   ],
   "source": [
    "feature_importance = pd.DataFrame({'features':X_c.columns.values, 'importance':reg_rf.feature_importances_}).sort_values('importance', ascending=False)\n",
    "feature_importance.head(10).set_index('features')"
   ]
  },
  {
   "cell_type": "code",
   "execution_count": 27,
   "metadata": {},
   "outputs": [
    {
     "data": {
      "text/plain": [
       "<matplotlib.axes._subplots.AxesSubplot at 0x1a2d8c6438>"
      ]
     },
     "execution_count": 27,
     "metadata": {},
     "output_type": "execute_result"
    },
    {
     "data": {
      "image/png": "[encoded data removed]",
      "text/plain": [
       "<Figure size 432x288 with 1 Axes>"
      ]
     },
     "metadata": {
      "needs_background": "light"
     },
     "output_type": "display_data"
    }
   ],
   "source": [
    "feature_importance.set_index('features')[:10].plot.bar(rot=60)"
   ]
  },
  {
   "cell_type": "markdown",
   "metadata": {},
   "source": [
    "### XGBoost with Imputed Missing Values"
   ]
  },
  {
   "cell_type": "code",
   "execution_count": 28,
   "metadata": {},
   "outputs": [
    {
     "name": "stderr",
     "output_type": "stream",
     "text": [
      "/anaconda3/lib/python3.7/site-packages/xgboost/core.py:587: FutureWarning: Series.base is deprecated and will be removed in a future version\n",
      "  if getattr(data, 'base', None) is not None and \\\n"
     ]
    },
    {
     "name": "stdout",
     "output_type": "stream",
     "text": [
      "RMSE: 2166.499875\n"
     ]
    }
   ],
   "source": [
    "import xgboost as xgb\n",
    "\n",
    "xg_reg = xgb.XGBRegressor(objective ='reg:linear', colsample_bytree = 0.3, learning_rate = 0.1,\n",
    "                max_depth = 5, alpha = 10, n_estimators = 100)\n",
    "\n",
    "xg_reg.fit(X_train, y_train)\n",
    "\n",
    "preds = xg_reg.predict(X_test)\n",
    "\n",
    "rmse = np.sqrt(mean_squared_error(y_test, preds))\n",
    "print(\"RMSE: %f\" % (rmse))\n",
    "\n",
    "# Calculate evaluation metrics\n",
    "rmse, mae, r2 = eval_metrics(y_test, xg_reg.predict(X_test))\n",
    "\n",
    "# Log parameter, metrics, and model to MLflow\n",
    "mlflow.start_run(run_name=\"XGBoost Imputed\")\n",
    "mlflow.log_param(\"alpha\", 10)\n",
    "mlflow.log_param(\"max_depth\", 5)\n",
    "mlflow.log_metric(\"rmse\", rmse)\n",
    "mlflow.log_metric(\"mae\", mae)\n",
    "mlflow.log_metric(\"r2\", r2)\n",
    "mlflow.end_run()"
   ]
  },
  {
   "cell_type": "code",
   "execution_count": 29,
   "metadata": {},
   "outputs": [
    {
     "data": {
      "text/plain": [
       "<matplotlib.axes._subplots.AxesSubplot at 0x1a2dd13b00>"
      ]
     },
     "execution_count": 29,
     "metadata": {},
     "output_type": "execute_result"
    },
    {
     "data": {
      "image/png": "[encoded data removed]",
      "text/plain": [
       "<Figure size 432x288 with 1 Axes>"
      ]
     },
     "metadata": {
      "needs_background": "light"
     },
     "output_type": "display_data"
    }
   ],
   "source": [
    "xgb.plot_importance(xg_reg, max_num_features=20)"
   ]
  },
  {
   "cell_type": "markdown",
   "metadata": {},
   "source": [
    "### XGBoost with Dropped Missing Values"
   ]
  },
  {
   "cell_type": "code",
   "execution_count": 30,
   "metadata": {},
   "outputs": [
    {
     "name": "stderr",
     "output_type": "stream",
     "text": [
      "/anaconda3/lib/python3.7/site-packages/xgboost/core.py:587: FutureWarning: Series.base is deprecated and will be removed in a future version\n",
      "  if getattr(data, 'base', None) is not None and \\\n"
     ]
    },
    {
     "name": "stdout",
     "output_type": "stream",
     "text": [
      "RMSE: 1482.357043\n"
     ]
    }
   ],
   "source": [
    "import xgboost as xgb\n",
    "\n",
    "xg_reg = xgb.XGBRegressor(objective ='reg:linear', colsample_bytree = 0.3, learning_rate = 0.1,\n",
    "                max_depth = 5, alpha = 10, n_estimators = 100)\n",
    "\n",
    "xg_reg.fit(X_train_c, y_train_c)\n",
    "\n",
    "preds = xg_reg.predict(X_test_c)\n",
    "\n",
    "rmse = np.sqrt(mean_squared_error(y_test_c, preds))\n",
    "print(\"RMSE: %f\" % (rmse))\n",
    "\n",
    "# Calculate evaluation metrics\n",
    "rmse, mae, r2 = eval_metrics(y_test_c, xg_reg.predict(X_test_c))\n",
    "\n",
    "# Log parameter, metrics, and model to MLflow\n",
    "mlflow.start_run(run_name=\"XGBoost - 'Dropped Missing'\")\n",
    "mlflow.log_param(\"alpha\", 10)\n",
    "mlflow.log_param(\"max_depth\", 5)\n",
    "mlflow.log_metric(\"rmse\", rmse)\n",
    "mlflow.log_metric(\"mae\", mae)\n",
    "mlflow.log_metric(\"r2\", r2)\n",
    "mlflow.end_run()"
   ]
  },
  {
   "cell_type": "code",
   "execution_count": 31,
   "metadata": {},
   "outputs": [
    {
     "data": {
      "text/plain": [
       "<matplotlib.axes._subplots.AxesSubplot at 0x1a2e0c4278>"
      ]
     },
     "execution_count": 31,
     "metadata": {},
     "output_type": "execute_result"
    },
    {
     "data": {
      "image/png": "[encoded data removed]",
      "text/plain": [
       "<Figure size 432x288 with 1 Axes>"
      ]
     },
     "metadata": {
      "needs_background": "light"
     },
     "output_type": "display_data"
    }
   ],
   "source": [
    "xgb.plot_importance(xg_reg, max_num_features=20)"
   ]
  },
  {
   "cell_type": "markdown",
   "metadata": {},
   "source": [
    "### XGBoost with Missing Values"
   ]
  },
  {
   "cell_type": "code",
   "execution_count": 32,
   "metadata": {},
   "outputs": [],
   "source": [
    "# Create features and target (df)\n",
    "X_m = df_missing.drop('price', axis = 1) # features\n",
    "y_m = df_missing['price'] # target\n",
    "\n",
    "# Train-test split\n",
    "X_train_m, X_test_m, y_train_m, y_test_m = train_test_split(X_m, y_m, test_size = 0.3, random_state=57)"
   ]
  },
  {
   "cell_type": "code",
   "execution_count": 33,
   "metadata": {},
   "outputs": [
    {
     "name": "stderr",
     "output_type": "stream",
     "text": [
      "/anaconda3/lib/python3.7/site-packages/xgboost/core.py:587: FutureWarning: Series.base is deprecated and will be removed in a future version\n",
      "  if getattr(data, 'base', None) is not None and \\\n"
     ]
    },
    {
     "name": "stdout",
     "output_type": "stream",
     "text": [
      "RMSE: 1689.542295\n"
     ]
    }
   ],
   "source": [
    "xg_reg = xgb.XGBRegressor(objective ='reg:linear', colsample_bytree = 0.3, learning_rate = 0.1,\n",
    "                max_depth = 5, alpha = 10, n_estimators = 100)\n",
    "\n",
    "xg_reg.fit(X_train_m, y_train_m)\n",
    "\n",
    "preds = xg_reg.predict(X_test_m)\n",
    "\n",
    "rmse = np.sqrt(mean_squared_error(y_test_m, preds))\n",
    "print(\"RMSE: %f\" % (rmse))\n",
    "\n",
    "# Calculate evaluation metrics\n",
    "rmse, mae, r2 = eval_metrics(y_test_m, xg_reg.predict(X_test_m))\n",
    "\n",
    "# Log parameter, metrics, and model to MLflow\n",
    "mlflow.start_run(run_name=\"XGBoost NOT Imputed\")\n",
    "mlflow.log_param(\"alpha\", 10)\n",
    "mlflow.log_param(\"max_depth\", 5)\n",
    "mlflow.log_metric(\"rmse\", rmse)\n",
    "mlflow.log_metric(\"mae\", mae)\n",
    "mlflow.log_metric(\"r2\", r2)\n",
    "mlflow.end_run()"
   ]
  },
  {
   "cell_type": "code",
   "execution_count": 34,
   "metadata": {},
   "outputs": [
    {
     "data": {
      "text/plain": [
       "<matplotlib.axes._subplots.AxesSubplot at 0x1a2d93d940>"
      ]
     },
     "execution_count": 34,
     "metadata": {},
     "output_type": "execute_result"
    },
    {
     "data": {
      "image/png": "[encoded data removed]",
      "text/plain": [
       "<Figure size 432x288 with 1 Axes>"
      ]
     },
     "metadata": {
      "needs_background": "light"
     },
     "output_type": "display_data"
    }
   ],
   "source": [
    "xgb.plot_importance(xg_reg, max_num_features=20)"
   ]
  },
  {
   "cell_type": "markdown",
   "metadata": {},
   "source": [
    "## Save Model (4 features)"
   ]
  },
  {
   "cell_type": "code",
   "execution_count": 53,
   "metadata": {},
   "outputs": [],
   "source": [
    "# Import imputed data\n",
    "df_no_dummy = pd.read_pickle(\"autos_clean_no_dummy_20190805.pkl\")"
   ]
  },
  {
   "cell_type": "code",
   "execution_count": 5,
   "metadata": {},
   "outputs": [],
   "source": [
    "test_data = df_no_dummy[['hp', 'age', 'km', 'model', 'price']].copy()"
   ]
  },
  {
   "cell_type": "code",
   "execution_count": 62,
   "metadata": {},
   "outputs": [],
   "source": [
    "# Create features and target (df)\n",
    "X = pd.get_dummies(df_no_dummy[['hp', 'age', 'km', 'model']]) # features\n",
    "y = df_no_dummy['price'] # target"
   ]
  },
  {
   "cell_type": "code",
   "execution_count": 7,
   "metadata": {},
   "outputs": [
    {
     "data": {
      "text/html": [
       "<div>\n",
       "<style scoped>\n",
       "    .dataframe tbody tr th:only-of-type {\n",
       "        vertical-align: middle;\n",
       "    }\n",
       "\n",
       "    .dataframe tbody tr th {\n",
       "        vertical-align: top;\n",
       "    }\n",
       "\n",
       "    .dataframe thead th {\n",
       "        text-align: right;\n",
       "    }\n",
       "</style>\n",
       "<table border=\"1\" class=\"dataframe\">\n",
       "  <thead>\n",
       "    <tr style=\"text-align: right;\">\n",
       "      <th></th>\n",
       "      <th>hp</th>\n",
       "      <th>age</th>\n",
       "      <th>km</th>\n",
       "      <th>model_A1</th>\n",
       "      <th>model_A3</th>\n",
       "      <th>model_Astra</th>\n",
       "      <th>model_Clio</th>\n",
       "      <th>model_Corsa</th>\n",
       "      <th>model_Espace</th>\n",
       "      <th>model_Insignia</th>\n",
       "    </tr>\n",
       "  </thead>\n",
       "  <tbody>\n",
       "    <tr>\n",
       "      <th>0</th>\n",
       "      <td>66.0</td>\n",
       "      <td>3.0</td>\n",
       "      <td>56013.0</td>\n",
       "      <td>1</td>\n",
       "      <td>0</td>\n",
       "      <td>0</td>\n",
       "      <td>0</td>\n",
       "      <td>0</td>\n",
       "      <td>0</td>\n",
       "      <td>0</td>\n",
       "    </tr>\n",
       "    <tr>\n",
       "      <th>1</th>\n",
       "      <td>141.0</td>\n",
       "      <td>2.0</td>\n",
       "      <td>80000.0</td>\n",
       "      <td>1</td>\n",
       "      <td>0</td>\n",
       "      <td>0</td>\n",
       "      <td>0</td>\n",
       "      <td>0</td>\n",
       "      <td>0</td>\n",
       "      <td>0</td>\n",
       "    </tr>\n",
       "    <tr>\n",
       "      <th>2</th>\n",
       "      <td>85.0</td>\n",
       "      <td>3.0</td>\n",
       "      <td>83450.0</td>\n",
       "      <td>1</td>\n",
       "      <td>0</td>\n",
       "      <td>0</td>\n",
       "      <td>0</td>\n",
       "      <td>0</td>\n",
       "      <td>0</td>\n",
       "      <td>0</td>\n",
       "    </tr>\n",
       "    <tr>\n",
       "      <th>3</th>\n",
       "      <td>66.0</td>\n",
       "      <td>3.0</td>\n",
       "      <td>73000.0</td>\n",
       "      <td>1</td>\n",
       "      <td>0</td>\n",
       "      <td>0</td>\n",
       "      <td>0</td>\n",
       "      <td>0</td>\n",
       "      <td>0</td>\n",
       "      <td>0</td>\n",
       "    </tr>\n",
       "    <tr>\n",
       "      <th>4</th>\n",
       "      <td>66.0</td>\n",
       "      <td>3.0</td>\n",
       "      <td>16200.0</td>\n",
       "      <td>1</td>\n",
       "      <td>0</td>\n",
       "      <td>0</td>\n",
       "      <td>0</td>\n",
       "      <td>0</td>\n",
       "      <td>0</td>\n",
       "      <td>0</td>\n",
       "    </tr>\n",
       "  </tbody>\n",
       "</table>\n",
       "</div>"
      ],
      "text/plain": [
       "      hp  age       km  model_A1  model_A3  model_Astra  model_Clio  \\\n",
       "0   66.0  3.0  56013.0         1         0            0           0   \n",
       "1  141.0  2.0  80000.0         1         0            0           0   \n",
       "2   85.0  3.0  83450.0         1         0            0           0   \n",
       "3   66.0  3.0  73000.0         1         0            0           0   \n",
       "4   66.0  3.0  16200.0         1         0            0           0   \n",
       "\n",
       "   model_Corsa  model_Espace  model_Insignia  \n",
       "0            0             0               0  \n",
       "1            0             0               0  \n",
       "2            0             0               0  \n",
       "3            0             0               0  \n",
       "4            0             0               0  "
      ]
     },
     "execution_count": 7,
     "metadata": {},
     "output_type": "execute_result"
    }
   ],
   "source": [
    "X.head()"
   ]
  },
  {
   "cell_type": "code",
   "execution_count": 8,
   "metadata": {},
   "outputs": [
    {
     "data": {
      "text/plain": [
       "0    15770\n",
       "1    14500\n",
       "2    14640\n",
       "3    14500\n",
       "4    16790\n",
       "Name: price, dtype: int64"
      ]
     },
     "execution_count": 8,
     "metadata": {},
     "output_type": "execute_result"
    }
   ],
   "source": [
    "y.head()"
   ]
  },
  {
   "cell_type": "code",
   "execution_count": 9,
   "metadata": {},
   "outputs": [],
   "source": [
    "# Train-test split\n",
    "X_train, X_test, y_train, y_test = train_test_split(X, y, test_size = 0.3, random_state=57)"
   ]
  },
  {
   "cell_type": "code",
   "execution_count": 13,
   "metadata": {},
   "outputs": [
    {
     "name": "stdout",
     "output_type": "stream",
     "text": [
      "rmse: 2163.200001797414, mae: 1414.3157327062113, r2: 0.8984981590718838\n"
     ]
    }
   ],
   "source": [
    "reg_rf = RandomForestRegressor(n_estimators=100, random_state=57)\n",
    "\n",
    "reg_rf.fit(X_train, y_train)\n",
    "\n",
    "# Calculate evaluation metrics\n",
    "rmse, mae, r2 = eval_metrics(y_test, reg_rf.predict(X_test))\n",
    "\n",
    "print(\"rmse: {}, mae: {}, r2: {}\".format(rmse, mae, r2))"
   ]
  },
  {
   "cell_type": "code",
   "execution_count": 14,
   "metadata": {},
   "outputs": [],
   "source": [
    "from sklearn.model_selection import RandomizedSearchCV\n",
    "\n",
    "# Number of trees in random forest\n",
    "n_estimators = [int(x) for x in np.linspace(start = 100, stop = 2000, num = 10)]\n",
    "# Number of features to consider at every split\n",
    "max_features = ['auto', 'sqrt']\n",
    "# Maximum number of levels in tree\n",
    "max_depth = [int(x) for x in np.linspace(10, 110, num = 11)]\n",
    "max_depth.append(None)\n",
    "# Minimum number of samples required to split a node\n",
    "min_samples_split = [2, 5, 10]\n",
    "# Minimum number of samples required at each leaf node\n",
    "min_samples_leaf = [1, 2, 4]\n",
    "# Method of selecting samples for training each tree\n",
    "bootstrap = [True, False]\n",
    "\n",
    "# Create the random grid\n",
    "random_grid = {'n_estimators': n_estimators,\n",
    "               'max_features': max_features,\n",
    "               'max_depth': max_depth,\n",
    "               'min_samples_split': min_samples_split,\n",
    "               'min_samples_leaf': min_samples_leaf,\n",
    "               'bootstrap': bootstrap}"
   ]
  },
  {
   "cell_type": "code",
   "execution_count": 15,
   "metadata": {},
   "outputs": [
    {
     "name": "stdout",
     "output_type": "stream",
     "text": [
      "Fitting 3 folds for each of 10 candidates, totalling 30 fits\n"
     ]
    },
    {
     "name": "stderr",
     "output_type": "stream",
     "text": [
      "[Parallel(n_jobs=-1)]: Using backend LokyBackend with 4 concurrent workers.\n",
      "[Parallel(n_jobs=-1)]: Done  30 out of  30 | elapsed:  1.4min finished\n"
     ]
    },
    {
     "data": {
      "text/plain": [
       "RandomizedSearchCV(cv=3, error_score='raise-deprecating',\n",
       "                   estimator=RandomForestRegressor(bootstrap=True,\n",
       "                                                   criterion='mse',\n",
       "                                                   max_depth=None,\n",
       "                                                   max_features='auto',\n",
       "                                                   max_leaf_nodes=None,\n",
       "                                                   min_impurity_decrease=0.0,\n",
       "                                                   min_impurity_split=None,\n",
       "                                                   min_samples_leaf=1,\n",
       "                                                   min_samples_split=2,\n",
       "                                                   min_weight_fraction_leaf=0.0,\n",
       "                                                   n_estimators='warn',\n",
       "                                                   n_jobs=None, oob_score=False,\n",
       "                                                   random_sta...\n",
       "                   iid='warn', n_iter=10, n_jobs=-1,\n",
       "                   param_distributions={'bootstrap': [True, False],\n",
       "                                        'max_depth': [10, 20, 30, 40, 50, 60,\n",
       "                                                      70, 80, 90, 100, 110,\n",
       "                                                      None],\n",
       "                                        'max_features': ['auto', 'sqrt'],\n",
       "                                        'min_samples_leaf': [1, 2, 4],\n",
       "                                        'min_samples_split': [2, 5, 10],\n",
       "                                        'n_estimators': [100, 311, 522, 733,\n",
       "                                                         944, 1155, 1366, 1577,\n",
       "                                                         1788, 2000]},\n",
       "                   pre_dispatch='2*n_jobs', random_state=42, refit=True,\n",
       "                   return_train_score=False, scoring=None, verbose=2)"
      ]
     },
     "execution_count": 15,
     "metadata": {},
     "output_type": "execute_result"
    }
   ],
   "source": [
    "# Use the random grid to search for best hyperparameters\n",
    "# First create the base model to tune\n",
    "rf = RandomForestRegressor()\n",
    "# Random search of parameters, using 3 fold cross validation, \n",
    "# search across 100 different combinations, and use all available cores\n",
    "rf_random = RandomizedSearchCV(estimator = rf, param_distributions = random_grid, n_iter = 10, cv = 3, verbose=2, random_state=42, n_jobs = -1)\n",
    "# Fit the random search model\n",
    "rf_random.fit(X_train, y_train)"
   ]
  },
  {
   "cell_type": "code",
   "execution_count": 16,
   "metadata": {},
   "outputs": [
    {
     "data": {
      "text/plain": [
       "{'n_estimators': 100,\n",
       " 'min_samples_split': 10,\n",
       " 'min_samples_leaf': 2,\n",
       " 'max_features': 'sqrt',\n",
       " 'max_depth': 50,\n",
       " 'bootstrap': True}"
      ]
     },
     "execution_count": 16,
     "metadata": {},
     "output_type": "execute_result"
    }
   ],
   "source": [
    "rf_random.best_params_"
   ]
  },
  {
   "cell_type": "code",
   "execution_count": 17,
   "metadata": {},
   "outputs": [],
   "source": [
    "rf_best = rf_random.best_estimator_"
   ]
  },
  {
   "cell_type": "code",
   "execution_count": 18,
   "metadata": {},
   "outputs": [
    {
     "name": "stdout",
     "output_type": "stream",
     "text": [
      "rmse: 2040.853976857774, mae: 1364.244346204728, r2: 0.9096549351578558\n"
     ]
    }
   ],
   "source": [
    "# reg_rf = RandomForestRegressor(n_estimators=100, random_state=57)\n",
    "\n",
    "# reg_rf.fit(X_train, y_train)\n",
    "\n",
    "# Calculate evaluation metrics\n",
    "rmse, mae, r2 = eval_metrics(y_test, rf_best.predict(X_test))\n",
    "\n",
    "print(\"rmse: {}, mae: {}, r2: {}\".format(rmse, mae, r2))"
   ]
  },
  {
   "cell_type": "code",
   "execution_count": 56,
   "metadata": {},
   "outputs": [],
   "source": [
    "# Save RandomForest model\n",
    "# pickle.dump(rf_best, open('model_rf.pkl','wb'))"
   ]
  },
  {
   "cell_type": "code",
   "execution_count": 57,
   "metadata": {},
   "outputs": [
    {
     "data": {
      "text/plain": [
       "['hp',\n",
       " 'age',\n",
       " 'km',\n",
       " 'model_A1',\n",
       " 'model_A3',\n",
       " 'model_Astra',\n",
       " 'model_Clio',\n",
       " 'model_Corsa',\n",
       " 'model_Espace',\n",
       " 'model_Insignia']"
      ]
     },
     "execution_count": 57,
     "metadata": {},
     "output_type": "execute_result"
    }
   ],
   "source": [
    "list(X.columns)"
   ]
  },
  {
   "cell_type": "code",
   "execution_count": 58,
   "metadata": {},
   "outputs": [],
   "source": [
    "# Save column names to persist the features in deployment phase\n",
    "# pickle.dump(list(X.columns), open('model_features.pkl','wb'))"
   ]
  },
  {
   "cell_type": "code",
   "execution_count": 70,
   "metadata": {},
   "outputs": [],
   "source": [
    "test_data['prediction'] = rf_best.predict(X)"
   ]
  },
  {
   "cell_type": "code",
   "execution_count": 20,
   "metadata": {},
   "outputs": [
    {
     "data": {
      "text/html": [
       "<div>\n",
       "<style scoped>\n",
       "    .dataframe tbody tr th:only-of-type {\n",
       "        vertical-align: middle;\n",
       "    }\n",
       "\n",
       "    .dataframe tbody tr th {\n",
       "        vertical-align: top;\n",
       "    }\n",
       "\n",
       "    .dataframe thead th {\n",
       "        text-align: right;\n",
       "    }\n",
       "</style>\n",
       "<table border=\"1\" class=\"dataframe\">\n",
       "  <thead>\n",
       "    <tr style=\"text-align: right;\">\n",
       "      <th></th>\n",
       "      <th>hp</th>\n",
       "      <th>age</th>\n",
       "      <th>km</th>\n",
       "      <th>model</th>\n",
       "      <th>price</th>\n",
       "      <th>prediction</th>\n",
       "    </tr>\n",
       "  </thead>\n",
       "  <tbody>\n",
       "    <tr>\n",
       "      <th>7281</th>\n",
       "      <td>77.0</td>\n",
       "      <td>1.0</td>\n",
       "      <td>991.0</td>\n",
       "      <td>Astra</td>\n",
       "      <td>15449</td>\n",
       "      <td>15517.079943</td>\n",
       "    </tr>\n",
       "    <tr>\n",
       "      <th>4933</th>\n",
       "      <td>85.0</td>\n",
       "      <td>1.0</td>\n",
       "      <td>7717.0</td>\n",
       "      <td>A3</td>\n",
       "      <td>20890</td>\n",
       "      <td>22039.546147</td>\n",
       "    </tr>\n",
       "    <tr>\n",
       "      <th>6779</th>\n",
       "      <td>81.0</td>\n",
       "      <td>2.0</td>\n",
       "      <td>30322.0</td>\n",
       "      <td>Astra</td>\n",
       "      <td>12990</td>\n",
       "      <td>12781.086191</td>\n",
       "    </tr>\n",
       "    <tr>\n",
       "      <th>13070</th>\n",
       "      <td>87.0</td>\n",
       "      <td>1.0</td>\n",
       "      <td>11100.0</td>\n",
       "      <td>Clio</td>\n",
       "      <td>13950</td>\n",
       "      <td>16126.151766</td>\n",
       "    </tr>\n",
       "    <tr>\n",
       "      <th>7410</th>\n",
       "      <td>66.0</td>\n",
       "      <td>0.0</td>\n",
       "      <td>10.0</td>\n",
       "      <td>Astra</td>\n",
       "      <td>14990</td>\n",
       "      <td>16673.188099</td>\n",
       "    </tr>\n",
       "  </tbody>\n",
       "</table>\n",
       "</div>"
      ],
      "text/plain": [
       "         hp  age       km  model  price    prediction\n",
       "7281   77.0  1.0    991.0  Astra  15449  15517.079943\n",
       "4933   85.0  1.0   7717.0     A3  20890  22039.546147\n",
       "6779   81.0  2.0  30322.0  Astra  12990  12781.086191\n",
       "13070  87.0  1.0  11100.0   Clio  13950  16126.151766\n",
       "7410   66.0  0.0     10.0  Astra  14990  16673.188099"
      ]
     },
     "execution_count": 20,
     "metadata": {},
     "output_type": "execute_result"
    }
   ],
   "source": [
    "test_data.sample(5)"
   ]
  },
  {
   "cell_type": "code",
   "execution_count": 49,
   "metadata": {},
   "outputs": [
    {
     "data": {
      "image/png": "[encoded data removed]",
      "text/plain": [
       "<Figure size 1080x864 with 8 Axes>"
      ]
     },
     "metadata": {
      "needs_background": "light"
     },
     "output_type": "display_data"
    }
   ],
   "source": [
    "# Create subplots\n",
    "fig, ax = plt.subplots(2, 4, figsize=(15, 12))\n",
    "\n",
    "# Plot subplots\n",
    "i = 0\n",
    "j = 0\n",
    "\n",
    "for model in ['A1', 'A3', 'Astra', 'Clio', 'Corsa', 'Espace', 'Insignia']:\n",
    "    \n",
    "    df_no_dummy[df_no_dummy.model == model].boxplot('price', by='age', ax = ax[j, i])\n",
    "    ax[j, i].set_title(model)\n",
    "    # Next subplot\n",
    "    i += 1\n",
    "    \n",
    "    if i == 4:\n",
    "        i = 0\n",
    "        j = 1\n"
   ]
  },
  {
   "cell_type": "code",
   "execution_count": 54,
   "metadata": {},
   "outputs": [
    {
     "data": {
      "text/plain": [
       "A3          2287\n",
       "A1          1784\n",
       "Insignia    1660\n",
       "Astra       1567\n",
       "Corsa       1194\n",
       "Clio         870\n",
       "Espace       613\n",
       "Name: model, dtype: int64"
      ]
     },
     "execution_count": 54,
     "metadata": {},
     "output_type": "execute_result"
    }
   ],
   "source": [
    "df_no_dummy.model.value_counts()"
   ]
  },
  {
   "cell_type": "code",
   "execution_count": 61,
   "metadata": {},
   "outputs": [
    {
     "data": {
      "text/plain": [
       "<seaborn.axisgrid.PairGrid at 0x1a9ae28a20>"
      ]
     },
     "execution_count": 61,
     "metadata": {},
     "output_type": "execute_result"
    },
    {
     "data": {
      "image/png": "[encoded data removed]",
      "text/plain": [
       "<Figure size 360x360 with 6 Axes>"
      ]
     },
     "metadata": {},
     "output_type": "display_data"
    }
   ],
   "source": [
    "sns.pairplot(df_no_dummy[df_no_dummy.model=='Clio'][['age', 'price']], kind='reg')"
   ]
  },
  {
   "cell_type": "code",
   "execution_count": 63,
   "metadata": {},
   "outputs": [
    {
     "data": {
      "text/plain": [
       "(<9975x144744 sparse matrix of type '<class 'numpy.int64'>'\n",
       " \twith 13590462 stored elements in Compressed Sparse Row format>,\n",
       " array([     0,   1513,   3086,   4615,   6044,   7469,   8850,  10343,\n",
       "         11748,  13275,  14846,  16369,  17808,  19191,  20716,  22123,\n",
       "         23592,  25111,  26638,  28103,  29566,  31025,  32516,  33987,\n",
       "         35384,  36853,  38352,  39835,  41284,  42765,  44222,  45639,\n",
       "         46956,  48447,  49868,  51219,  52662,  54123,  55632,  57089,\n",
       "         58530,  59949,  61488,  62855,  64338,  65791,  67330,  68765,\n",
       "         70164,  71533,  72988,  74315,  75800,  77267,  78646,  80155,\n",
       "         81618,  82971,  84444,  85769,  87276,  88751,  90224,  91487,\n",
       "         92902,  94311,  95746,  97119,  98590,  99843, 101242, 102541,\n",
       "        103974, 105531, 106960, 108435, 109916, 111333, 112824, 114357,\n",
       "        115784, 117199, 118628, 120177, 121650, 123153, 124498, 125949,\n",
       "        127412, 128929, 130312, 131803, 133162, 134495, 135920, 137403,\n",
       "        138774, 140197, 141678, 143209, 144744]))"
      ]
     },
     "execution_count": 63,
     "metadata": {},
     "output_type": "execute_result"
    }
   ],
   "source": [
    "rf_best.decision_path(X)"
   ]
  },
  {
   "cell_type": "code",
   "execution_count": 71,
   "metadata": {},
   "outputs": [
    {
     "data": {
      "text/plain": [
       "RandomForestRegressor(bootstrap=True, criterion='mse', max_depth=50,\n",
       "                      max_features='sqrt', max_leaf_nodes=None,\n",
       "                      min_impurity_decrease=0.0, min_impurity_split=None,\n",
       "                      min_samples_leaf=2, min_samples_split=10,\n",
       "                      min_weight_fraction_leaf=0.0, n_estimators=100,\n",
       "                      n_jobs=None, oob_score=False, random_state=None,\n",
       "                      verbose=0, warm_start=False)"
      ]
     },
     "execution_count": 71,
     "metadata": {},
     "output_type": "execute_result"
    }
   ],
   "source": [
    "rf_best"
   ]
  },
  {
   "cell_type": "code",
   "execution_count": 74,
   "metadata": {},
   "outputs": [
    {
     "data": {
      "text/plain": [
       "RandomForestRegressor(bootstrap=True, criterion='mse', max_depth=50,\n",
       "                      max_features='sqrt', max_leaf_nodes=None,\n",
       "                      min_impurity_decrease=0.0, min_impurity_split=None,\n",
       "                      min_samples_leaf=2, min_samples_split=10,\n",
       "                      min_weight_fraction_leaf=0.0, n_estimators=100,\n",
       "                      n_jobs=None, oob_score=False, random_state=None,\n",
       "                      verbose=0, warm_start=False)"
      ]
     },
     "execution_count": 74,
     "metadata": {},
     "output_type": "execute_result"
    }
   ],
   "source": [
    "rf_best.fit(X_train, y_train)"
   ]
  },
  {
   "cell_type": "code",
   "execution_count": 84,
   "metadata": {},
   "outputs": [],
   "source": [
    "import graphviz\n",
    "import pydot\n",
    "\n",
    "\n",
    "tree = rf_best.estimators_[5]\n",
    "# Export the image to a dot file\n",
    "export_graphviz(tree, out_file = 'tree.dot', feature_names = X_train.columns, \n",
    "rounded = True, precision = 1)\n",
    "# Use dot file to create a graph\n",
    "(graph, ) = pydot.graph_from_dot_file('tree.dot')\n",
    "# Write graph to a png file\n",
    "graph.write_png('tree.png')"
   ]
  },
  {
   "cell_type": "code",
   "execution_count": 98,
   "metadata": {},
   "outputs": [],
   "source": [
    "from statsmodels.graphics.factorplots import interaction_plot"
   ]
  },
  {
   "cell_type": "code",
   "execution_count": 105,
   "metadata": {},
   "outputs": [
    {
     "data": {
      "image/png": "[encoded data removed]",
      "text/plain": [
       "<Figure size 432x288 with 1 Axes>"
      ]
     },
     "metadata": {},
     "output_type": "display_data"
    }
   ],
   "source": [
    "fig = interaction_plot(df_no_dummy.age, df_no_dummy.model, df_no_dummy.price)\n",
    "plt.show()"
   ]
  },
  {
   "cell_type": "code",
   "execution_count": null,
   "metadata": {},
   "outputs": [],
   "source": []
  }
 ],
 "metadata": {
  "kernelspec": {
   "display_name": "Python 3",
   "language": "python",
   "name": "python3"
  },
  "language_info": {
   "codemirror_mode": {
    "name": "ipython",
    "version": 3
   },
   "file_extension": ".py",
   "mimetype": "text/x-python",
   "name": "python",
   "nbconvert_exporter": "python",
   "pygments_lexer": "ipython3",
   "version": "3.7.3"
  }
 },
 "nbformat": 4,
 "nbformat_minor": 4
}
