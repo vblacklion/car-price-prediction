{
 "cells": [
  {
   "cell_type": "markdown",
   "metadata": {},
   "source": [
    "# Data Cleansing"
   ]
  },
  {
   "cell_type": "markdown",
   "metadata": {},
   "source": [
    "- [Data Understanding](#Data-Understanding)\n",
    "    * Reading in and Exploring Data\n",
    "    * Dealing with Column Names\n",
    "    * Slicing Dataset\n",
    "- [Cleaning and Exploring Columns](#Cleaning-and-Exploring-Columns)\n",
    "    * [Safety & Security](#Safety-&-Security)\n",
    "    * [Model](#Model)\n",
    "    * [Make](#Make)\n",
    "    * [Model2](#Model2)\n",
    "    * [Model Code](#Model-Code)\n",
    "    * [Country Version](#Country-Version)\n",
    "    * [CO2 Emission](#CO2-Emission)\n",
    "    \n",
    "    * [Consumption](#Consumption)\n",
    "    * [Cylinders](#Cylinders)\n",
    "    * [Displacement](#Displacement)\n",
    "    * [Next Inspection](#Next-Inspection)\n",
    "    * [Non-smoking Vehicle](#Non-smoking-Vehicle)\n",
    "    * [Body Type](#Body-Type)\n",
    "    * [Hp](#Hp)\n",
    "    * [Kw](#Kw)\n",
    "    * [Km](#Km)\n",
    "    * [Offer Number](#Offer-Number)\n",
    "    * [Description](#Description)\n",
    "    ---\n",
    "    _Additional Columns for Further Investigation_\n",
    "    * [Price](#Price)\n",
    "    * [Registration](#Registration)"
   ]
  },
  {
   "cell_type": "markdown",
   "metadata": {},
   "source": [
    "## Data Understanding"
   ]
  },
  {
   "cell_type": "code",
   "execution_count": 1,
   "metadata": {},
   "outputs": [],
   "source": [
    "# Import necessay modules\n",
    "import json\n",
    "import pandas as pd\n",
    "import numpy as np\n",
    "\n",
    "import matplotlib.pyplot as plt\n",
    "%matplotlib inline\n",
    "\n",
    "import seaborn as sns\n",
    "\n",
    "# Display 100 columns max\n",
    "pd.set_option('display.max_columns', 100)"
   ]
  },
  {
   "cell_type": "code",
   "execution_count": 2,
   "metadata": {},
   "outputs": [],
   "source": [
    "# Initiate directory paths\n",
    "data_folder = '/Users/stb/Documents/Github/fraud-detection/data/'"
   ]
  },
  {
   "cell_type": "markdown",
   "metadata": {},
   "source": [
    "### Reading in and Exploring Data"
   ]
  },
  {
   "cell_type": "code",
   "execution_count": 3,
   "metadata": {},
   "outputs": [],
   "source": [
    "ads_list = []\n",
    "with open(data_folder + 'autos_20190626.json','r') as file:\n",
    "    for ad in file:\n",
    "        ad_obj = json.loads(ad)\n",
    "        ads_list.append(ad_obj)\n",
    "autos = pd.DataFrame(ads_list)"
   ]
  },
  {
   "cell_type": "code",
   "execution_count": 4,
   "metadata": {},
   "outputs": [
    {
     "data": {
      "text/html": [
       "<div>\n",
       "<style scoped>\n",
       "    .dataframe tbody tr th:only-of-type {\n",
       "        vertical-align: middle;\n",
       "    }\n",
       "\n",
       "    .dataframe tbody tr th {\n",
       "        vertical-align: top;\n",
       "    }\n",
       "\n",
       "    .dataframe thead th {\n",
       "        text-align: right;\n",
       "    }\n",
       "</style>\n",
       "<table border=\"1\" class=\"dataframe\">\n",
       "  <thead>\n",
       "    <tr style=\"text-align: right;\">\n",
       "      <th></th>\n",
       "      <th>Comfort &amp; Convenience</th>\n",
       "      <th>Entertainment &amp; Media</th>\n",
       "      <th>Extras</th>\n",
       "      <th>Safety &amp; Security</th>\n",
       "      <th>Availability</th>\n",
       "      <th>Available from</th>\n",
       "      <th>Body</th>\n",
       "      <th>Body Color</th>\n",
       "      <th>Body Color Original</th>\n",
       "      <th>CO2 Emission</th>\n",
       "      <th>Consumption</th>\n",
       "      <th>Country version</th>\n",
       "      <th>Cylinders</th>\n",
       "      <th>Displacement</th>\n",
       "      <th>Drive chain</th>\n",
       "      <th>Electricity consumption</th>\n",
       "      <th>Emission Class</th>\n",
       "      <th>Emission Label</th>\n",
       "      <th>First Registration</th>\n",
       "      <th>Fuel</th>\n",
       "      <th>Full Service</th>\n",
       "      <th>Gearing Type</th>\n",
       "      <th>Gears</th>\n",
       "      <th>Inspection new</th>\n",
       "      <th>Last Service Date</th>\n",
       "      <th>Last Timing Belt Service Date</th>\n",
       "      <th>Make</th>\n",
       "      <th>Model</th>\n",
       "      <th>Model Code</th>\n",
       "      <th>Next Inspection</th>\n",
       "      <th>Non-smoking Vehicle</th>\n",
       "      <th>Nr. of Doors</th>\n",
       "      <th>Nr. of Seats</th>\n",
       "      <th>Offer Number</th>\n",
       "      <th>Other Fuel Types</th>\n",
       "      <th>Paint Type</th>\n",
       "      <th>Previous Owners</th>\n",
       "      <th>Type</th>\n",
       "      <th>Upholstery</th>\n",
       "      <th>Warranty</th>\n",
       "      <th>Weight</th>\n",
       "      <th>body_type</th>\n",
       "      <th>description</th>\n",
       "      <th>hp</th>\n",
       "      <th>kW</th>\n",
       "      <th>km</th>\n",
       "      <th>make_model</th>\n",
       "      <th>null</th>\n",
       "      <th>prev_owner</th>\n",
       "      <th>price</th>\n",
       "      <th>registration</th>\n",
       "      <th>short_description</th>\n",
       "      <th>url</th>\n",
       "      <th>vat</th>\n",
       "    </tr>\n",
       "  </thead>\n",
       "  <tbody>\n",
       "    <tr>\n",
       "      <th>0</th>\n",
       "      <td>[Air conditioning, Armrest, Automatic climate ...</td>\n",
       "      <td>[Bluetooth, Hands-free equipment, On-board com...</td>\n",
       "      <td>[Alloy wheels, Catalytic Converter, Voice Cont...</td>\n",
       "      <td>[ABS, Central door lock, Daytime running light...</td>\n",
       "      <td>NaN</td>\n",
       "      <td>NaN</td>\n",
       "      <td>[\\n, Sedans, \\n]</td>\n",
       "      <td>[\\n, Black, \\n]</td>\n",
       "      <td>[\\nMythosschwarz\\n]</td>\n",
       "      <td>[\\n99 g CO2/km (comb)\\n]</td>\n",
       "      <td>[[3.8 l/100 km (comb)], [4.3 l/100 km (city)],...</td>\n",
       "      <td>NaN</td>\n",
       "      <td>[\\n3\\n]</td>\n",
       "      <td>[\\n1,422 cc\\n]</td>\n",
       "      <td>[\\nfront\\n]</td>\n",
       "      <td>NaN</td>\n",
       "      <td>[\\nEuro 6\\n]</td>\n",
       "      <td>NaN</td>\n",
       "      <td>[\\n, 2016, \\n]</td>\n",
       "      <td>[\\n, Diesel (Particulate Filter), \\n]</td>\n",
       "      <td>[\\n, \\n]</td>\n",
       "      <td>[\\n, Automatic, \\n]</td>\n",
       "      <td>NaN</td>\n",
       "      <td>[\\nYes\\n, \\nEuro 6\\n]</td>\n",
       "      <td>NaN</td>\n",
       "      <td>NaN</td>\n",
       "      <td>\\nAudi\\n</td>\n",
       "      <td>[\\n, A1, \\n]</td>\n",
       "      <td>[\\n0588/BDF\\n]</td>\n",
       "      <td>[\\n06/2021\\n, \\n99 g CO2/km (comb)\\n]</td>\n",
       "      <td>[\\n, \\n]</td>\n",
       "      <td>[\\n5\\n]</td>\n",
       "      <td>[\\n5\\n]</td>\n",
       "      <td>[\\nLR-062483\\n]</td>\n",
       "      <td>NaN</td>\n",
       "      <td>[\\nMetallic\\n]</td>\n",
       "      <td>\\n2\\n</td>\n",
       "      <td>[, Used, , Diesel (Particulate Filter)]</td>\n",
       "      <td>[\\nCloth, Black\\n]</td>\n",
       "      <td>[\\n, \\n, \\n4 (Green)\\n]</td>\n",
       "      <td>[\\n1,220 kg\\n]</td>\n",
       "      <td>Sedans</td>\n",
       "      <td>[\\n, Sicherheit:,  , Deaktivierung für Beifahr...</td>\n",
       "      <td>66 kW</td>\n",
       "      <td>None</td>\n",
       "      <td>56,013 km</td>\n",
       "      <td>Audi A1</td>\n",
       "      <td>[]</td>\n",
       "      <td>2 previous owners</td>\n",
       "      <td>15770</td>\n",
       "      <td>01/2016</td>\n",
       "      <td>Sportback 1.4 TDI S-tronic Xenon Navi Klima</td>\n",
       "      <td>https://www.autoscout24.com//offers/audi-a1-sp...</td>\n",
       "      <td>VAT deductible</td>\n",
       "    </tr>\n",
       "    <tr>\n",
       "      <th>1</th>\n",
       "      <td>[Air conditioning, Automatic climate control, ...</td>\n",
       "      <td>[Bluetooth, Hands-free equipment, On-board com...</td>\n",
       "      <td>[Alloy wheels, Sport seats, Sport suspension, ...</td>\n",
       "      <td>[ABS, Central door lock, Central door lock wit...</td>\n",
       "      <td>NaN</td>\n",
       "      <td>NaN</td>\n",
       "      <td>[\\n, Sedans, \\n]</td>\n",
       "      <td>[\\n, Red, \\n]</td>\n",
       "      <td>NaN</td>\n",
       "      <td>[\\n129 g CO2/km (comb)\\n]</td>\n",
       "      <td>[[5.6 l/100 km (comb)], [7.1 l/100 km (city)],...</td>\n",
       "      <td>NaN</td>\n",
       "      <td>[\\n4\\n]</td>\n",
       "      <td>[\\n1,798 cc\\n]</td>\n",
       "      <td>[\\nfront\\n]</td>\n",
       "      <td>NaN</td>\n",
       "      <td>[\\nEuro 6\\n]</td>\n",
       "      <td>[\\n4 (Green)\\n]</td>\n",
       "      <td>[\\n, 2017, \\n]</td>\n",
       "      <td>[\\n, Gasoline, \\n]</td>\n",
       "      <td>NaN</td>\n",
       "      <td>[\\n, Automatic, \\n]</td>\n",
       "      <td>[\\n7\\n]</td>\n",
       "      <td>NaN</td>\n",
       "      <td>NaN</td>\n",
       "      <td>NaN</td>\n",
       "      <td>\\nAudi\\n</td>\n",
       "      <td>[\\n, A1, \\n]</td>\n",
       "      <td>[\\n0588/BCY\\n]</td>\n",
       "      <td>NaN</td>\n",
       "      <td>NaN</td>\n",
       "      <td>[\\n3\\n]</td>\n",
       "      <td>[\\n4\\n]</td>\n",
       "      <td>NaN</td>\n",
       "      <td>NaN</td>\n",
       "      <td>NaN</td>\n",
       "      <td>NaN</td>\n",
       "      <td>[, Used, , Gasoline]</td>\n",
       "      <td>[\\nCloth, Grey\\n]</td>\n",
       "      <td>NaN</td>\n",
       "      <td>[\\n1,255 kg\\n]</td>\n",
       "      <td>Sedans</td>\n",
       "      <td>[\\nLangstreckenfahrzeug daher die hohe Kilomet...</td>\n",
       "      <td>141 kW</td>\n",
       "      <td>None</td>\n",
       "      <td>80,000 km</td>\n",
       "      <td>Audi A1</td>\n",
       "      <td>[]</td>\n",
       "      <td>None</td>\n",
       "      <td>14500</td>\n",
       "      <td>03/2017</td>\n",
       "      <td>1.8 TFSI sport</td>\n",
       "      <td>https://www.autoscout24.com//offers/audi-a1-1-...</td>\n",
       "      <td>Price negotiable</td>\n",
       "    </tr>\n",
       "    <tr>\n",
       "      <th>2</th>\n",
       "      <td>[Air conditioning, Cruise control, Electrical ...</td>\n",
       "      <td>[MP3, On-board computer]</td>\n",
       "      <td>[Alloy wheels, Voice Control]</td>\n",
       "      <td>[ABS, Central door lock, Daytime running light...</td>\n",
       "      <td>NaN</td>\n",
       "      <td>NaN</td>\n",
       "      <td>[\\n, Sedans, \\n]</td>\n",
       "      <td>[\\n, Black, \\n]</td>\n",
       "      <td>[\\nmythosschwarz metallic\\n]</td>\n",
       "      <td>[\\n99 g CO2/km (comb)\\n]</td>\n",
       "      <td>[[3.8 l/100 km (comb)], [4.4 l/100 km (city)],...</td>\n",
       "      <td>NaN</td>\n",
       "      <td>NaN</td>\n",
       "      <td>[\\n1,598 cc\\n]</td>\n",
       "      <td>[\\nfront\\n]</td>\n",
       "      <td>NaN</td>\n",
       "      <td>[\\nEuro 6\\n]</td>\n",
       "      <td>[\\n4 (Green)\\n]</td>\n",
       "      <td>[\\n, 2016, \\n]</td>\n",
       "      <td>[\\n, Diesel (Particulate Filter), \\n]</td>\n",
       "      <td>NaN</td>\n",
       "      <td>[\\n, Automatic, \\n]</td>\n",
       "      <td>NaN</td>\n",
       "      <td>NaN</td>\n",
       "      <td>NaN</td>\n",
       "      <td>NaN</td>\n",
       "      <td>\\nAudi\\n</td>\n",
       "      <td>[\\n, A1, \\n]</td>\n",
       "      <td>NaN</td>\n",
       "      <td>NaN</td>\n",
       "      <td>NaN</td>\n",
       "      <td>[\\n4\\n]</td>\n",
       "      <td>[\\n4\\n]</td>\n",
       "      <td>[\\nAM-95365\\n]</td>\n",
       "      <td>NaN</td>\n",
       "      <td>[\\nMetallic\\n]</td>\n",
       "      <td>\\n1\\n</td>\n",
       "      <td>[, Used, , Diesel (Particulate Filter)]</td>\n",
       "      <td>[\\nCloth, Black\\n]</td>\n",
       "      <td>[\\n, \\n, \\n99 g CO2/km (comb)\\n]</td>\n",
       "      <td>NaN</td>\n",
       "      <td>Sedans</td>\n",
       "      <td>[\\n, Fahrzeug-Nummer: AM-95365,  , Ehem. UPE 2...</td>\n",
       "      <td>85 kW</td>\n",
       "      <td>None</td>\n",
       "      <td>83,450 km</td>\n",
       "      <td>Audi A1</td>\n",
       "      <td>[]</td>\n",
       "      <td>1 previous owner</td>\n",
       "      <td>14640</td>\n",
       "      <td>02/2016</td>\n",
       "      <td>Sportback 1.6 TDI S tronic Einparkhilfe plus+m...</td>\n",
       "      <td>https://www.autoscout24.com//offers/audi-a1-sp...</td>\n",
       "      <td>VAT deductible</td>\n",
       "    </tr>\n",
       "  </tbody>\n",
       "</table>\n",
       "</div>"
      ],
      "text/plain": [
       "                           \\nComfort & Convenience\\n  \\\n",
       "0  [Air conditioning, Armrest, Automatic climate ...   \n",
       "1  [Air conditioning, Automatic climate control, ...   \n",
       "2  [Air conditioning, Cruise control, Electrical ...   \n",
       "\n",
       "                           \\nEntertainment & Media\\n  \\\n",
       "0  [Bluetooth, Hands-free equipment, On-board com...   \n",
       "1  [Bluetooth, Hands-free equipment, On-board com...   \n",
       "2                           [MP3, On-board computer]   \n",
       "\n",
       "                                          \\nExtras\\n  \\\n",
       "0  [Alloy wheels, Catalytic Converter, Voice Cont...   \n",
       "1  [Alloy wheels, Sport seats, Sport suspension, ...   \n",
       "2                      [Alloy wheels, Voice Control]   \n",
       "\n",
       "                               \\nSafety & Security\\n Availability  \\\n",
       "0  [ABS, Central door lock, Daytime running light...          NaN   \n",
       "1  [ABS, Central door lock, Central door lock wit...          NaN   \n",
       "2  [ABS, Central door lock, Daytime running light...          NaN   \n",
       "\n",
       "  Available from              Body       Body Color  \\\n",
       "0            NaN  [\\n, Sedans, \\n]  [\\n, Black, \\n]   \n",
       "1            NaN  [\\n, Sedans, \\n]    [\\n, Red, \\n]   \n",
       "2            NaN  [\\n, Sedans, \\n]  [\\n, Black, \\n]   \n",
       "\n",
       "            Body Color Original               CO2 Emission  \\\n",
       "0           [\\nMythosschwarz\\n]   [\\n99 g CO2/km (comb)\\n]   \n",
       "1                           NaN  [\\n129 g CO2/km (comb)\\n]   \n",
       "2  [\\nmythosschwarz metallic\\n]   [\\n99 g CO2/km (comb)\\n]   \n",
       "\n",
       "                                         Consumption Country version  \\\n",
       "0  [[3.8 l/100 km (comb)], [4.3 l/100 km (city)],...             NaN   \n",
       "1  [[5.6 l/100 km (comb)], [7.1 l/100 km (city)],...             NaN   \n",
       "2  [[3.8 l/100 km (comb)], [4.4 l/100 km (city)],...             NaN   \n",
       "\n",
       "  Cylinders    Displacement  Drive chain Electricity consumption  \\\n",
       "0   [\\n3\\n]  [\\n1,422 cc\\n]  [\\nfront\\n]                     NaN   \n",
       "1   [\\n4\\n]  [\\n1,798 cc\\n]  [\\nfront\\n]                     NaN   \n",
       "2       NaN  [\\n1,598 cc\\n]  [\\nfront\\n]                     NaN   \n",
       "\n",
       "  Emission Class   Emission Label First Registration  \\\n",
       "0   [\\nEuro 6\\n]              NaN     [\\n, 2016, \\n]   \n",
       "1   [\\nEuro 6\\n]  [\\n4 (Green)\\n]     [\\n, 2017, \\n]   \n",
       "2   [\\nEuro 6\\n]  [\\n4 (Green)\\n]     [\\n, 2016, \\n]   \n",
       "\n",
       "                                    Fuel Full Service         Gearing Type  \\\n",
       "0  [\\n, Diesel (Particulate Filter), \\n]     [\\n, \\n]  [\\n, Automatic, \\n]   \n",
       "1                     [\\n, Gasoline, \\n]          NaN  [\\n, Automatic, \\n]   \n",
       "2  [\\n, Diesel (Particulate Filter), \\n]          NaN  [\\n, Automatic, \\n]   \n",
       "\n",
       "     Gears         Inspection new Last Service Date  \\\n",
       "0      NaN  [\\nYes\\n, \\nEuro 6\\n]               NaN   \n",
       "1  [\\n7\\n]                    NaN               NaN   \n",
       "2      NaN                    NaN               NaN   \n",
       "\n",
       "  Last Timing Belt Service Date      Make         Model      Model Code  \\\n",
       "0                           NaN  \\nAudi\\n  [\\n, A1, \\n]  [\\n0588/BDF\\n]   \n",
       "1                           NaN  \\nAudi\\n  [\\n, A1, \\n]  [\\n0588/BCY\\n]   \n",
       "2                           NaN  \\nAudi\\n  [\\n, A1, \\n]             NaN   \n",
       "\n",
       "                         Next Inspection Non-smoking Vehicle Nr. of Doors  \\\n",
       "0  [\\n06/2021\\n, \\n99 g CO2/km (comb)\\n]            [\\n, \\n]      [\\n5\\n]   \n",
       "1                                    NaN                 NaN      [\\n3\\n]   \n",
       "2                                    NaN                 NaN      [\\n4\\n]   \n",
       "\n",
       "  Nr. of Seats     Offer Number Other Fuel Types      Paint Type  \\\n",
       "0      [\\n5\\n]  [\\nLR-062483\\n]              NaN  [\\nMetallic\\n]   \n",
       "1      [\\n4\\n]              NaN              NaN             NaN   \n",
       "2      [\\n4\\n]   [\\nAM-95365\\n]              NaN  [\\nMetallic\\n]   \n",
       "\n",
       "  Previous Owners                                     Type  \\\n",
       "0           \\n2\\n  [, Used, , Diesel (Particulate Filter)]   \n",
       "1             NaN                     [, Used, , Gasoline]   \n",
       "2           \\n1\\n  [, Used, , Diesel (Particulate Filter)]   \n",
       "\n",
       "           Upholstery                          Warranty          Weight  \\\n",
       "0  [\\nCloth, Black\\n]           [\\n, \\n, \\n4 (Green)\\n]  [\\n1,220 kg\\n]   \n",
       "1   [\\nCloth, Grey\\n]                               NaN  [\\n1,255 kg\\n]   \n",
       "2  [\\nCloth, Black\\n]  [\\n, \\n, \\n99 g CO2/km (comb)\\n]             NaN   \n",
       "\n",
       "  body_type                                        description      hp    kW  \\\n",
       "0    Sedans  [\\n, Sicherheit:,  , Deaktivierung für Beifahr...   66 kW  None   \n",
       "1    Sedans  [\\nLangstreckenfahrzeug daher die hohe Kilomet...  141 kW  None   \n",
       "2    Sedans  [\\n, Fahrzeug-Nummer: AM-95365,  , Ehem. UPE 2...   85 kW  None   \n",
       "\n",
       "          km make_model null         prev_owner  price registration  \\\n",
       "0  56,013 km    Audi A1   []  2 previous owners  15770      01/2016   \n",
       "1  80,000 km    Audi A1   []               None  14500      03/2017   \n",
       "2  83,450 km    Audi A1   []   1 previous owner  14640      02/2016   \n",
       "\n",
       "                                   short_description  \\\n",
       "0        Sportback 1.4 TDI S-tronic Xenon Navi Klima   \n",
       "1                                     1.8 TFSI sport   \n",
       "2  Sportback 1.6 TDI S tronic Einparkhilfe plus+m...   \n",
       "\n",
       "                                                 url               vat  \n",
       "0  https://www.autoscout24.com//offers/audi-a1-sp...    VAT deductible  \n",
       "1  https://www.autoscout24.com//offers/audi-a1-1-...  Price negotiable  \n",
       "2  https://www.autoscout24.com//offers/audi-a1-sp...    VAT deductible  "
      ]
     },
     "execution_count": 4,
     "metadata": {},
     "output_type": "execute_result"
    }
   ],
   "source": [
    "autos.head(3)"
   ]
  },
  {
   "cell_type": "code",
   "execution_count": 12,
   "metadata": {},
   "outputs": [
    {
     "name": "stdout",
     "output_type": "stream",
     "text": [
      "<class 'pandas.core.frame.DataFrame'>\n",
      "RangeIndex: 15919 entries, 0 to 15918\n",
      "Data columns (total 54 columns):\n",
      "comfort_convenience              14999 non-null object\n",
      "entertainment_media              14545 non-null object\n",
      "extras                           12957 non-null object\n",
      "safety_security                  14937 non-null object\n",
      "availability                     635 non-null object\n",
      "available_from                   272 non-null object\n",
      "body                             15859 non-null object\n",
      "body_color                       15322 non-null object\n",
      "body_color_original              12160 non-null object\n",
      "co2_emission                     14111 non-null object\n",
      "consumption                      14013 non-null object\n",
      "country_version                  7586 non-null object\n",
      "cylinders                        10239 non-null object\n",
      "displacement                     15423 non-null object\n",
      "drive_chain                      9061 non-null object\n",
      "electricity_consumption          137 non-null object\n",
      "emission_class                   12898 non-null object\n",
      "emission_label                   3985 non-null object\n",
      "first_registration               14322 non-null object\n",
      "fuel                             15919 non-null object\n",
      "full_service                     8215 non-null object\n",
      "gearing_type                     15919 non-null object\n",
      "gears                            11207 non-null object\n",
      "inspection_new                   3932 non-null object\n",
      "last_service_date                566 non-null object\n",
      "last_timing_belt_service_date    16 non-null object\n",
      "make                             15919 non-null object\n",
      "model                            15919 non-null object\n",
      "model_code                       4978 non-null object\n",
      "next_inspection                  3535 non-null object\n",
      "non_smoking_vehicle              7177 non-null object\n",
      "nr_of_doors                      15707 non-null object\n",
      "nr_of_seats                      14942 non-null object\n",
      "offer_number                     12744 non-null object\n",
      "other_fuel_types                 880 non-null object\n",
      "paint_type                       10147 non-null object\n",
      "previous_owners                  9279 non-null object\n",
      "type                             15917 non-null object\n",
      "upholstery                       12199 non-null object\n",
      "warranty                         10499 non-null object\n",
      "weight                           8945 non-null object\n",
      "body_type                        15859 non-null object\n",
      "description                      15919 non-null object\n",
      "hp                               15919 non-null object\n",
      "kw                               0 non-null object\n",
      "km                               15919 non-null object\n",
      "make_model                       15919 non-null object\n",
      "null                             15919 non-null object\n",
      "prev_owner                       9091 non-null object\n",
      "price                            15919 non-null int64\n",
      "registration                     15919 non-null object\n",
      "short_description                15873 non-null object\n",
      "url                              15919 non-null object\n",
      "vat                              11406 non-null object\n",
      "dtypes: int64(1), object(53)\n",
      "memory usage: 6.6+ MB\n"
     ]
    }
   ],
   "source": [
    "autos.info()"
   ]
  },
  {
   "cell_type": "markdown",
   "metadata": {},
   "source": [
    "### Dealing with Column Names"
   ]
  },
  {
   "cell_type": "code",
   "execution_count": 13,
   "metadata": {},
   "outputs": [
    {
     "data": {
      "text/plain": [
       "Index(['comfort_convenience', 'entertainment_media', 'extras',\n",
       "       'safety_security', 'availability', 'available_from', 'body',\n",
       "       'body_color', 'body_color_original', 'co2_emission', 'consumption',\n",
       "       'country_version', 'cylinders', 'displacement', 'drive_chain',\n",
       "       'electricity_consumption', 'emission_class', 'emission_label',\n",
       "       'first_registration', 'fuel', 'full_service', 'gearing_type', 'gears',\n",
       "       'inspection_new', 'last_service_date', 'last_timing_belt_service_date',\n",
       "       'make', 'model', 'model_code', 'next_inspection', 'non_smoking_vehicle',\n",
       "       'nr_of_doors', 'nr_of_seats', 'offer_number', 'other_fuel_types',\n",
       "       'paint_type', 'previous_owners', 'type', 'upholstery', 'warranty',\n",
       "       'weight', 'body_type', 'description', 'hp', 'kw', 'km', 'make_model',\n",
       "       'null', 'prev_owner', 'price', 'registration', 'short_description',\n",
       "       'url', 'vat'],\n",
       "      dtype='object')"
      ]
     },
     "execution_count": 13,
     "metadata": {},
     "output_type": "execute_result"
    }
   ],
   "source": [
    "autos.columns"
   ]
  },
  {
   "cell_type": "code",
   "execution_count": 5,
   "metadata": {},
   "outputs": [],
   "source": [
    "# Run \"name_columns\" function to name the columns in our convention\n",
    "%run -i \"/Users/stb/Documents/Github/fraud-detection/functions/name_columns.py\""
   ]
  },
  {
   "cell_type": "markdown",
   "metadata": {},
   "source": [
    "Alternatively, we can load the file into the cell with the `%load` magic command. (`%load?` for more info)"
   ]
  },
  {
   "cell_type": "code",
   "execution_count": 15,
   "metadata": {},
   "outputs": [],
   "source": [
    "# %load \"/Users/stb/Documents/Github/fraud-detection/functions/name_columns.py\""
   ]
  },
  {
   "cell_type": "code",
   "execution_count": 6,
   "metadata": {},
   "outputs": [
    {
     "data": {
      "text/plain": [
       "Index(['comfort_convenience', 'entertainment_media', 'extras',\n",
       "       'safety_security', 'availability', 'available_from', 'body',\n",
       "       'body_color', 'body_color_original', 'co2_emission', 'consumption',\n",
       "       'country_version', 'cylinders', 'displacement', 'drive_chain',\n",
       "       'electricity_consumption', 'emission_class', 'emission_label',\n",
       "       'first_registration', 'fuel', 'full_service', 'gearing_type', 'gears',\n",
       "       'inspection_new', 'last_service_date', 'last_timing_belt_service_date',\n",
       "       'make', 'model', 'model_code', 'next_inspection', 'non_smoking_vehicle',\n",
       "       'nr_of_doors', 'nr_of_seats', 'offer_number', 'other_fuel_types',\n",
       "       'paint_type', 'previous_owners', 'type', 'upholstery', 'warranty',\n",
       "       'weight', 'body_type', 'description', 'hp', 'kw', 'km', 'make_model',\n",
       "       'null', 'prev_owner', 'price', 'registration', 'short_description',\n",
       "       'url', 'vat'],\n",
       "      dtype='object')"
      ]
     },
     "execution_count": 6,
     "metadata": {},
     "output_type": "execute_result"
    }
   ],
   "source": [
    "autos.columns = name_columns(autos)\n",
    "autos.columns"
   ]
  },
  {
   "cell_type": "markdown",
   "metadata": {},
   "source": [
    "### Slicing Dataset"
   ]
  },
  {
   "cell_type": "code",
   "execution_count": 7,
   "metadata": {},
   "outputs": [],
   "source": [
    "t_cols = ['safety_security', 'co2_emission', 'consumption', 'country_version', \n",
    "          'cylinders', 'displacement', 'make', 'model', 'model_code', 'next_inspection',\n",
    "          'non_smoking_vehicle', 'body_type', 'description', \"hp\", 'kw', 'km', \"make_model\", \"offer_number\"]"
   ]
  },
  {
   "cell_type": "code",
   "execution_count": 8,
   "metadata": {},
   "outputs": [],
   "source": [
    "df = autos[t_cols]"
   ]
  },
  {
   "cell_type": "code",
   "execution_count": 19,
   "metadata": {},
   "outputs": [
    {
     "name": "stdout",
     "output_type": "stream",
     "text": [
      "<class 'pandas.core.frame.DataFrame'>\n",
      "RangeIndex: 15919 entries, 0 to 15918\n",
      "Data columns (total 18 columns):\n",
      "safety_security        14937 non-null object\n",
      "co2_emission           14111 non-null object\n",
      "consumption            14013 non-null object\n",
      "country_version        7586 non-null object\n",
      "cylinders              10239 non-null object\n",
      "displacement           15423 non-null object\n",
      "make                   15919 non-null object\n",
      "model                  15919 non-null object\n",
      "model_code             4978 non-null object\n",
      "next_inspection        3535 non-null object\n",
      "non_smoking_vehicle    7177 non-null object\n",
      "body_type              15859 non-null object\n",
      "description            15919 non-null object\n",
      "hp                     15919 non-null object\n",
      "kw                     0 non-null object\n",
      "km                     15919 non-null object\n",
      "make_model             15919 non-null object\n",
      "offer_number           12744 non-null object\n",
      "dtypes: object(18)\n",
      "memory usage: 2.2+ MB\n"
     ]
    }
   ],
   "source": [
    "df.info()"
   ]
  },
  {
   "cell_type": "markdown",
   "metadata": {},
   "source": [
    "## Cleaning and Exploring Columns"
   ]
  },
  {
   "cell_type": "markdown",
   "metadata": {},
   "source": [
    "### Safety & Security"
   ]
  },
  {
   "cell_type": "code",
   "execution_count": 20,
   "metadata": {},
   "outputs": [
    {
     "name": "stdout",
     "output_type": "stream",
     "text": [
      "982\n"
     ]
    }
   ],
   "source": [
    "# Number of missing values (NaNs) of a column\n",
    "# print(df['safety_security'].isnull().sum())\n",
    "\n",
    "# Change the type of NaNs from float to (empty) list\n",
    "# df['safety&security'][df['safety&security'].isnull()].apply(lambda x: [])"
   ]
  },
  {
   "cell_type": "code",
   "execution_count": 38,
   "metadata": {},
   "outputs": [],
   "source": [
    "# def NaN_to_list(data, column_name):\n",
    "#     '''\n",
    "#     When dealing with a column which consist of lists, we need to change\n",
    "#     the type of NaNs from 'float' to 'list' in order to perform iterative \n",
    "#     operations. This function detects NaNs and creates an empty list for\n",
    "#     missing rows.\n",
    "#     '''\n",
    "#     # Create a boolean vector for indexing\n",
    "#     NaN_rows = data[column_name].isnull()\n",
    "    \n",
    "#     # Change the type of NaNs from 'float' to (empty) 'list'\n",
    "#     data.loc[NaN_rows, column_name] = data.loc[NaN_rows, column_name].apply(lambda x: [])"
   ]
  },
  {
   "cell_type": "code",
   "execution_count": 17,
   "metadata": {},
   "outputs": [],
   "source": [
    "# NaN_to_list(df, 'safety_security')"
   ]
  },
  {
   "cell_type": "code",
   "execution_count": 18,
   "metadata": {},
   "outputs": [],
   "source": [
    "# Check to see if there are remaining NaNs\n",
    "# df['safety_security'].isnull().sum()"
   ]
  },
  {
   "cell_type": "code",
   "execution_count": 41,
   "metadata": {},
   "outputs": [],
   "source": [
    "# def get_uniques(data, column_name):\n",
    "#     '''\n",
    "#     Get the unique elements from a column\n",
    "#     which consists of list of items.\n",
    "#     '''\n",
    "#     unique_vals = set()\n",
    "    \n",
    "#     for row in data[column_name]:\n",
    "#         # Add list of items to a set\n",
    "#         unique_vals.update(row)\n",
    "\n",
    "#     return unique_vals"
   ]
  },
  {
   "cell_type": "code",
   "execution_count": 42,
   "metadata": {},
   "outputs": [],
   "source": [
    "# uniques = get_uniques(df, 'safety_security')"
   ]
  },
  {
   "cell_type": "code",
   "execution_count": 19,
   "metadata": {},
   "outputs": [],
   "source": [
    "# len(uniques), uniques"
   ]
  },
  {
   "cell_type": "code",
   "execution_count": 21,
   "metadata": {},
   "outputs": [
    {
     "data": {
      "text/html": [
       "<div>\n",
       "<style scoped>\n",
       "    .dataframe tbody tr th:only-of-type {\n",
       "        vertical-align: middle;\n",
       "    }\n",
       "\n",
       "    .dataframe tbody tr th {\n",
       "        vertical-align: top;\n",
       "    }\n",
       "\n",
       "    .dataframe thead th {\n",
       "        text-align: right;\n",
       "    }\n",
       "</style>\n",
       "<table border=\"1\" class=\"dataframe\">\n",
       "  <thead>\n",
       "    <tr style=\"text-align: right;\">\n",
       "      <th></th>\n",
       "      <th>ss_ABS</th>\n",
       "      <th>ss_Adaptive Cruise Control</th>\n",
       "      <th>ss_Adaptive headlights</th>\n",
       "      <th>ss_Alarm system</th>\n",
       "      <th>ss_Blind spot monitor</th>\n",
       "      <th>ss_Central door lock</th>\n",
       "      <th>ss_Central door lock with remote control</th>\n",
       "      <th>ss_Daytime running lights</th>\n",
       "      <th>ss_Driver drowsiness detection</th>\n",
       "      <th>ss_Driver-side airbag</th>\n",
       "      <th>ss_Electronic stability control</th>\n",
       "      <th>ss_Emergency brake assistant</th>\n",
       "      <th>ss_Emergency system</th>\n",
       "      <th>ss_Fog lights</th>\n",
       "      <th>ss_Head airbag</th>\n",
       "      <th>ss_Immobilizer</th>\n",
       "      <th>ss_Isofix</th>\n",
       "      <th>ss_LED Daytime Running Lights</th>\n",
       "      <th>ss_LED Headlights</th>\n",
       "      <th>ss_Lane departure warning system</th>\n",
       "      <th>ss_Night view assist</th>\n",
       "      <th>ss_Passenger-side airbag</th>\n",
       "      <th>ss_Power steering</th>\n",
       "      <th>ss_Rear airbag</th>\n",
       "      <th>ss_Side airbag</th>\n",
       "      <th>ss_Tire pressure monitoring system</th>\n",
       "      <th>ss_Traction control</th>\n",
       "      <th>ss_Traffic sign recognition</th>\n",
       "      <th>ss_Xenon headlights</th>\n",
       "    </tr>\n",
       "  </thead>\n",
       "  <tbody>\n",
       "    <tr>\n",
       "      <th>0</th>\n",
       "      <td>1</td>\n",
       "      <td>0</td>\n",
       "      <td>0</td>\n",
       "      <td>0</td>\n",
       "      <td>0</td>\n",
       "      <td>1</td>\n",
       "      <td>0</td>\n",
       "      <td>1</td>\n",
       "      <td>0</td>\n",
       "      <td>1</td>\n",
       "      <td>1</td>\n",
       "      <td>0</td>\n",
       "      <td>0</td>\n",
       "      <td>1</td>\n",
       "      <td>0</td>\n",
       "      <td>1</td>\n",
       "      <td>1</td>\n",
       "      <td>0</td>\n",
       "      <td>0</td>\n",
       "      <td>0</td>\n",
       "      <td>0</td>\n",
       "      <td>1</td>\n",
       "      <td>1</td>\n",
       "      <td>0</td>\n",
       "      <td>1</td>\n",
       "      <td>1</td>\n",
       "      <td>1</td>\n",
       "      <td>0</td>\n",
       "      <td>1</td>\n",
       "    </tr>\n",
       "    <tr>\n",
       "      <th>1</th>\n",
       "      <td>1</td>\n",
       "      <td>0</td>\n",
       "      <td>0</td>\n",
       "      <td>0</td>\n",
       "      <td>0</td>\n",
       "      <td>1</td>\n",
       "      <td>1</td>\n",
       "      <td>1</td>\n",
       "      <td>0</td>\n",
       "      <td>1</td>\n",
       "      <td>1</td>\n",
       "      <td>0</td>\n",
       "      <td>0</td>\n",
       "      <td>0</td>\n",
       "      <td>1</td>\n",
       "      <td>1</td>\n",
       "      <td>1</td>\n",
       "      <td>0</td>\n",
       "      <td>0</td>\n",
       "      <td>0</td>\n",
       "      <td>0</td>\n",
       "      <td>1</td>\n",
       "      <td>1</td>\n",
       "      <td>0</td>\n",
       "      <td>1</td>\n",
       "      <td>1</td>\n",
       "      <td>1</td>\n",
       "      <td>0</td>\n",
       "      <td>1</td>\n",
       "    </tr>\n",
       "    <tr>\n",
       "      <th>2</th>\n",
       "      <td>1</td>\n",
       "      <td>0</td>\n",
       "      <td>0</td>\n",
       "      <td>0</td>\n",
       "      <td>0</td>\n",
       "      <td>1</td>\n",
       "      <td>0</td>\n",
       "      <td>1</td>\n",
       "      <td>0</td>\n",
       "      <td>1</td>\n",
       "      <td>1</td>\n",
       "      <td>0</td>\n",
       "      <td>0</td>\n",
       "      <td>0</td>\n",
       "      <td>0</td>\n",
       "      <td>1</td>\n",
       "      <td>1</td>\n",
       "      <td>0</td>\n",
       "      <td>0</td>\n",
       "      <td>0</td>\n",
       "      <td>0</td>\n",
       "      <td>1</td>\n",
       "      <td>1</td>\n",
       "      <td>0</td>\n",
       "      <td>1</td>\n",
       "      <td>1</td>\n",
       "      <td>1</td>\n",
       "      <td>0</td>\n",
       "      <td>0</td>\n",
       "    </tr>\n",
       "    <tr>\n",
       "      <th>3</th>\n",
       "      <td>1</td>\n",
       "      <td>0</td>\n",
       "      <td>0</td>\n",
       "      <td>1</td>\n",
       "      <td>0</td>\n",
       "      <td>0</td>\n",
       "      <td>1</td>\n",
       "      <td>0</td>\n",
       "      <td>1</td>\n",
       "      <td>1</td>\n",
       "      <td>1</td>\n",
       "      <td>0</td>\n",
       "      <td>1</td>\n",
       "      <td>0</td>\n",
       "      <td>1</td>\n",
       "      <td>1</td>\n",
       "      <td>1</td>\n",
       "      <td>0</td>\n",
       "      <td>0</td>\n",
       "      <td>0</td>\n",
       "      <td>0</td>\n",
       "      <td>1</td>\n",
       "      <td>1</td>\n",
       "      <td>0</td>\n",
       "      <td>1</td>\n",
       "      <td>1</td>\n",
       "      <td>0</td>\n",
       "      <td>0</td>\n",
       "      <td>0</td>\n",
       "    </tr>\n",
       "    <tr>\n",
       "      <th>4</th>\n",
       "      <td>1</td>\n",
       "      <td>0</td>\n",
       "      <td>0</td>\n",
       "      <td>0</td>\n",
       "      <td>0</td>\n",
       "      <td>1</td>\n",
       "      <td>0</td>\n",
       "      <td>0</td>\n",
       "      <td>0</td>\n",
       "      <td>1</td>\n",
       "      <td>1</td>\n",
       "      <td>0</td>\n",
       "      <td>0</td>\n",
       "      <td>1</td>\n",
       "      <td>0</td>\n",
       "      <td>1</td>\n",
       "      <td>1</td>\n",
       "      <td>0</td>\n",
       "      <td>0</td>\n",
       "      <td>0</td>\n",
       "      <td>0</td>\n",
       "      <td>1</td>\n",
       "      <td>1</td>\n",
       "      <td>0</td>\n",
       "      <td>1</td>\n",
       "      <td>1</td>\n",
       "      <td>1</td>\n",
       "      <td>0</td>\n",
       "      <td>1</td>\n",
       "    </tr>\n",
       "  </tbody>\n",
       "</table>\n",
       "</div>"
      ],
      "text/plain": [
       "   ss_ABS  ss_Adaptive Cruise Control  ss_Adaptive headlights  \\\n",
       "0       1                           0                       0   \n",
       "1       1                           0                       0   \n",
       "2       1                           0                       0   \n",
       "3       1                           0                       0   \n",
       "4       1                           0                       0   \n",
       "\n",
       "   ss_Alarm system  ss_Blind spot monitor  ss_Central door lock  \\\n",
       "0                0                      0                     1   \n",
       "1                0                      0                     1   \n",
       "2                0                      0                     1   \n",
       "3                1                      0                     0   \n",
       "4                0                      0                     1   \n",
       "\n",
       "   ss_Central door lock with remote control  ss_Daytime running lights  \\\n",
       "0                                         0                          1   \n",
       "1                                         1                          1   \n",
       "2                                         0                          1   \n",
       "3                                         1                          0   \n",
       "4                                         0                          0   \n",
       "\n",
       "   ss_Driver drowsiness detection  ss_Driver-side airbag  \\\n",
       "0                               0                      1   \n",
       "1                               0                      1   \n",
       "2                               0                      1   \n",
       "3                               1                      1   \n",
       "4                               0                      1   \n",
       "\n",
       "   ss_Electronic stability control  ss_Emergency brake assistant  \\\n",
       "0                                1                             0   \n",
       "1                                1                             0   \n",
       "2                                1                             0   \n",
       "3                                1                             0   \n",
       "4                                1                             0   \n",
       "\n",
       "   ss_Emergency system  ss_Fog lights  ss_Head airbag  ss_Immobilizer  \\\n",
       "0                    0              1               0               1   \n",
       "1                    0              0               1               1   \n",
       "2                    0              0               0               1   \n",
       "3                    1              0               1               1   \n",
       "4                    0              1               0               1   \n",
       "\n",
       "   ss_Isofix  ss_LED Daytime Running Lights  ss_LED Headlights  \\\n",
       "0          1                              0                  0   \n",
       "1          1                              0                  0   \n",
       "2          1                              0                  0   \n",
       "3          1                              0                  0   \n",
       "4          1                              0                  0   \n",
       "\n",
       "   ss_Lane departure warning system  ss_Night view assist  \\\n",
       "0                                 0                     0   \n",
       "1                                 0                     0   \n",
       "2                                 0                     0   \n",
       "3                                 0                     0   \n",
       "4                                 0                     0   \n",
       "\n",
       "   ss_Passenger-side airbag  ss_Power steering  ss_Rear airbag  \\\n",
       "0                         1                  1               0   \n",
       "1                         1                  1               0   \n",
       "2                         1                  1               0   \n",
       "3                         1                  1               0   \n",
       "4                         1                  1               0   \n",
       "\n",
       "   ss_Side airbag  ss_Tire pressure monitoring system  ss_Traction control  \\\n",
       "0               1                                   1                    1   \n",
       "1               1                                   1                    1   \n",
       "2               1                                   1                    1   \n",
       "3               1                                   1                    0   \n",
       "4               1                                   1                    1   \n",
       "\n",
       "   ss_Traffic sign recognition  ss_Xenon headlights  \n",
       "0                            0                    1  \n",
       "1                            0                    1  \n",
       "2                            0                    0  \n",
       "3                            0                    0  \n",
       "4                            0                    1  "
      ]
     },
     "execution_count": 21,
     "metadata": {},
     "output_type": "execute_result"
    }
   ],
   "source": [
    "# # Create dummies using the items in the list of 'safety_security' column\n",
    "# df['safety_security'].str.join('|').str.get_dummies().add_prefix('ss_').head()\n",
    "# # split(\",\", expand=True) #hepsini ayri sutun"
   ]
  },
  {
   "cell_type": "code",
   "execution_count": 44,
   "metadata": {},
   "outputs": [],
   "source": [
    "# Create dummies using the items in the list of 'safety&security' column\n",
    "df_new = df.join(df['safety_security'].str.join('|').str.get_dummies().add_prefix('ss_'))\n",
    "\n",
    "# Print the head of the new DataFrame\n",
    "# df_new.head(3)"
   ]
  },
  {
   "cell_type": "code",
   "execution_count": 27,
   "metadata": {},
   "outputs": [
    {
     "data": {
      "text/html": [
       "<div>\n",
       "<style scoped>\n",
       "    .dataframe tbody tr th:only-of-type {\n",
       "        vertical-align: middle;\n",
       "    }\n",
       "\n",
       "    .dataframe tbody tr th {\n",
       "        vertical-align: top;\n",
       "    }\n",
       "\n",
       "    .dataframe thead th {\n",
       "        text-align: right;\n",
       "    }\n",
       "</style>\n",
       "<table border=\"1\" class=\"dataframe\">\n",
       "  <thead>\n",
       "    <tr style=\"text-align: right;\">\n",
       "      <th></th>\n",
       "      <th>ABS</th>\n",
       "      <th>Adaptive Cruise Control</th>\n",
       "      <th>Adaptive headlights</th>\n",
       "      <th>Alarm system</th>\n",
       "      <th>Blind spot monitor</th>\n",
       "      <th>Central door lock</th>\n",
       "      <th>Central door lock with remote control</th>\n",
       "      <th>Daytime running lights</th>\n",
       "      <th>Driver drowsiness detection</th>\n",
       "      <th>Driver-side airbag</th>\n",
       "      <th>Electronic stability control</th>\n",
       "      <th>Emergency brake assistant</th>\n",
       "      <th>Emergency system</th>\n",
       "      <th>Fog lights</th>\n",
       "      <th>Head airbag</th>\n",
       "      <th>Immobilizer</th>\n",
       "      <th>Isofix</th>\n",
       "      <th>LED Daytime Running Lights</th>\n",
       "      <th>LED Headlights</th>\n",
       "      <th>Lane departure warning system</th>\n",
       "      <th>Night view assist</th>\n",
       "      <th>Passenger-side airbag</th>\n",
       "      <th>Power steering</th>\n",
       "      <th>Rear airbag</th>\n",
       "      <th>Side airbag</th>\n",
       "      <th>Tire pressure monitoring system</th>\n",
       "      <th>Traction control</th>\n",
       "      <th>Traffic sign recognition</th>\n",
       "      <th>Xenon headlights</th>\n",
       "    </tr>\n",
       "  </thead>\n",
       "  <tbody>\n",
       "    <tr>\n",
       "      <th>count</th>\n",
       "      <td>15919.000000</td>\n",
       "      <td>15919.000000</td>\n",
       "      <td>15919.000000</td>\n",
       "      <td>15919.000000</td>\n",
       "      <td>15919.000000</td>\n",
       "      <td>15919.000000</td>\n",
       "      <td>15919.000000</td>\n",
       "      <td>15919.000000</td>\n",
       "      <td>15919.000000</td>\n",
       "      <td>15919.000000</td>\n",
       "      <td>15919.000000</td>\n",
       "      <td>15919.000000</td>\n",
       "      <td>15919.000000</td>\n",
       "      <td>15919.000000</td>\n",
       "      <td>15919.000000</td>\n",
       "      <td>15919.000000</td>\n",
       "      <td>15919.000000</td>\n",
       "      <td>15919.000000</td>\n",
       "      <td>15919.000000</td>\n",
       "      <td>15919.000000</td>\n",
       "      <td>15919.000000</td>\n",
       "      <td>15919.000000</td>\n",
       "      <td>15919.000000</td>\n",
       "      <td>15919.000000</td>\n",
       "      <td>15919.000000</td>\n",
       "      <td>15919.000000</td>\n",
       "      <td>15919.000000</td>\n",
       "      <td>15919.000000</td>\n",
       "      <td>15919.000000</td>\n",
       "    </tr>\n",
       "    <tr>\n",
       "      <th>mean</th>\n",
       "      <td>0.887619</td>\n",
       "      <td>0.081852</td>\n",
       "      <td>0.128212</td>\n",
       "      <td>0.120736</td>\n",
       "      <td>0.081098</td>\n",
       "      <td>0.798229</td>\n",
       "      <td>0.150575</td>\n",
       "      <td>0.654061</td>\n",
       "      <td>0.031786</td>\n",
       "      <td>0.873296</td>\n",
       "      <td>0.828381</td>\n",
       "      <td>0.197940</td>\n",
       "      <td>0.099001</td>\n",
       "      <td>0.515862</td>\n",
       "      <td>0.137320</td>\n",
       "      <td>0.659526</td>\n",
       "      <td>0.737735</td>\n",
       "      <td>0.345876</td>\n",
       "      <td>0.192537</td>\n",
       "      <td>0.191846</td>\n",
       "      <td>0.004711</td>\n",
       "      <td>0.843960</td>\n",
       "      <td>0.854262</td>\n",
       "      <td>0.054400</td>\n",
       "      <td>0.829386</td>\n",
       "      <td>0.666122</td>\n",
       "      <td>0.691249</td>\n",
       "      <td>0.124128</td>\n",
       "      <td>0.222313</td>\n",
       "    </tr>\n",
       "    <tr>\n",
       "      <th>std</th>\n",
       "      <td>0.315845</td>\n",
       "      <td>0.274148</td>\n",
       "      <td>0.334336</td>\n",
       "      <td>0.325831</td>\n",
       "      <td>0.272994</td>\n",
       "      <td>0.401335</td>\n",
       "      <td>0.357645</td>\n",
       "      <td>0.475688</td>\n",
       "      <td>0.175435</td>\n",
       "      <td>0.332651</td>\n",
       "      <td>0.377061</td>\n",
       "      <td>0.398459</td>\n",
       "      <td>0.298673</td>\n",
       "      <td>0.499764</td>\n",
       "      <td>0.344196</td>\n",
       "      <td>0.473883</td>\n",
       "      <td>0.439880</td>\n",
       "      <td>0.475668</td>\n",
       "      <td>0.394305</td>\n",
       "      <td>0.393765</td>\n",
       "      <td>0.068480</td>\n",
       "      <td>0.362905</td>\n",
       "      <td>0.352854</td>\n",
       "      <td>0.226813</td>\n",
       "      <td>0.376183</td>\n",
       "      <td>0.471611</td>\n",
       "      <td>0.461992</td>\n",
       "      <td>0.329738</td>\n",
       "      <td>0.415813</td>\n",
       "    </tr>\n",
       "    <tr>\n",
       "      <th>min</th>\n",
       "      <td>0.000000</td>\n",
       "      <td>0.000000</td>\n",
       "      <td>0.000000</td>\n",
       "      <td>0.000000</td>\n",
       "      <td>0.000000</td>\n",
       "      <td>0.000000</td>\n",
       "      <td>0.000000</td>\n",
       "      <td>0.000000</td>\n",
       "      <td>0.000000</td>\n",
       "      <td>0.000000</td>\n",
       "      <td>0.000000</td>\n",
       "      <td>0.000000</td>\n",
       "      <td>0.000000</td>\n",
       "      <td>0.000000</td>\n",
       "      <td>0.000000</td>\n",
       "      <td>0.000000</td>\n",
       "      <td>0.000000</td>\n",
       "      <td>0.000000</td>\n",
       "      <td>0.000000</td>\n",
       "      <td>0.000000</td>\n",
       "      <td>0.000000</td>\n",
       "      <td>0.000000</td>\n",
       "      <td>0.000000</td>\n",
       "      <td>0.000000</td>\n",
       "      <td>0.000000</td>\n",
       "      <td>0.000000</td>\n",
       "      <td>0.000000</td>\n",
       "      <td>0.000000</td>\n",
       "      <td>0.000000</td>\n",
       "    </tr>\n",
       "    <tr>\n",
       "      <th>25%</th>\n",
       "      <td>1.000000</td>\n",
       "      <td>0.000000</td>\n",
       "      <td>0.000000</td>\n",
       "      <td>0.000000</td>\n",
       "      <td>0.000000</td>\n",
       "      <td>1.000000</td>\n",
       "      <td>0.000000</td>\n",
       "      <td>0.000000</td>\n",
       "      <td>0.000000</td>\n",
       "      <td>1.000000</td>\n",
       "      <td>1.000000</td>\n",
       "      <td>0.000000</td>\n",
       "      <td>0.000000</td>\n",
       "      <td>0.000000</td>\n",
       "      <td>0.000000</td>\n",
       "      <td>0.000000</td>\n",
       "      <td>0.000000</td>\n",
       "      <td>0.000000</td>\n",
       "      <td>0.000000</td>\n",
       "      <td>0.000000</td>\n",
       "      <td>0.000000</td>\n",
       "      <td>1.000000</td>\n",
       "      <td>1.000000</td>\n",
       "      <td>0.000000</td>\n",
       "      <td>1.000000</td>\n",
       "      <td>0.000000</td>\n",
       "      <td>0.000000</td>\n",
       "      <td>0.000000</td>\n",
       "      <td>0.000000</td>\n",
       "    </tr>\n",
       "    <tr>\n",
       "      <th>50%</th>\n",
       "      <td>1.000000</td>\n",
       "      <td>0.000000</td>\n",
       "      <td>0.000000</td>\n",
       "      <td>0.000000</td>\n",
       "      <td>0.000000</td>\n",
       "      <td>1.000000</td>\n",
       "      <td>0.000000</td>\n",
       "      <td>1.000000</td>\n",
       "      <td>0.000000</td>\n",
       "      <td>1.000000</td>\n",
       "      <td>1.000000</td>\n",
       "      <td>0.000000</td>\n",
       "      <td>0.000000</td>\n",
       "      <td>1.000000</td>\n",
       "      <td>0.000000</td>\n",
       "      <td>1.000000</td>\n",
       "      <td>1.000000</td>\n",
       "      <td>0.000000</td>\n",
       "      <td>0.000000</td>\n",
       "      <td>0.000000</td>\n",
       "      <td>0.000000</td>\n",
       "      <td>1.000000</td>\n",
       "      <td>1.000000</td>\n",
       "      <td>0.000000</td>\n",
       "      <td>1.000000</td>\n",
       "      <td>1.000000</td>\n",
       "      <td>1.000000</td>\n",
       "      <td>0.000000</td>\n",
       "      <td>0.000000</td>\n",
       "    </tr>\n",
       "    <tr>\n",
       "      <th>75%</th>\n",
       "      <td>1.000000</td>\n",
       "      <td>0.000000</td>\n",
       "      <td>0.000000</td>\n",
       "      <td>0.000000</td>\n",
       "      <td>0.000000</td>\n",
       "      <td>1.000000</td>\n",
       "      <td>0.000000</td>\n",
       "      <td>1.000000</td>\n",
       "      <td>0.000000</td>\n",
       "      <td>1.000000</td>\n",
       "      <td>1.000000</td>\n",
       "      <td>0.000000</td>\n",
       "      <td>0.000000</td>\n",
       "      <td>1.000000</td>\n",
       "      <td>0.000000</td>\n",
       "      <td>1.000000</td>\n",
       "      <td>1.000000</td>\n",
       "      <td>1.000000</td>\n",
       "      <td>0.000000</td>\n",
       "      <td>0.000000</td>\n",
       "      <td>0.000000</td>\n",
       "      <td>1.000000</td>\n",
       "      <td>1.000000</td>\n",
       "      <td>0.000000</td>\n",
       "      <td>1.000000</td>\n",
       "      <td>1.000000</td>\n",
       "      <td>1.000000</td>\n",
       "      <td>0.000000</td>\n",
       "      <td>0.000000</td>\n",
       "    </tr>\n",
       "    <tr>\n",
       "      <th>max</th>\n",
       "      <td>1.000000</td>\n",
       "      <td>1.000000</td>\n",
       "      <td>1.000000</td>\n",
       "      <td>1.000000</td>\n",
       "      <td>1.000000</td>\n",
       "      <td>1.000000</td>\n",
       "      <td>1.000000</td>\n",
       "      <td>1.000000</td>\n",
       "      <td>1.000000</td>\n",
       "      <td>1.000000</td>\n",
       "      <td>1.000000</td>\n",
       "      <td>1.000000</td>\n",
       "      <td>1.000000</td>\n",
       "      <td>1.000000</td>\n",
       "      <td>1.000000</td>\n",
       "      <td>1.000000</td>\n",
       "      <td>1.000000</td>\n",
       "      <td>1.000000</td>\n",
       "      <td>1.000000</td>\n",
       "      <td>1.000000</td>\n",
       "      <td>1.000000</td>\n",
       "      <td>1.000000</td>\n",
       "      <td>1.000000</td>\n",
       "      <td>1.000000</td>\n",
       "      <td>1.000000</td>\n",
       "      <td>1.000000</td>\n",
       "      <td>1.000000</td>\n",
       "      <td>1.000000</td>\n",
       "      <td>1.000000</td>\n",
       "    </tr>\n",
       "  </tbody>\n",
       "</table>\n",
       "</div>"
      ],
      "text/plain": [
       "                ABS  Adaptive Cruise Control  Adaptive headlights  \\\n",
       "count  15919.000000             15919.000000         15919.000000   \n",
       "mean       0.887619                 0.081852             0.128212   \n",
       "std        0.315845                 0.274148             0.334336   \n",
       "min        0.000000                 0.000000             0.000000   \n",
       "25%        1.000000                 0.000000             0.000000   \n",
       "50%        1.000000                 0.000000             0.000000   \n",
       "75%        1.000000                 0.000000             0.000000   \n",
       "max        1.000000                 1.000000             1.000000   \n",
       "\n",
       "       Alarm system  Blind spot monitor  Central door lock  \\\n",
       "count  15919.000000        15919.000000       15919.000000   \n",
       "mean       0.120736            0.081098           0.798229   \n",
       "std        0.325831            0.272994           0.401335   \n",
       "min        0.000000            0.000000           0.000000   \n",
       "25%        0.000000            0.000000           1.000000   \n",
       "50%        0.000000            0.000000           1.000000   \n",
       "75%        0.000000            0.000000           1.000000   \n",
       "max        1.000000            1.000000           1.000000   \n",
       "\n",
       "       Central door lock with remote control  Daytime running lights  \\\n",
       "count                           15919.000000            15919.000000   \n",
       "mean                                0.150575                0.654061   \n",
       "std                                 0.357645                0.475688   \n",
       "min                                 0.000000                0.000000   \n",
       "25%                                 0.000000                0.000000   \n",
       "50%                                 0.000000                1.000000   \n",
       "75%                                 0.000000                1.000000   \n",
       "max                                 1.000000                1.000000   \n",
       "\n",
       "       Driver drowsiness detection  Driver-side airbag  \\\n",
       "count                 15919.000000        15919.000000   \n",
       "mean                      0.031786            0.873296   \n",
       "std                       0.175435            0.332651   \n",
       "min                       0.000000            0.000000   \n",
       "25%                       0.000000            1.000000   \n",
       "50%                       0.000000            1.000000   \n",
       "75%                       0.000000            1.000000   \n",
       "max                       1.000000            1.000000   \n",
       "\n",
       "       Electronic stability control  Emergency brake assistant  \\\n",
       "count                  15919.000000               15919.000000   \n",
       "mean                       0.828381                   0.197940   \n",
       "std                        0.377061                   0.398459   \n",
       "min                        0.000000                   0.000000   \n",
       "25%                        1.000000                   0.000000   \n",
       "50%                        1.000000                   0.000000   \n",
       "75%                        1.000000                   0.000000   \n",
       "max                        1.000000                   1.000000   \n",
       "\n",
       "       Emergency system    Fog lights   Head airbag   Immobilizer  \\\n",
       "count      15919.000000  15919.000000  15919.000000  15919.000000   \n",
       "mean           0.099001      0.515862      0.137320      0.659526   \n",
       "std            0.298673      0.499764      0.344196      0.473883   \n",
       "min            0.000000      0.000000      0.000000      0.000000   \n",
       "25%            0.000000      0.000000      0.000000      0.000000   \n",
       "50%            0.000000      1.000000      0.000000      1.000000   \n",
       "75%            0.000000      1.000000      0.000000      1.000000   \n",
       "max            1.000000      1.000000      1.000000      1.000000   \n",
       "\n",
       "             Isofix  LED Daytime Running Lights  LED Headlights  \\\n",
       "count  15919.000000                15919.000000    15919.000000   \n",
       "mean       0.737735                    0.345876        0.192537   \n",
       "std        0.439880                    0.475668        0.394305   \n",
       "min        0.000000                    0.000000        0.000000   \n",
       "25%        0.000000                    0.000000        0.000000   \n",
       "50%        1.000000                    0.000000        0.000000   \n",
       "75%        1.000000                    1.000000        0.000000   \n",
       "max        1.000000                    1.000000        1.000000   \n",
       "\n",
       "       Lane departure warning system  Night view assist  \\\n",
       "count                   15919.000000       15919.000000   \n",
       "mean                        0.191846           0.004711   \n",
       "std                         0.393765           0.068480   \n",
       "min                         0.000000           0.000000   \n",
       "25%                         0.000000           0.000000   \n",
       "50%                         0.000000           0.000000   \n",
       "75%                         0.000000           0.000000   \n",
       "max                         1.000000           1.000000   \n",
       "\n",
       "       Passenger-side airbag  Power steering   Rear airbag   Side airbag  \\\n",
       "count           15919.000000    15919.000000  15919.000000  15919.000000   \n",
       "mean                0.843960        0.854262      0.054400      0.829386   \n",
       "std                 0.362905        0.352854      0.226813      0.376183   \n",
       "min                 0.000000        0.000000      0.000000      0.000000   \n",
       "25%                 1.000000        1.000000      0.000000      1.000000   \n",
       "50%                 1.000000        1.000000      0.000000      1.000000   \n",
       "75%                 1.000000        1.000000      0.000000      1.000000   \n",
       "max                 1.000000        1.000000      1.000000      1.000000   \n",
       "\n",
       "       Tire pressure monitoring system  Traction control  \\\n",
       "count                     15919.000000      15919.000000   \n",
       "mean                          0.666122          0.691249   \n",
       "std                           0.471611          0.461992   \n",
       "min                           0.000000          0.000000   \n",
       "25%                           0.000000          0.000000   \n",
       "50%                           1.000000          1.000000   \n",
       "75%                           1.000000          1.000000   \n",
       "max                           1.000000          1.000000   \n",
       "\n",
       "       Traffic sign recognition  Xenon headlights  \n",
       "count              15919.000000      15919.000000  \n",
       "mean                   0.124128          0.222313  \n",
       "std                    0.329738          0.415813  \n",
       "min                    0.000000          0.000000  \n",
       "25%                    0.000000          0.000000  \n",
       "50%                    0.000000          0.000000  \n",
       "75%                    0.000000          0.000000  \n",
       "max                    1.000000          1.000000  "
      ]
     },
     "execution_count": 27,
     "metadata": {},
     "output_type": "execute_result"
    }
   ],
   "source": [
    "# df_new.loc[:, 'ABS':\"Xenon headlights\"].describe()"
   ]
  },
  {
   "cell_type": "markdown",
   "metadata": {},
   "source": [
    "### Model"
   ]
  },
  {
   "cell_type": "code",
   "execution_count": 28,
   "metadata": {},
   "outputs": [
    {
     "data": {
      "text/plain": [
       "6020      [\\n, Astra, \\n]\n",
       "14621      [\\n, Clio, \\n]\n",
       "1651         [\\n, A1, \\n]\n",
       "4593         [\\n, A3, \\n]\n",
       "4966         [\\n, A3, \\n]\n",
       "13667      [\\n, Clio, \\n]\n",
       "14063      [\\n, Clio, \\n]\n",
       "15193    [\\n, Espace, \\n]\n",
       "8194      [\\n, Astra, \\n]\n",
       "9890      [\\n, Corsa, \\n]\n",
       "Name: model, dtype: object"
      ]
     },
     "execution_count": 28,
     "metadata": {},
     "output_type": "execute_result"
    }
   ],
   "source": [
    "# df.model.sample(10)"
   ]
  },
  {
   "cell_type": "code",
   "execution_count": 29,
   "metadata": {},
   "outputs": [
    {
     "data": {
      "text/plain": [
       "0"
      ]
     },
     "execution_count": 29,
     "metadata": {},
     "output_type": "execute_result"
    }
   ],
   "source": [
    "# Count the number of missing values\n",
    "# df.model.isnull().sum()"
   ]
  },
  {
   "cell_type": "code",
   "execution_count": 30,
   "metadata": {},
   "outputs": [],
   "source": [
    "# Clean the model column\n",
    "df_new['model'] = df.model.apply(lambda x: x[1])"
   ]
  },
  {
   "cell_type": "code",
   "execution_count": 31,
   "metadata": {},
   "outputs": [
    {
     "data": {
      "text/html": [
       "<div>\n",
       "<style scoped>\n",
       "    .dataframe tbody tr th:only-of-type {\n",
       "        vertical-align: middle;\n",
       "    }\n",
       "\n",
       "    .dataframe tbody tr th {\n",
       "        vertical-align: top;\n",
       "    }\n",
       "\n",
       "    .dataframe thead th {\n",
       "        text-align: right;\n",
       "    }\n",
       "</style>\n",
       "<table border=\"1\" class=\"dataframe\">\n",
       "  <thead>\n",
       "    <tr style=\"text-align: right;\">\n",
       "      <th></th>\n",
       "      <th>ABS</th>\n",
       "      <th>Adaptive Cruise Control</th>\n",
       "      <th>Adaptive headlights</th>\n",
       "      <th>Alarm system</th>\n",
       "      <th>Blind spot monitor</th>\n",
       "      <th>Central door lock</th>\n",
       "      <th>Central door lock with remote control</th>\n",
       "      <th>Daytime running lights</th>\n",
       "      <th>Driver drowsiness detection</th>\n",
       "      <th>Driver-side airbag</th>\n",
       "      <th>Electronic stability control</th>\n",
       "      <th>Emergency brake assistant</th>\n",
       "      <th>Emergency system</th>\n",
       "      <th>Fog lights</th>\n",
       "      <th>Head airbag</th>\n",
       "      <th>Immobilizer</th>\n",
       "      <th>Isofix</th>\n",
       "      <th>LED Daytime Running Lights</th>\n",
       "      <th>LED Headlights</th>\n",
       "      <th>Lane departure warning system</th>\n",
       "      <th>Night view assist</th>\n",
       "      <th>Passenger-side airbag</th>\n",
       "      <th>Power steering</th>\n",
       "      <th>Rear airbag</th>\n",
       "      <th>Side airbag</th>\n",
       "      <th>Tire pressure monitoring system</th>\n",
       "      <th>Traction control</th>\n",
       "      <th>Traffic sign recognition</th>\n",
       "      <th>Xenon headlights</th>\n",
       "    </tr>\n",
       "    <tr>\n",
       "      <th>model</th>\n",
       "      <th></th>\n",
       "      <th></th>\n",
       "      <th></th>\n",
       "      <th></th>\n",
       "      <th></th>\n",
       "      <th></th>\n",
       "      <th></th>\n",
       "      <th></th>\n",
       "      <th></th>\n",
       "      <th></th>\n",
       "      <th></th>\n",
       "      <th></th>\n",
       "      <th></th>\n",
       "      <th></th>\n",
       "      <th></th>\n",
       "      <th></th>\n",
       "      <th></th>\n",
       "      <th></th>\n",
       "      <th></th>\n",
       "      <th></th>\n",
       "      <th></th>\n",
       "      <th></th>\n",
       "      <th></th>\n",
       "      <th></th>\n",
       "      <th></th>\n",
       "      <th></th>\n",
       "      <th></th>\n",
       "      <th></th>\n",
       "      <th></th>\n",
       "    </tr>\n",
       "  </thead>\n",
       "  <tbody>\n",
       "    <tr>\n",
       "      <th>A1</th>\n",
       "      <td>2242</td>\n",
       "      <td>56</td>\n",
       "      <td>128</td>\n",
       "      <td>287</td>\n",
       "      <td>11</td>\n",
       "      <td>2114</td>\n",
       "      <td>408</td>\n",
       "      <td>1935</td>\n",
       "      <td>70</td>\n",
       "      <td>2287</td>\n",
       "      <td>2319</td>\n",
       "      <td>416</td>\n",
       "      <td>308</td>\n",
       "      <td>1380</td>\n",
       "      <td>418</td>\n",
       "      <td>2088</td>\n",
       "      <td>1804</td>\n",
       "      <td>387</td>\n",
       "      <td>374</td>\n",
       "      <td>445</td>\n",
       "      <td>4</td>\n",
       "      <td>2296</td>\n",
       "      <td>2350</td>\n",
       "      <td>96</td>\n",
       "      <td>2320</td>\n",
       "      <td>1764</td>\n",
       "      <td>1857</td>\n",
       "      <td>38</td>\n",
       "      <td>741</td>\n",
       "    </tr>\n",
       "    <tr>\n",
       "      <th>A2</th>\n",
       "      <td>1</td>\n",
       "      <td>1</td>\n",
       "      <td>0</td>\n",
       "      <td>0</td>\n",
       "      <td>0</td>\n",
       "      <td>1</td>\n",
       "      <td>0</td>\n",
       "      <td>1</td>\n",
       "      <td>0</td>\n",
       "      <td>1</td>\n",
       "      <td>1</td>\n",
       "      <td>1</td>\n",
       "      <td>0</td>\n",
       "      <td>0</td>\n",
       "      <td>0</td>\n",
       "      <td>1</td>\n",
       "      <td>1</td>\n",
       "      <td>0</td>\n",
       "      <td>0</td>\n",
       "      <td>1</td>\n",
       "      <td>0</td>\n",
       "      <td>1</td>\n",
       "      <td>1</td>\n",
       "      <td>0</td>\n",
       "      <td>1</td>\n",
       "      <td>1</td>\n",
       "      <td>1</td>\n",
       "      <td>0</td>\n",
       "      <td>0</td>\n",
       "    </tr>\n",
       "    <tr>\n",
       "      <th>A3</th>\n",
       "      <td>2873</td>\n",
       "      <td>434</td>\n",
       "      <td>321</td>\n",
       "      <td>728</td>\n",
       "      <td>41</td>\n",
       "      <td>2490</td>\n",
       "      <td>597</td>\n",
       "      <td>1522</td>\n",
       "      <td>281</td>\n",
       "      <td>2778</td>\n",
       "      <td>2447</td>\n",
       "      <td>237</td>\n",
       "      <td>119</td>\n",
       "      <td>1075</td>\n",
       "      <td>563</td>\n",
       "      <td>2065</td>\n",
       "      <td>2155</td>\n",
       "      <td>798</td>\n",
       "      <td>497</td>\n",
       "      <td>170</td>\n",
       "      <td>16</td>\n",
       "      <td>2543</td>\n",
       "      <td>2839</td>\n",
       "      <td>248</td>\n",
       "      <td>2509</td>\n",
       "      <td>1800</td>\n",
       "      <td>2178</td>\n",
       "      <td>61</td>\n",
       "      <td>2051</td>\n",
       "    </tr>\n",
       "    <tr>\n",
       "      <th>Astra</th>\n",
       "      <td>2189</td>\n",
       "      <td>148</td>\n",
       "      <td>248</td>\n",
       "      <td>213</td>\n",
       "      <td>160</td>\n",
       "      <td>2134</td>\n",
       "      <td>321</td>\n",
       "      <td>1881</td>\n",
       "      <td>38</td>\n",
       "      <td>2254</td>\n",
       "      <td>2167</td>\n",
       "      <td>695</td>\n",
       "      <td>320</td>\n",
       "      <td>1639</td>\n",
       "      <td>282</td>\n",
       "      <td>1779</td>\n",
       "      <td>2068</td>\n",
       "      <td>1269</td>\n",
       "      <td>315</td>\n",
       "      <td>751</td>\n",
       "      <td>6</td>\n",
       "      <td>2191</td>\n",
       "      <td>2166</td>\n",
       "      <td>115</td>\n",
       "      <td>2125</td>\n",
       "      <td>1870</td>\n",
       "      <td>1801</td>\n",
       "      <td>609</td>\n",
       "      <td>98</td>\n",
       "    </tr>\n",
       "    <tr>\n",
       "      <th>Clio</th>\n",
       "      <td>1682</td>\n",
       "      <td>22</td>\n",
       "      <td>117</td>\n",
       "      <td>179</td>\n",
       "      <td>3</td>\n",
       "      <td>1464</td>\n",
       "      <td>244</td>\n",
       "      <td>1049</td>\n",
       "      <td>3</td>\n",
       "      <td>1581</td>\n",
       "      <td>1457</td>\n",
       "      <td>141</td>\n",
       "      <td>40</td>\n",
       "      <td>966</td>\n",
       "      <td>116</td>\n",
       "      <td>975</td>\n",
       "      <td>1242</td>\n",
       "      <td>818</td>\n",
       "      <td>338</td>\n",
       "      <td>4</td>\n",
       "      <td>5</td>\n",
       "      <td>1508</td>\n",
       "      <td>1448</td>\n",
       "      <td>69</td>\n",
       "      <td>1490</td>\n",
       "      <td>1109</td>\n",
       "      <td>965</td>\n",
       "      <td>7</td>\n",
       "      <td>24</td>\n",
       "    </tr>\n",
       "    <tr>\n",
       "      <th>Corsa</th>\n",
       "      <td>1988</td>\n",
       "      <td>22</td>\n",
       "      <td>74</td>\n",
       "      <td>161</td>\n",
       "      <td>19</td>\n",
       "      <td>1843</td>\n",
       "      <td>373</td>\n",
       "      <td>1582</td>\n",
       "      <td>2</td>\n",
       "      <td>1950</td>\n",
       "      <td>1840</td>\n",
       "      <td>94</td>\n",
       "      <td>90</td>\n",
       "      <td>1120</td>\n",
       "      <td>304</td>\n",
       "      <td>1249</td>\n",
       "      <td>1776</td>\n",
       "      <td>444</td>\n",
       "      <td>31</td>\n",
       "      <td>29</td>\n",
       "      <td>1</td>\n",
       "      <td>1885</td>\n",
       "      <td>1933</td>\n",
       "      <td>73</td>\n",
       "      <td>1860</td>\n",
       "      <td>1549</td>\n",
       "      <td>1501</td>\n",
       "      <td>20</td>\n",
       "      <td>55</td>\n",
       "    </tr>\n",
       "    <tr>\n",
       "      <th>Duster</th>\n",
       "      <td>34</td>\n",
       "      <td>0</td>\n",
       "      <td>0</td>\n",
       "      <td>0</td>\n",
       "      <td>0</td>\n",
       "      <td>2</td>\n",
       "      <td>0</td>\n",
       "      <td>0</td>\n",
       "      <td>0</td>\n",
       "      <td>34</td>\n",
       "      <td>1</td>\n",
       "      <td>0</td>\n",
       "      <td>0</td>\n",
       "      <td>16</td>\n",
       "      <td>0</td>\n",
       "      <td>0</td>\n",
       "      <td>2</td>\n",
       "      <td>0</td>\n",
       "      <td>0</td>\n",
       "      <td>0</td>\n",
       "      <td>0</td>\n",
       "      <td>2</td>\n",
       "      <td>34</td>\n",
       "      <td>0</td>\n",
       "      <td>0</td>\n",
       "      <td>0</td>\n",
       "      <td>1</td>\n",
       "      <td>0</td>\n",
       "      <td>0</td>\n",
       "    </tr>\n",
       "    <tr>\n",
       "      <th>Espace</th>\n",
       "      <td>872</td>\n",
       "      <td>201</td>\n",
       "      <td>122</td>\n",
       "      <td>126</td>\n",
       "      <td>446</td>\n",
       "      <td>586</td>\n",
       "      <td>123</td>\n",
       "      <td>584</td>\n",
       "      <td>49</td>\n",
       "      <td>818</td>\n",
       "      <td>764</td>\n",
       "      <td>412</td>\n",
       "      <td>37</td>\n",
       "      <td>248</td>\n",
       "      <td>154</td>\n",
       "      <td>473</td>\n",
       "      <td>669</td>\n",
       "      <td>436</td>\n",
       "      <td>537</td>\n",
       "      <td>394</td>\n",
       "      <td>29</td>\n",
       "      <td>801</td>\n",
       "      <td>730</td>\n",
       "      <td>95</td>\n",
       "      <td>786</td>\n",
       "      <td>622</td>\n",
       "      <td>641</td>\n",
       "      <td>458</td>\n",
       "      <td>64</td>\n",
       "    </tr>\n",
       "    <tr>\n",
       "      <th>Insignia</th>\n",
       "      <td>2249</td>\n",
       "      <td>419</td>\n",
       "      <td>1031</td>\n",
       "      <td>228</td>\n",
       "      <td>611</td>\n",
       "      <td>2073</td>\n",
       "      <td>331</td>\n",
       "      <td>1858</td>\n",
       "      <td>63</td>\n",
       "      <td>2199</td>\n",
       "      <td>2191</td>\n",
       "      <td>1155</td>\n",
       "      <td>662</td>\n",
       "      <td>1768</td>\n",
       "      <td>349</td>\n",
       "      <td>1869</td>\n",
       "      <td>2027</td>\n",
       "      <td>1354</td>\n",
       "      <td>973</td>\n",
       "      <td>1260</td>\n",
       "      <td>14</td>\n",
       "      <td>2208</td>\n",
       "      <td>2098</td>\n",
       "      <td>170</td>\n",
       "      <td>2112</td>\n",
       "      <td>1889</td>\n",
       "      <td>2059</td>\n",
       "      <td>783</td>\n",
       "      <td>506</td>\n",
       "    </tr>\n",
       "  </tbody>\n",
       "</table>\n",
       "</div>"
      ],
      "text/plain": [
       "           ABS  Adaptive Cruise Control  Adaptive headlights  Alarm system  \\\n",
       "model                                                                        \n",
       "A1        2242                       56                  128           287   \n",
       "A2           1                        1                    0             0   \n",
       "A3        2873                      434                  321           728   \n",
       "Astra     2189                      148                  248           213   \n",
       "Clio      1682                       22                  117           179   \n",
       "Corsa     1988                       22                   74           161   \n",
       "Duster      34                        0                    0             0   \n",
       "Espace     872                      201                  122           126   \n",
       "Insignia  2249                      419                 1031           228   \n",
       "\n",
       "          Blind spot monitor  Central door lock  \\\n",
       "model                                             \n",
       "A1                        11               2114   \n",
       "A2                         0                  1   \n",
       "A3                        41               2490   \n",
       "Astra                    160               2134   \n",
       "Clio                       3               1464   \n",
       "Corsa                     19               1843   \n",
       "Duster                     0                  2   \n",
       "Espace                   446                586   \n",
       "Insignia                 611               2073   \n",
       "\n",
       "          Central door lock with remote control  Daytime running lights  \\\n",
       "model                                                                     \n",
       "A1                                          408                    1935   \n",
       "A2                                            0                       1   \n",
       "A3                                          597                    1522   \n",
       "Astra                                       321                    1881   \n",
       "Clio                                        244                    1049   \n",
       "Corsa                                       373                    1582   \n",
       "Duster                                        0                       0   \n",
       "Espace                                      123                     584   \n",
       "Insignia                                    331                    1858   \n",
       "\n",
       "          Driver drowsiness detection  Driver-side airbag  \\\n",
       "model                                                       \n",
       "A1                                 70                2287   \n",
       "A2                                  0                   1   \n",
       "A3                                281                2778   \n",
       "Astra                              38                2254   \n",
       "Clio                                3                1581   \n",
       "Corsa                               2                1950   \n",
       "Duster                              0                  34   \n",
       "Espace                             49                 818   \n",
       "Insignia                           63                2199   \n",
       "\n",
       "          Electronic stability control  Emergency brake assistant  \\\n",
       "model                                                               \n",
       "A1                                2319                        416   \n",
       "A2                                   1                          1   \n",
       "A3                                2447                        237   \n",
       "Astra                             2167                        695   \n",
       "Clio                              1457                        141   \n",
       "Corsa                             1840                         94   \n",
       "Duster                               1                          0   \n",
       "Espace                             764                        412   \n",
       "Insignia                          2191                       1155   \n",
       "\n",
       "          Emergency system  Fog lights  Head airbag  Immobilizer  Isofix  \\\n",
       "model                                                                      \n",
       "A1                     308        1380          418         2088    1804   \n",
       "A2                       0           0            0            1       1   \n",
       "A3                     119        1075          563         2065    2155   \n",
       "Astra                  320        1639          282         1779    2068   \n",
       "Clio                    40         966          116          975    1242   \n",
       "Corsa                   90        1120          304         1249    1776   \n",
       "Duster                   0          16            0            0       2   \n",
       "Espace                  37         248          154          473     669   \n",
       "Insignia               662        1768          349         1869    2027   \n",
       "\n",
       "          LED Daytime Running Lights  LED Headlights  \\\n",
       "model                                                  \n",
       "A1                               387             374   \n",
       "A2                                 0               0   \n",
       "A3                               798             497   \n",
       "Astra                           1269             315   \n",
       "Clio                             818             338   \n",
       "Corsa                            444              31   \n",
       "Duster                             0               0   \n",
       "Espace                           436             537   \n",
       "Insignia                        1354             973   \n",
       "\n",
       "          Lane departure warning system  Night view assist  \\\n",
       "model                                                        \n",
       "A1                                  445                  4   \n",
       "A2                                    1                  0   \n",
       "A3                                  170                 16   \n",
       "Astra                               751                  6   \n",
       "Clio                                  4                  5   \n",
       "Corsa                                29                  1   \n",
       "Duster                                0                  0   \n",
       "Espace                              394                 29   \n",
       "Insignia                           1260                 14   \n",
       "\n",
       "          Passenger-side airbag  Power steering  Rear airbag  Side airbag  \\\n",
       "model                                                                       \n",
       "A1                         2296            2350           96         2320   \n",
       "A2                            1               1            0            1   \n",
       "A3                         2543            2839          248         2509   \n",
       "Astra                      2191            2166          115         2125   \n",
       "Clio                       1508            1448           69         1490   \n",
       "Corsa                      1885            1933           73         1860   \n",
       "Duster                        2              34            0            0   \n",
       "Espace                      801             730           95          786   \n",
       "Insignia                   2208            2098          170         2112   \n",
       "\n",
       "          Tire pressure monitoring system  Traction control  \\\n",
       "model                                                         \n",
       "A1                                   1764              1857   \n",
       "A2                                      1                 1   \n",
       "A3                                   1800              2178   \n",
       "Astra                                1870              1801   \n",
       "Clio                                 1109               965   \n",
       "Corsa                                1549              1501   \n",
       "Duster                                  0                 1   \n",
       "Espace                                622               641   \n",
       "Insignia                             1889              2059   \n",
       "\n",
       "          Traffic sign recognition  Xenon headlights  \n",
       "model                                                 \n",
       "A1                              38               741  \n",
       "A2                               0                 0  \n",
       "A3                              61              2051  \n",
       "Astra                          609                98  \n",
       "Clio                             7                24  \n",
       "Corsa                           20                55  \n",
       "Duster                           0                 0  \n",
       "Espace                         458                64  \n",
       "Insignia                       783               506  "
      ]
     },
     "execution_count": 31,
     "metadata": {},
     "output_type": "execute_result"
    }
   ],
   "source": [
    "# Compare auto models and new columns\n",
    "# df_new.groupby('model').sum()"
   ]
  },
  {
   "cell_type": "code",
   "execution_count": 34,
   "metadata": {},
   "outputs": [
    {
     "data": {
      "text/plain": [
       "A3          3097\n",
       "A1          2614\n",
       "Insignia    2598\n",
       "Astra       2526\n",
       "Corsa       2219\n",
       "Clio        1839\n",
       "Espace       991\n",
       "Duster        34\n",
       "A2             1\n",
       "Name: model, dtype: int64"
      ]
     },
     "execution_count": 34,
     "metadata": {},
     "output_type": "execute_result"
    }
   ],
   "source": [
    "# Distribution of car models\n",
    "# df_new.model.value_counts()"
   ]
  },
  {
   "cell_type": "code",
   "execution_count": 35,
   "metadata": {},
   "outputs": [
    {
     "data": {
      "text/plain": [
       "<matplotlib.axes._subplots.AxesSubplot at 0x1a27d392b0>"
      ]
     },
     "execution_count": 35,
     "metadata": {},
     "output_type": "execute_result"
    },
    {
     "data": {
      "image/png": "[encoded data removed]",
      "text/plain": [
       "<Figure size 432x288 with 1 Axes>"
      ]
     },
     "metadata": {
      "needs_background": "light"
     },
     "output_type": "display_data"
    }
   ],
   "source": [
    "# df_new.model.value_counts().plot.bar(rot=70)"
   ]
  },
  {
   "cell_type": "markdown",
   "metadata": {},
   "source": [
    "### Make"
   ]
  },
  {
   "cell_type": "code",
   "execution_count": 36,
   "metadata": {},
   "outputs": [
    {
     "data": {
      "text/plain": [
       "10054       \\nOpel\\n\n",
       "14135    \\nRenault\\n\n",
       "3400        \\nAudi\\n\n",
       "2278        \\nAudi\\n\n",
       "5420        \\nAudi\\n\n",
       "10544       \\nOpel\\n\n",
       "6827        \\nOpel\\n\n",
       "3312        \\nAudi\\n\n",
       "9959        \\nOpel\\n\n",
       "7409        \\nOpel\\n\n",
       "Name: make, dtype: object"
      ]
     },
     "execution_count": 36,
     "metadata": {},
     "output_type": "execute_result"
    }
   ],
   "source": [
    "# df.make.sample(10)"
   ]
  },
  {
   "cell_type": "code",
   "execution_count": 37,
   "metadata": {},
   "outputs": [
    {
     "data": {
      "text/plain": [
       "0"
      ]
     },
     "execution_count": 37,
     "metadata": {},
     "output_type": "execute_result"
    }
   ],
   "source": [
    "# Number of missing values in this column\n",
    "# df.make.isnull().sum()"
   ]
  },
  {
   "cell_type": "code",
   "execution_count": 48,
   "metadata": {},
   "outputs": [],
   "source": [
    "# Strip \"\\n\"s from the 'make' column\n",
    "df_new['make'] = df.make.str.strip(\"\\n\")"
   ]
  },
  {
   "cell_type": "code",
   "execution_count": 49,
   "metadata": {},
   "outputs": [
    {
     "data": {
      "text/plain": [
       "12880       Opel\n",
       "12796       Opel\n",
       "12534       Opel\n",
       "14197    Renault\n",
       "9411        Opel\n",
       "5011        Audi\n",
       "7321        Opel\n",
       "1852        Audi\n",
       "15039    Renault\n",
       "5873        Opel\n",
       "Name: make, dtype: object"
      ]
     },
     "execution_count": 49,
     "metadata": {},
     "output_type": "execute_result"
    }
   ],
   "source": [
    "# df_new['make'].sample(10)"
   ]
  },
  {
   "cell_type": "code",
   "execution_count": 50,
   "metadata": {},
   "outputs": [
    {
     "data": {
      "text/plain": [
       "Opel       7343\n",
       "Audi       5712\n",
       "Renault    2864\n",
       "Name: make, dtype: int64"
      ]
     },
     "execution_count": 50,
     "metadata": {},
     "output_type": "execute_result"
    }
   ],
   "source": [
    "# df_new.make.value_counts()"
   ]
  },
  {
   "cell_type": "code",
   "execution_count": 51,
   "metadata": {},
   "outputs": [
    {
     "data": {
      "text/plain": [
       "make     model   \n",
       "Audi     A1          2614\n",
       "         A2             1\n",
       "         A3          3097\n",
       "Opel     Astra       2526\n",
       "         Corsa       2219\n",
       "         Insignia    2598\n",
       "Renault  Clio        1839\n",
       "         Duster        34\n",
       "         Espace       991\n",
       "dtype: int64"
      ]
     },
     "execution_count": 51,
     "metadata": {},
     "output_type": "execute_result"
    }
   ],
   "source": [
    "# df_new.groupby([\"make\", \"model\"]).size()"
   ]
  },
  {
   "cell_type": "code",
   "execution_count": 52,
   "metadata": {},
   "outputs": [
    {
     "data": {
      "text/html": [
       "<div>\n",
       "<style scoped>\n",
       "    .dataframe tbody tr th:only-of-type {\n",
       "        vertical-align: middle;\n",
       "    }\n",
       "\n",
       "    .dataframe tbody tr th {\n",
       "        vertical-align: top;\n",
       "    }\n",
       "\n",
       "    .dataframe thead th {\n",
       "        text-align: right;\n",
       "    }\n",
       "</style>\n",
       "<table border=\"1\" class=\"dataframe\">\n",
       "  <thead>\n",
       "    <tr style=\"text-align: right;\">\n",
       "      <th></th>\n",
       "      <th></th>\n",
       "      <th>ABS</th>\n",
       "      <th>Adaptive Cruise Control</th>\n",
       "      <th>Adaptive headlights</th>\n",
       "      <th>Alarm system</th>\n",
       "      <th>Blind spot monitor</th>\n",
       "      <th>Central door lock</th>\n",
       "      <th>Central door lock with remote control</th>\n",
       "      <th>Daytime running lights</th>\n",
       "      <th>Driver drowsiness detection</th>\n",
       "      <th>Driver-side airbag</th>\n",
       "      <th>Electronic stability control</th>\n",
       "      <th>Emergency brake assistant</th>\n",
       "      <th>Emergency system</th>\n",
       "      <th>Fog lights</th>\n",
       "      <th>Head airbag</th>\n",
       "      <th>Immobilizer</th>\n",
       "      <th>Isofix</th>\n",
       "      <th>LED Daytime Running Lights</th>\n",
       "      <th>LED Headlights</th>\n",
       "      <th>Lane departure warning system</th>\n",
       "      <th>Night view assist</th>\n",
       "      <th>Passenger-side airbag</th>\n",
       "      <th>Power steering</th>\n",
       "      <th>Rear airbag</th>\n",
       "      <th>Side airbag</th>\n",
       "      <th>Tire pressure monitoring system</th>\n",
       "      <th>Traction control</th>\n",
       "      <th>Traffic sign recognition</th>\n",
       "      <th>Xenon headlights</th>\n",
       "    </tr>\n",
       "    <tr>\n",
       "      <th>make</th>\n",
       "      <th>model</th>\n",
       "      <th></th>\n",
       "      <th></th>\n",
       "      <th></th>\n",
       "      <th></th>\n",
       "      <th></th>\n",
       "      <th></th>\n",
       "      <th></th>\n",
       "      <th></th>\n",
       "      <th></th>\n",
       "      <th></th>\n",
       "      <th></th>\n",
       "      <th></th>\n",
       "      <th></th>\n",
       "      <th></th>\n",
       "      <th></th>\n",
       "      <th></th>\n",
       "      <th></th>\n",
       "      <th></th>\n",
       "      <th></th>\n",
       "      <th></th>\n",
       "      <th></th>\n",
       "      <th></th>\n",
       "      <th></th>\n",
       "      <th></th>\n",
       "      <th></th>\n",
       "      <th></th>\n",
       "      <th></th>\n",
       "      <th></th>\n",
       "      <th></th>\n",
       "    </tr>\n",
       "  </thead>\n",
       "  <tbody>\n",
       "    <tr>\n",
       "      <th rowspan=\"3\" valign=\"top\">Audi</th>\n",
       "      <th>A1</th>\n",
       "      <td>0.857689</td>\n",
       "      <td>0.021423</td>\n",
       "      <td>0.048967</td>\n",
       "      <td>0.109793</td>\n",
       "      <td>0.004208</td>\n",
       "      <td>0.808722</td>\n",
       "      <td>0.156083</td>\n",
       "      <td>0.740245</td>\n",
       "      <td>0.026779</td>\n",
       "      <td>0.874904</td>\n",
       "      <td>0.887146</td>\n",
       "      <td>0.159143</td>\n",
       "      <td>0.117827</td>\n",
       "      <td>0.527927</td>\n",
       "      <td>0.159908</td>\n",
       "      <td>0.798776</td>\n",
       "      <td>0.690130</td>\n",
       "      <td>0.148049</td>\n",
       "      <td>0.143076</td>\n",
       "      <td>0.170237</td>\n",
       "      <td>0.001530</td>\n",
       "      <td>0.878347</td>\n",
       "      <td>0.899005</td>\n",
       "      <td>0.036725</td>\n",
       "      <td>0.887529</td>\n",
       "      <td>0.674828</td>\n",
       "      <td>0.710406</td>\n",
       "      <td>0.014537</td>\n",
       "      <td>0.283474</td>\n",
       "    </tr>\n",
       "    <tr>\n",
       "      <th>A2</th>\n",
       "      <td>1.000000</td>\n",
       "      <td>1.000000</td>\n",
       "      <td>0.000000</td>\n",
       "      <td>0.000000</td>\n",
       "      <td>0.000000</td>\n",
       "      <td>1.000000</td>\n",
       "      <td>0.000000</td>\n",
       "      <td>1.000000</td>\n",
       "      <td>0.000000</td>\n",
       "      <td>1.000000</td>\n",
       "      <td>1.000000</td>\n",
       "      <td>1.000000</td>\n",
       "      <td>0.000000</td>\n",
       "      <td>0.000000</td>\n",
       "      <td>0.000000</td>\n",
       "      <td>1.000000</td>\n",
       "      <td>1.000000</td>\n",
       "      <td>0.000000</td>\n",
       "      <td>0.000000</td>\n",
       "      <td>1.000000</td>\n",
       "      <td>0.000000</td>\n",
       "      <td>1.000000</td>\n",
       "      <td>1.000000</td>\n",
       "      <td>0.000000</td>\n",
       "      <td>1.000000</td>\n",
       "      <td>1.000000</td>\n",
       "      <td>1.000000</td>\n",
       "      <td>0.000000</td>\n",
       "      <td>0.000000</td>\n",
       "    </tr>\n",
       "    <tr>\n",
       "      <th>A3</th>\n",
       "      <td>0.927672</td>\n",
       "      <td>0.140136</td>\n",
       "      <td>0.103649</td>\n",
       "      <td>0.235066</td>\n",
       "      <td>0.013239</td>\n",
       "      <td>0.804004</td>\n",
       "      <td>0.192767</td>\n",
       "      <td>0.491443</td>\n",
       "      <td>0.090733</td>\n",
       "      <td>0.896997</td>\n",
       "      <td>0.790119</td>\n",
       "      <td>0.076526</td>\n",
       "      <td>0.038424</td>\n",
       "      <td>0.347110</td>\n",
       "      <td>0.181789</td>\n",
       "      <td>0.666774</td>\n",
       "      <td>0.695835</td>\n",
       "      <td>0.257669</td>\n",
       "      <td>0.160478</td>\n",
       "      <td>0.054892</td>\n",
       "      <td>0.005166</td>\n",
       "      <td>0.821117</td>\n",
       "      <td>0.916694</td>\n",
       "      <td>0.080077</td>\n",
       "      <td>0.810139</td>\n",
       "      <td>0.581208</td>\n",
       "      <td>0.703261</td>\n",
       "      <td>0.019696</td>\n",
       "      <td>0.662254</td>\n",
       "    </tr>\n",
       "    <tr>\n",
       "      <th rowspan=\"3\" valign=\"top\">Opel</th>\n",
       "      <th>Astra</th>\n",
       "      <td>0.866587</td>\n",
       "      <td>0.058591</td>\n",
       "      <td>0.098179</td>\n",
       "      <td>0.084323</td>\n",
       "      <td>0.063341</td>\n",
       "      <td>0.844814</td>\n",
       "      <td>0.127078</td>\n",
       "      <td>0.744656</td>\n",
       "      <td>0.015044</td>\n",
       "      <td>0.892320</td>\n",
       "      <td>0.857878</td>\n",
       "      <td>0.275139</td>\n",
       "      <td>0.126683</td>\n",
       "      <td>0.648852</td>\n",
       "      <td>0.111639</td>\n",
       "      <td>0.704276</td>\n",
       "      <td>0.818686</td>\n",
       "      <td>0.502375</td>\n",
       "      <td>0.124703</td>\n",
       "      <td>0.297308</td>\n",
       "      <td>0.002375</td>\n",
       "      <td>0.867379</td>\n",
       "      <td>0.857482</td>\n",
       "      <td>0.045527</td>\n",
       "      <td>0.841251</td>\n",
       "      <td>0.740301</td>\n",
       "      <td>0.712985</td>\n",
       "      <td>0.241093</td>\n",
       "      <td>0.038797</td>\n",
       "    </tr>\n",
       "    <tr>\n",
       "      <th>Corsa</th>\n",
       "      <td>0.895899</td>\n",
       "      <td>0.009914</td>\n",
       "      <td>0.033348</td>\n",
       "      <td>0.072555</td>\n",
       "      <td>0.008562</td>\n",
       "      <td>0.830554</td>\n",
       "      <td>0.168094</td>\n",
       "      <td>0.712934</td>\n",
       "      <td>0.000901</td>\n",
       "      <td>0.878774</td>\n",
       "      <td>0.829202</td>\n",
       "      <td>0.042361</td>\n",
       "      <td>0.040559</td>\n",
       "      <td>0.504732</td>\n",
       "      <td>0.136999</td>\n",
       "      <td>0.562866</td>\n",
       "      <td>0.800361</td>\n",
       "      <td>0.200090</td>\n",
       "      <td>0.013970</td>\n",
       "      <td>0.013069</td>\n",
       "      <td>0.000451</td>\n",
       "      <td>0.849482</td>\n",
       "      <td>0.871113</td>\n",
       "      <td>0.032898</td>\n",
       "      <td>0.838215</td>\n",
       "      <td>0.698062</td>\n",
       "      <td>0.676431</td>\n",
       "      <td>0.009013</td>\n",
       "      <td>0.024786</td>\n",
       "    </tr>\n",
       "    <tr>\n",
       "      <th>Insignia</th>\n",
       "      <td>0.865666</td>\n",
       "      <td>0.161278</td>\n",
       "      <td>0.396844</td>\n",
       "      <td>0.087760</td>\n",
       "      <td>0.235181</td>\n",
       "      <td>0.797921</td>\n",
       "      <td>0.127406</td>\n",
       "      <td>0.715166</td>\n",
       "      <td>0.024249</td>\n",
       "      <td>0.846420</td>\n",
       "      <td>0.843341</td>\n",
       "      <td>0.444573</td>\n",
       "      <td>0.254811</td>\n",
       "      <td>0.680523</td>\n",
       "      <td>0.134334</td>\n",
       "      <td>0.719400</td>\n",
       "      <td>0.780216</td>\n",
       "      <td>0.521170</td>\n",
       "      <td>0.374519</td>\n",
       "      <td>0.484988</td>\n",
       "      <td>0.005389</td>\n",
       "      <td>0.849885</td>\n",
       "      <td>0.807544</td>\n",
       "      <td>0.065435</td>\n",
       "      <td>0.812933</td>\n",
       "      <td>0.727098</td>\n",
       "      <td>0.792533</td>\n",
       "      <td>0.301386</td>\n",
       "      <td>0.194765</td>\n",
       "    </tr>\n",
       "    <tr>\n",
       "      <th rowspan=\"3\" valign=\"top\">Renault</th>\n",
       "      <th>Clio</th>\n",
       "      <td>0.914628</td>\n",
       "      <td>0.011963</td>\n",
       "      <td>0.063622</td>\n",
       "      <td>0.097336</td>\n",
       "      <td>0.001631</td>\n",
       "      <td>0.796085</td>\n",
       "      <td>0.132681</td>\n",
       "      <td>0.570419</td>\n",
       "      <td>0.001631</td>\n",
       "      <td>0.859706</td>\n",
       "      <td>0.792278</td>\n",
       "      <td>0.076672</td>\n",
       "      <td>0.021751</td>\n",
       "      <td>0.525285</td>\n",
       "      <td>0.063078</td>\n",
       "      <td>0.530179</td>\n",
       "      <td>0.675367</td>\n",
       "      <td>0.444807</td>\n",
       "      <td>0.183796</td>\n",
       "      <td>0.002175</td>\n",
       "      <td>0.002719</td>\n",
       "      <td>0.820011</td>\n",
       "      <td>0.787384</td>\n",
       "      <td>0.037520</td>\n",
       "      <td>0.810223</td>\n",
       "      <td>0.603045</td>\n",
       "      <td>0.524742</td>\n",
       "      <td>0.003806</td>\n",
       "      <td>0.013051</td>\n",
       "    </tr>\n",
       "    <tr>\n",
       "      <th>Duster</th>\n",
       "      <td>1.000000</td>\n",
       "      <td>0.000000</td>\n",
       "      <td>0.000000</td>\n",
       "      <td>0.000000</td>\n",
       "      <td>0.000000</td>\n",
       "      <td>0.058824</td>\n",
       "      <td>0.000000</td>\n",
       "      <td>0.000000</td>\n",
       "      <td>0.000000</td>\n",
       "      <td>1.000000</td>\n",
       "      <td>0.029412</td>\n",
       "      <td>0.000000</td>\n",
       "      <td>0.000000</td>\n",
       "      <td>0.470588</td>\n",
       "      <td>0.000000</td>\n",
       "      <td>0.000000</td>\n",
       "      <td>0.058824</td>\n",
       "      <td>0.000000</td>\n",
       "      <td>0.000000</td>\n",
       "      <td>0.000000</td>\n",
       "      <td>0.000000</td>\n",
       "      <td>0.058824</td>\n",
       "      <td>1.000000</td>\n",
       "      <td>0.000000</td>\n",
       "      <td>0.000000</td>\n",
       "      <td>0.000000</td>\n",
       "      <td>0.029412</td>\n",
       "      <td>0.000000</td>\n",
       "      <td>0.000000</td>\n",
       "    </tr>\n",
       "    <tr>\n",
       "      <th>Espace</th>\n",
       "      <td>0.879919</td>\n",
       "      <td>0.202825</td>\n",
       "      <td>0.123108</td>\n",
       "      <td>0.127144</td>\n",
       "      <td>0.450050</td>\n",
       "      <td>0.591322</td>\n",
       "      <td>0.124117</td>\n",
       "      <td>0.589304</td>\n",
       "      <td>0.049445</td>\n",
       "      <td>0.825429</td>\n",
       "      <td>0.770938</td>\n",
       "      <td>0.415742</td>\n",
       "      <td>0.037336</td>\n",
       "      <td>0.250252</td>\n",
       "      <td>0.155399</td>\n",
       "      <td>0.477296</td>\n",
       "      <td>0.675076</td>\n",
       "      <td>0.439960</td>\n",
       "      <td>0.541877</td>\n",
       "      <td>0.397578</td>\n",
       "      <td>0.029263</td>\n",
       "      <td>0.808274</td>\n",
       "      <td>0.736630</td>\n",
       "      <td>0.095863</td>\n",
       "      <td>0.793138</td>\n",
       "      <td>0.627649</td>\n",
       "      <td>0.646821</td>\n",
       "      <td>0.462159</td>\n",
       "      <td>0.064581</td>\n",
       "    </tr>\n",
       "  </tbody>\n",
       "</table>\n",
       "</div>"
      ],
      "text/plain": [
       "                       ABS  Adaptive Cruise Control  Adaptive headlights  \\\n",
       "make    model                                                              \n",
       "Audi    A1        0.857689                 0.021423             0.048967   \n",
       "        A2        1.000000                 1.000000             0.000000   \n",
       "        A3        0.927672                 0.140136             0.103649   \n",
       "Opel    Astra     0.866587                 0.058591             0.098179   \n",
       "        Corsa     0.895899                 0.009914             0.033348   \n",
       "        Insignia  0.865666                 0.161278             0.396844   \n",
       "Renault Clio      0.914628                 0.011963             0.063622   \n",
       "        Duster    1.000000                 0.000000             0.000000   \n",
       "        Espace    0.879919                 0.202825             0.123108   \n",
       "\n",
       "                  Alarm system  Blind spot monitor  Central door lock  \\\n",
       "make    model                                                           \n",
       "Audi    A1            0.109793            0.004208           0.808722   \n",
       "        A2            0.000000            0.000000           1.000000   \n",
       "        A3            0.235066            0.013239           0.804004   \n",
       "Opel    Astra         0.084323            0.063341           0.844814   \n",
       "        Corsa         0.072555            0.008562           0.830554   \n",
       "        Insignia      0.087760            0.235181           0.797921   \n",
       "Renault Clio          0.097336            0.001631           0.796085   \n",
       "        Duster        0.000000            0.000000           0.058824   \n",
       "        Espace        0.127144            0.450050           0.591322   \n",
       "\n",
       "                  Central door lock with remote control  \\\n",
       "make    model                                             \n",
       "Audi    A1                                     0.156083   \n",
       "        A2                                     0.000000   \n",
       "        A3                                     0.192767   \n",
       "Opel    Astra                                  0.127078   \n",
       "        Corsa                                  0.168094   \n",
       "        Insignia                               0.127406   \n",
       "Renault Clio                                   0.132681   \n",
       "        Duster                                 0.000000   \n",
       "        Espace                                 0.124117   \n",
       "\n",
       "                  Daytime running lights  Driver drowsiness detection  \\\n",
       "make    model                                                           \n",
       "Audi    A1                      0.740245                     0.026779   \n",
       "        A2                      1.000000                     0.000000   \n",
       "        A3                      0.491443                     0.090733   \n",
       "Opel    Astra                   0.744656                     0.015044   \n",
       "        Corsa                   0.712934                     0.000901   \n",
       "        Insignia                0.715166                     0.024249   \n",
       "Renault Clio                    0.570419                     0.001631   \n",
       "        Duster                  0.000000                     0.000000   \n",
       "        Espace                  0.589304                     0.049445   \n",
       "\n",
       "                  Driver-side airbag  Electronic stability control  \\\n",
       "make    model                                                        \n",
       "Audi    A1                  0.874904                      0.887146   \n",
       "        A2                  1.000000                      1.000000   \n",
       "        A3                  0.896997                      0.790119   \n",
       "Opel    Astra               0.892320                      0.857878   \n",
       "        Corsa               0.878774                      0.829202   \n",
       "        Insignia            0.846420                      0.843341   \n",
       "Renault Clio                0.859706                      0.792278   \n",
       "        Duster              1.000000                      0.029412   \n",
       "        Espace              0.825429                      0.770938   \n",
       "\n",
       "                  Emergency brake assistant  Emergency system  Fog lights  \\\n",
       "make    model                                                               \n",
       "Audi    A1                         0.159143          0.117827    0.527927   \n",
       "        A2                         1.000000          0.000000    0.000000   \n",
       "        A3                         0.076526          0.038424    0.347110   \n",
       "Opel    Astra                      0.275139          0.126683    0.648852   \n",
       "        Corsa                      0.042361          0.040559    0.504732   \n",
       "        Insignia                   0.444573          0.254811    0.680523   \n",
       "Renault Clio                       0.076672          0.021751    0.525285   \n",
       "        Duster                     0.000000          0.000000    0.470588   \n",
       "        Espace                     0.415742          0.037336    0.250252   \n",
       "\n",
       "                  Head airbag  Immobilizer    Isofix  \\\n",
       "make    model                                          \n",
       "Audi    A1           0.159908     0.798776  0.690130   \n",
       "        A2           0.000000     1.000000  1.000000   \n",
       "        A3           0.181789     0.666774  0.695835   \n",
       "Opel    Astra        0.111639     0.704276  0.818686   \n",
       "        Corsa        0.136999     0.562866  0.800361   \n",
       "        Insignia     0.134334     0.719400  0.780216   \n",
       "Renault Clio         0.063078     0.530179  0.675367   \n",
       "        Duster       0.000000     0.000000  0.058824   \n",
       "        Espace       0.155399     0.477296  0.675076   \n",
       "\n",
       "                  LED Daytime Running Lights  LED Headlights  \\\n",
       "make    model                                                  \n",
       "Audi    A1                          0.148049        0.143076   \n",
       "        A2                          0.000000        0.000000   \n",
       "        A3                          0.257669        0.160478   \n",
       "Opel    Astra                       0.502375        0.124703   \n",
       "        Corsa                       0.200090        0.013970   \n",
       "        Insignia                    0.521170        0.374519   \n",
       "Renault Clio                        0.444807        0.183796   \n",
       "        Duster                      0.000000        0.000000   \n",
       "        Espace                      0.439960        0.541877   \n",
       "\n",
       "                  Lane departure warning system  Night view assist  \\\n",
       "make    model                                                        \n",
       "Audi    A1                             0.170237           0.001530   \n",
       "        A2                             1.000000           0.000000   \n",
       "        A3                             0.054892           0.005166   \n",
       "Opel    Astra                          0.297308           0.002375   \n",
       "        Corsa                          0.013069           0.000451   \n",
       "        Insignia                       0.484988           0.005389   \n",
       "Renault Clio                           0.002175           0.002719   \n",
       "        Duster                         0.000000           0.000000   \n",
       "        Espace                         0.397578           0.029263   \n",
       "\n",
       "                  Passenger-side airbag  Power steering  Rear airbag  \\\n",
       "make    model                                                          \n",
       "Audi    A1                     0.878347        0.899005     0.036725   \n",
       "        A2                     1.000000        1.000000     0.000000   \n",
       "        A3                     0.821117        0.916694     0.080077   \n",
       "Opel    Astra                  0.867379        0.857482     0.045527   \n",
       "        Corsa                  0.849482        0.871113     0.032898   \n",
       "        Insignia               0.849885        0.807544     0.065435   \n",
       "Renault Clio                   0.820011        0.787384     0.037520   \n",
       "        Duster                 0.058824        1.000000     0.000000   \n",
       "        Espace                 0.808274        0.736630     0.095863   \n",
       "\n",
       "                  Side airbag  Tire pressure monitoring system  \\\n",
       "make    model                                                    \n",
       "Audi    A1           0.887529                         0.674828   \n",
       "        A2           1.000000                         1.000000   \n",
       "        A3           0.810139                         0.581208   \n",
       "Opel    Astra        0.841251                         0.740301   \n",
       "        Corsa        0.838215                         0.698062   \n",
       "        Insignia     0.812933                         0.727098   \n",
       "Renault Clio         0.810223                         0.603045   \n",
       "        Duster       0.000000                         0.000000   \n",
       "        Espace       0.793138                         0.627649   \n",
       "\n",
       "                  Traction control  Traffic sign recognition  Xenon headlights  \n",
       "make    model                                                                   \n",
       "Audi    A1                0.710406                  0.014537          0.283474  \n",
       "        A2                1.000000                  0.000000          0.000000  \n",
       "        A3                0.703261                  0.019696          0.662254  \n",
       "Opel    Astra             0.712985                  0.241093          0.038797  \n",
       "        Corsa             0.676431                  0.009013          0.024786  \n",
       "        Insignia          0.792533                  0.301386          0.194765  \n",
       "Renault Clio              0.524742                  0.003806          0.013051  \n",
       "        Duster            0.029412                  0.000000          0.000000  \n",
       "        Espace            0.646821                  0.462159          0.064581  "
      ]
     },
     "execution_count": 52,
     "metadata": {},
     "output_type": "execute_result"
    }
   ],
   "source": [
    "# df_new.groupby([\"make\", \"model\"]).mean()"
   ]
  },
  {
   "cell_type": "code",
   "execution_count": 53,
   "metadata": {},
   "outputs": [
    {
     "data": {
      "text/plain": [
       "<matplotlib.axes._subplots.AxesSubplot at 0x1a27c2e048>"
      ]
     },
     "execution_count": 53,
     "metadata": {},
     "output_type": "execute_result"
    },
    {
     "data": {
      "image/png": "[encoded data removed]",
      "text/plain": [
       "<Figure size 720x360 with 2 Axes>"
      ]
     },
     "metadata": {
      "needs_background": "light"
     },
     "output_type": "display_data"
    }
   ],
   "source": [
    "# # Add figure size\n",
    "# plt.figure(figsize=(10,5))\n",
    "\n",
    "# # Plot heatmap of the table above\n",
    "# sns.heatmap(df_new.groupby([\"make\", \"model\"]).mean(), \n",
    "#             linewidths=.5, cmap=\"RdYlGn\")"
   ]
  },
  {
   "cell_type": "markdown",
   "metadata": {},
   "source": [
    "Initial findings:\n",
    "- Renault Duster has almost no extras. Interestingly however, all Dusters have ABS, Driver-side airbag and Power steering. The reason might be that Duster is a relatively new model of Renault, and that all the cars have ABS etc. (It is possible that Old Merivas, for example, might not have ABS)\n",
    "- Almost none of the cars have Blind spot monitor, Emergency System, Night view Assist and Traffic Sign Recognition. This is normal since only luxury segment cars (high end models) have such characteristics.\n",
    "- Only Audis have Xenon headlights (or high proportion of Audis)\n",
    "- It is hard to make inference using this graph, since it shows only a portion of car \"makes\" and \"models\".\n",
    "- ..."
   ]
  },
  {
   "cell_type": "markdown",
   "metadata": {},
   "source": [
    "### Model2"
   ]
  },
  {
   "cell_type": "code",
   "execution_count": 55,
   "metadata": {},
   "outputs": [
    {
     "data": {
      "text/plain": [
       "0    Audi A1\n",
       "1    Audi A1\n",
       "2    Audi A1\n",
       "3    Audi A1\n",
       "4    Audi A1\n",
       "Name: make_model, dtype: object"
      ]
     },
     "execution_count": 55,
     "metadata": {},
     "output_type": "execute_result"
    }
   ],
   "source": [
    "# df.make_model.head()"
   ]
  },
  {
   "cell_type": "code",
   "execution_count": 57,
   "metadata": {},
   "outputs": [
    {
     "data": {
      "text/plain": [
       "Audi A3           3097\n",
       "Audi A1           2614\n",
       "Opel Insignia     2598\n",
       "Opel Astra        2526\n",
       "Opel Corsa        2219\n",
       "Renault Clio      1839\n",
       "Renault Espace     991\n",
       "Renault Duster      34\n",
       "Audi A2              1\n",
       "Name: make_model, dtype: int64"
      ]
     },
     "execution_count": 57,
     "metadata": {},
     "output_type": "execute_result"
    }
   ],
   "source": [
    "# df.make_model.value_counts()"
   ]
  },
  {
   "cell_type": "code",
   "execution_count": 58,
   "metadata": {},
   "outputs": [
    {
     "data": {
      "text/plain": [
       "make     model   \n",
       "Audi     A3          3097\n",
       "         A1          2614\n",
       "         A2             1\n",
       "Opel     Insignia    2598\n",
       "         Astra       2526\n",
       "         Corsa       2219\n",
       "Renault  Clio        1839\n",
       "         Espace       991\n",
       "         Duster        34\n",
       "Name: model, dtype: int64"
      ]
     },
     "execution_count": 58,
     "metadata": {},
     "output_type": "execute_result"
    }
   ],
   "source": [
    "# df_new.groupby('make').model.value_counts()"
   ]
  },
  {
   "cell_type": "code",
   "execution_count": 61,
   "metadata": {},
   "outputs": [
    {
     "data": {
      "text/plain": [
       "True"
      ]
     },
     "execution_count": 61,
     "metadata": {},
     "output_type": "execute_result"
    }
   ],
   "source": [
    "# # Create a new Series with Make + Model\n",
    "# makeModel = df_new.make + \" \" + df_new.model\n",
    "\n",
    "# # Check to see whether two Series are the same\n",
    "# makeModel.equals(df.model2)\n",
    "\n",
    "# # Check to see whether two Series are the same (alternative way)\n",
    "# #sum(makeModel != df.model2)"
   ]
  },
  {
   "cell_type": "markdown",
   "metadata": {},
   "source": [
    "The column `make_model` is axactly the same as two columns `make` + `model`. Therefore we can drop the `make_model` column."
   ]
  },
  {
   "cell_type": "code",
   "execution_count": 59,
   "metadata": {},
   "outputs": [],
   "source": [
    "# Drop unnecesary column 'make_model'\n",
    "df_new.drop(columns = \"make_model\", inplace = True)"
   ]
  },
  {
   "cell_type": "markdown",
   "metadata": {},
   "source": [
    "### Model Code"
   ]
  },
  {
   "cell_type": "code",
   "execution_count": 60,
   "metadata": {},
   "outputs": [
    {
     "data": {
      "text/plain": [
       "0    [\\n0588/BDF\\n]\n",
       "1    [\\n0588/BCY\\n]\n",
       "2               NaN\n",
       "3               NaN\n",
       "4    [\\n0588/BDF\\n]\n",
       "Name: model_code, dtype: object"
      ]
     },
     "execution_count": 60,
     "metadata": {},
     "output_type": "execute_result"
    }
   ],
   "source": [
    "# df.model_code.head()"
   ]
  },
  {
   "cell_type": "code",
   "execution_count": 61,
   "metadata": {},
   "outputs": [
    {
     "data": {
      "text/plain": [
       "0.6872919153213142"
      ]
     },
     "execution_count": 61,
     "metadata": {},
     "output_type": "execute_result"
    }
   ],
   "source": [
    "# Proportion of missing values\n",
    "# df.model_code.isnull().mean()"
   ]
  },
  {
   "cell_type": "code",
   "execution_count": 98,
   "metadata": {},
   "outputs": [
    {
     "data": {
      "text/plain": [
       "0    0588/BDF\n",
       "1    0588/BCY\n",
       "2            \n",
       "3            \n",
       "4    0588/BDF\n",
       "Name: model_code, dtype: object"
      ]
     },
     "execution_count": 98,
     "metadata": {},
     "output_type": "execute_result"
    }
   ],
   "source": [
    "# Value counts of the 'model_code' column\n",
    "# df.model_code.apply(lambda x: str(x)[4:-4]).head()"
   ]
  },
  {
   "cell_type": "code",
   "execution_count": 102,
   "metadata": {},
   "outputs": [],
   "source": [
    "# Clean 'model_code' column\n",
    "df_new.loc[df_new.model_code.notnull(), \"model_code\"] = df.model_code[df.model_code.notnull()].apply(lambda x: str(x)[4:-4])"
   ]
  },
  {
   "cell_type": "code",
   "execution_count": 103,
   "metadata": {},
   "outputs": [
    {
     "data": {
      "text/plain": [
       "0    0588/BDF\n",
       "1    0588/BCY\n",
       "2         NaN\n",
       "3         NaN\n",
       "4    0588/BDF\n",
       "Name: model_code, dtype: object"
      ]
     },
     "execution_count": 103,
     "metadata": {},
     "output_type": "execute_result"
    }
   ],
   "source": [
    "# df_new.model_code.head()"
   ]
  },
  {
   "cell_type": "code",
   "execution_count": 104,
   "metadata": {},
   "outputs": [
    {
     "data": {
      "text/plain": [
       "make     model     model_code\n",
       "Audi     A1        0588/BNO      245\n",
       "                   0588/BDB      206\n",
       "                   0588/BDF      175\n",
       "                   0588/BCV      139\n",
       "                   0588/BHM       79\n",
       "                   0588/BDC       67\n",
       "                   0588/BNN       58\n",
       "                   0588/BDG       52\n",
       "                   0588/BHL       40\n",
       "                   0588/BCZ       35\n",
       "                   0588/BCW       31\n",
       "                   0588/BDA       11\n",
       "                   0588/BCY        7\n",
       "                   0588/BDD        7\n",
       "                   0588/BNQ        7\n",
       "                   0588/BCX        6\n",
       "                   0588/BDE        6\n",
       "                   0588/000        3\n",
       "                   0588/BNP        3\n",
       "                   0000/000        1\n",
       "                   0588/AUJ        1\n",
       "                   0588/BN0        1\n",
       "         A2        0588/BJV        1\n",
       "         A3        0588/BHX      188\n",
       "                   0588/AYB      117\n",
       "                   0588/BLL      109\n",
       "                   0588/BLH       86\n",
       "                   0588/AWJ       82\n",
       "                   0588/BLG       53\n",
       "                   0588/BIB       35\n",
       "                                ... \n",
       "Opel     Insignia  1844/AHR        1\n",
       "                   1844/AIB        1\n",
       "                   1844/ajg        1\n",
       "Renault  Clio      3333/BAJ      122\n",
       "                   3333/BEF      118\n",
       "                   3333/BJR       79\n",
       "                   3333/BEG       50\n",
       "                   3333/BAU       22\n",
       "                   3333/BEL       15\n",
       "                   3333/BAD        9\n",
       "                   3333/AZY        8\n",
       "                   3333/BEZ        8\n",
       "                   3333/BBB        6\n",
       "                   3333/BAS        5\n",
       "                   3333/BBK        4\n",
       "                   3333/ABC        2\n",
       "                   3333/AXS        2\n",
       "                   3333/BAT        2\n",
       "                   0000/000        1\n",
       "                   3333/BBL        1\n",
       "         Espace    3333/BHJ       87\n",
       "                   3333/BDQ       59\n",
       "                   3333/BDP       18\n",
       "                   3333/BKQ       18\n",
       "                   3333/BDR       15\n",
       "                   3333/ABC       10\n",
       "                   3333/BKR        8\n",
       "                   0000/000        4\n",
       "                   3333/006        1\n",
       "                   3333/BKG        1\n",
       "Name: model_code, Length: 244, dtype: int64"
      ]
     },
     "execution_count": 104,
     "metadata": {},
     "output_type": "execute_result"
    }
   ],
   "source": [
    "# df_new.groupby([\"make\", \"model\"]).model_code.value_counts()"
   ]
  },
  {
   "cell_type": "code",
   "execution_count": 105,
   "metadata": {},
   "outputs": [
    {
     "data": {
      "text/html": [
       "<div>\n",
       "<style scoped>\n",
       "    .dataframe tbody tr th:only-of-type {\n",
       "        vertical-align: middle;\n",
       "    }\n",
       "\n",
       "    .dataframe tbody tr th {\n",
       "        vertical-align: top;\n",
       "    }\n",
       "\n",
       "    .dataframe thead th {\n",
       "        text-align: right;\n",
       "    }\n",
       "</style>\n",
       "<table border=\"1\" class=\"dataframe\">\n",
       "  <thead>\n",
       "    <tr style=\"text-align: right;\">\n",
       "      <th></th>\n",
       "      <th>ABS</th>\n",
       "      <th>Adaptive Cruise Control</th>\n",
       "      <th>Adaptive headlights</th>\n",
       "      <th>Alarm system</th>\n",
       "      <th>Blind spot monitor</th>\n",
       "      <th>Central door lock</th>\n",
       "      <th>Central door lock with remote control</th>\n",
       "      <th>Daytime running lights</th>\n",
       "      <th>Driver drowsiness detection</th>\n",
       "      <th>Driver-side airbag</th>\n",
       "      <th>Electronic stability control</th>\n",
       "      <th>Emergency brake assistant</th>\n",
       "      <th>Emergency system</th>\n",
       "      <th>Fog lights</th>\n",
       "      <th>Head airbag</th>\n",
       "      <th>Immobilizer</th>\n",
       "      <th>Isofix</th>\n",
       "      <th>LED Daytime Running Lights</th>\n",
       "      <th>LED Headlights</th>\n",
       "      <th>Lane departure warning system</th>\n",
       "      <th>Night view assist</th>\n",
       "      <th>Passenger-side airbag</th>\n",
       "      <th>Power steering</th>\n",
       "      <th>Rear airbag</th>\n",
       "      <th>Side airbag</th>\n",
       "      <th>Tire pressure monitoring system</th>\n",
       "      <th>Traction control</th>\n",
       "      <th>Traffic sign recognition</th>\n",
       "      <th>Xenon headlights</th>\n",
       "    </tr>\n",
       "    <tr>\n",
       "      <th>model_code</th>\n",
       "      <th></th>\n",
       "      <th></th>\n",
       "      <th></th>\n",
       "      <th></th>\n",
       "      <th></th>\n",
       "      <th></th>\n",
       "      <th></th>\n",
       "      <th></th>\n",
       "      <th></th>\n",
       "      <th></th>\n",
       "      <th></th>\n",
       "      <th></th>\n",
       "      <th></th>\n",
       "      <th></th>\n",
       "      <th></th>\n",
       "      <th></th>\n",
       "      <th></th>\n",
       "      <th></th>\n",
       "      <th></th>\n",
       "      <th></th>\n",
       "      <th></th>\n",
       "      <th></th>\n",
       "      <th></th>\n",
       "      <th></th>\n",
       "      <th></th>\n",
       "      <th></th>\n",
       "      <th></th>\n",
       "      <th></th>\n",
       "      <th></th>\n",
       "    </tr>\n",
       "  </thead>\n",
       "  <tbody>\n",
       "    <tr>\n",
       "      <th>1844/ACP</th>\n",
       "      <td>32</td>\n",
       "      <td>0</td>\n",
       "      <td>0</td>\n",
       "      <td>0</td>\n",
       "      <td>0</td>\n",
       "      <td>32</td>\n",
       "      <td>0</td>\n",
       "      <td>32</td>\n",
       "      <td>0</td>\n",
       "      <td>32</td>\n",
       "      <td>32</td>\n",
       "      <td>0</td>\n",
       "      <td>0</td>\n",
       "      <td>0</td>\n",
       "      <td>0</td>\n",
       "      <td>13</td>\n",
       "      <td>32</td>\n",
       "      <td>0</td>\n",
       "      <td>0</td>\n",
       "      <td>0</td>\n",
       "      <td>0</td>\n",
       "      <td>32</td>\n",
       "      <td>32</td>\n",
       "      <td>0</td>\n",
       "      <td>32</td>\n",
       "      <td>31</td>\n",
       "      <td>32</td>\n",
       "      <td>0</td>\n",
       "      <td>0</td>\n",
       "    </tr>\n",
       "    <tr>\n",
       "      <th>0588/BAH</th>\n",
       "      <td>21</td>\n",
       "      <td>0</td>\n",
       "      <td>1</td>\n",
       "      <td>0</td>\n",
       "      <td>0</td>\n",
       "      <td>20</td>\n",
       "      <td>2</td>\n",
       "      <td>17</td>\n",
       "      <td>0</td>\n",
       "      <td>21</td>\n",
       "      <td>21</td>\n",
       "      <td>1</td>\n",
       "      <td>0</td>\n",
       "      <td>11</td>\n",
       "      <td>2</td>\n",
       "      <td>20</td>\n",
       "      <td>21</td>\n",
       "      <td>0</td>\n",
       "      <td>0</td>\n",
       "      <td>0</td>\n",
       "      <td>0</td>\n",
       "      <td>21</td>\n",
       "      <td>21</td>\n",
       "      <td>0</td>\n",
       "      <td>20</td>\n",
       "      <td>18</td>\n",
       "      <td>19</td>\n",
       "      <td>0</td>\n",
       "      <td>8</td>\n",
       "    </tr>\n",
       "    <tr>\n",
       "      <th>1844/AFE</th>\n",
       "      <td>7</td>\n",
       "      <td>0</td>\n",
       "      <td>0</td>\n",
       "      <td>0</td>\n",
       "      <td>0</td>\n",
       "      <td>6</td>\n",
       "      <td>1</td>\n",
       "      <td>7</td>\n",
       "      <td>0</td>\n",
       "      <td>6</td>\n",
       "      <td>7</td>\n",
       "      <td>0</td>\n",
       "      <td>1</td>\n",
       "      <td>4</td>\n",
       "      <td>1</td>\n",
       "      <td>4</td>\n",
       "      <td>7</td>\n",
       "      <td>7</td>\n",
       "      <td>0</td>\n",
       "      <td>1</td>\n",
       "      <td>0</td>\n",
       "      <td>6</td>\n",
       "      <td>7</td>\n",
       "      <td>0</td>\n",
       "      <td>6</td>\n",
       "      <td>4</td>\n",
       "      <td>7</td>\n",
       "      <td>1</td>\n",
       "      <td>0</td>\n",
       "    </tr>\n",
       "    <tr>\n",
       "      <th>3333/BBB</th>\n",
       "      <td>6</td>\n",
       "      <td>0</td>\n",
       "      <td>5</td>\n",
       "      <td>1</td>\n",
       "      <td>0</td>\n",
       "      <td>6</td>\n",
       "      <td>2</td>\n",
       "      <td>6</td>\n",
       "      <td>0</td>\n",
       "      <td>6</td>\n",
       "      <td>6</td>\n",
       "      <td>2</td>\n",
       "      <td>0</td>\n",
       "      <td>5</td>\n",
       "      <td>1</td>\n",
       "      <td>5</td>\n",
       "      <td>6</td>\n",
       "      <td>5</td>\n",
       "      <td>5</td>\n",
       "      <td>0</td>\n",
       "      <td>0</td>\n",
       "      <td>6</td>\n",
       "      <td>6</td>\n",
       "      <td>2</td>\n",
       "      <td>6</td>\n",
       "      <td>4</td>\n",
       "      <td>6</td>\n",
       "      <td>0</td>\n",
       "      <td>0</td>\n",
       "    </tr>\n",
       "    <tr>\n",
       "      <th>0035/BKW</th>\n",
       "      <td>2</td>\n",
       "      <td>0</td>\n",
       "      <td>0</td>\n",
       "      <td>0</td>\n",
       "      <td>0</td>\n",
       "      <td>2</td>\n",
       "      <td>1</td>\n",
       "      <td>2</td>\n",
       "      <td>0</td>\n",
       "      <td>2</td>\n",
       "      <td>2</td>\n",
       "      <td>2</td>\n",
       "      <td>1</td>\n",
       "      <td>2</td>\n",
       "      <td>1</td>\n",
       "      <td>2</td>\n",
       "      <td>2</td>\n",
       "      <td>2</td>\n",
       "      <td>0</td>\n",
       "      <td>1</td>\n",
       "      <td>0</td>\n",
       "      <td>2</td>\n",
       "      <td>2</td>\n",
       "      <td>0</td>\n",
       "      <td>2</td>\n",
       "      <td>2</td>\n",
       "      <td>2</td>\n",
       "      <td>1</td>\n",
       "      <td>0</td>\n",
       "    </tr>\n",
       "    <tr>\n",
       "      <th>0035/BFN</th>\n",
       "      <td>3</td>\n",
       "      <td>0</td>\n",
       "      <td>1</td>\n",
       "      <td>0</td>\n",
       "      <td>0</td>\n",
       "      <td>3</td>\n",
       "      <td>0</td>\n",
       "      <td>3</td>\n",
       "      <td>0</td>\n",
       "      <td>2</td>\n",
       "      <td>3</td>\n",
       "      <td>1</td>\n",
       "      <td>0</td>\n",
       "      <td>2</td>\n",
       "      <td>0</td>\n",
       "      <td>3</td>\n",
       "      <td>2</td>\n",
       "      <td>3</td>\n",
       "      <td>1</td>\n",
       "      <td>1</td>\n",
       "      <td>0</td>\n",
       "      <td>2</td>\n",
       "      <td>3</td>\n",
       "      <td>0</td>\n",
       "      <td>2</td>\n",
       "      <td>3</td>\n",
       "      <td>2</td>\n",
       "      <td>1</td>\n",
       "      <td>0</td>\n",
       "    </tr>\n",
       "    <tr>\n",
       "      <th>0035/BFH</th>\n",
       "      <td>4</td>\n",
       "      <td>0</td>\n",
       "      <td>0</td>\n",
       "      <td>0</td>\n",
       "      <td>0</td>\n",
       "      <td>4</td>\n",
       "      <td>1</td>\n",
       "      <td>4</td>\n",
       "      <td>0</td>\n",
       "      <td>4</td>\n",
       "      <td>4</td>\n",
       "      <td>0</td>\n",
       "      <td>0</td>\n",
       "      <td>4</td>\n",
       "      <td>1</td>\n",
       "      <td>4</td>\n",
       "      <td>4</td>\n",
       "      <td>0</td>\n",
       "      <td>0</td>\n",
       "      <td>0</td>\n",
       "      <td>0</td>\n",
       "      <td>4</td>\n",
       "      <td>4</td>\n",
       "      <td>0</td>\n",
       "      <td>4</td>\n",
       "      <td>3</td>\n",
       "      <td>4</td>\n",
       "      <td>0</td>\n",
       "      <td>0</td>\n",
       "    </tr>\n",
       "    <tr>\n",
       "      <th>1844/ADL</th>\n",
       "      <td>2</td>\n",
       "      <td>0</td>\n",
       "      <td>1</td>\n",
       "      <td>0</td>\n",
       "      <td>0</td>\n",
       "      <td>2</td>\n",
       "      <td>0</td>\n",
       "      <td>2</td>\n",
       "      <td>0</td>\n",
       "      <td>2</td>\n",
       "      <td>2</td>\n",
       "      <td>2</td>\n",
       "      <td>1</td>\n",
       "      <td>2</td>\n",
       "      <td>0</td>\n",
       "      <td>2</td>\n",
       "      <td>2</td>\n",
       "      <td>1</td>\n",
       "      <td>1</td>\n",
       "      <td>0</td>\n",
       "      <td>0</td>\n",
       "      <td>2</td>\n",
       "      <td>2</td>\n",
       "      <td>0</td>\n",
       "      <td>2</td>\n",
       "      <td>2</td>\n",
       "      <td>2</td>\n",
       "      <td>0</td>\n",
       "      <td>0</td>\n",
       "    </tr>\n",
       "    <tr>\n",
       "      <th>0035/BAS</th>\n",
       "      <td>1</td>\n",
       "      <td>0</td>\n",
       "      <td>0</td>\n",
       "      <td>0</td>\n",
       "      <td>0</td>\n",
       "      <td>1</td>\n",
       "      <td>0</td>\n",
       "      <td>1</td>\n",
       "      <td>0</td>\n",
       "      <td>1</td>\n",
       "      <td>1</td>\n",
       "      <td>0</td>\n",
       "      <td>0</td>\n",
       "      <td>1</td>\n",
       "      <td>0</td>\n",
       "      <td>1</td>\n",
       "      <td>1</td>\n",
       "      <td>1</td>\n",
       "      <td>0</td>\n",
       "      <td>0</td>\n",
       "      <td>0</td>\n",
       "      <td>1</td>\n",
       "      <td>1</td>\n",
       "      <td>0</td>\n",
       "      <td>1</td>\n",
       "      <td>1</td>\n",
       "      <td>1</td>\n",
       "      <td>0</td>\n",
       "      <td>1</td>\n",
       "    </tr>\n",
       "    <tr>\n",
       "      <th>0035/BCS</th>\n",
       "      <td>2</td>\n",
       "      <td>0</td>\n",
       "      <td>0</td>\n",
       "      <td>0</td>\n",
       "      <td>0</td>\n",
       "      <td>2</td>\n",
       "      <td>0</td>\n",
       "      <td>2</td>\n",
       "      <td>0</td>\n",
       "      <td>2</td>\n",
       "      <td>2</td>\n",
       "      <td>0</td>\n",
       "      <td>0</td>\n",
       "      <td>2</td>\n",
       "      <td>0</td>\n",
       "      <td>0</td>\n",
       "      <td>2</td>\n",
       "      <td>0</td>\n",
       "      <td>0</td>\n",
       "      <td>0</td>\n",
       "      <td>0</td>\n",
       "      <td>2</td>\n",
       "      <td>2</td>\n",
       "      <td>0</td>\n",
       "      <td>2</td>\n",
       "      <td>2</td>\n",
       "      <td>2</td>\n",
       "      <td>0</td>\n",
       "      <td>0</td>\n",
       "    </tr>\n",
       "  </tbody>\n",
       "</table>\n",
       "</div>"
      ],
      "text/plain": [
       "            ABS  Adaptive Cruise Control  Adaptive headlights  Alarm system  \\\n",
       "model_code                                                                    \n",
       "1844/ACP     32                        0                    0             0   \n",
       "0588/BAH     21                        0                    1             0   \n",
       "1844/AFE      7                        0                    0             0   \n",
       "3333/BBB      6                        0                    5             1   \n",
       "0035/BKW      2                        0                    0             0   \n",
       "0035/BFN      3                        0                    1             0   \n",
       "0035/BFH      4                        0                    0             0   \n",
       "1844/ADL      2                        0                    1             0   \n",
       "0035/BAS      1                        0                    0             0   \n",
       "0035/BCS      2                        0                    0             0   \n",
       "\n",
       "            Blind spot monitor  Central door lock  \\\n",
       "model_code                                          \n",
       "1844/ACP                     0                 32   \n",
       "0588/BAH                     0                 20   \n",
       "1844/AFE                     0                  6   \n",
       "3333/BBB                     0                  6   \n",
       "0035/BKW                     0                  2   \n",
       "0035/BFN                     0                  3   \n",
       "0035/BFH                     0                  4   \n",
       "1844/ADL                     0                  2   \n",
       "0035/BAS                     0                  1   \n",
       "0035/BCS                     0                  2   \n",
       "\n",
       "            Central door lock with remote control  Daytime running lights  \\\n",
       "model_code                                                                  \n",
       "1844/ACP                                        0                      32   \n",
       "0588/BAH                                        2                      17   \n",
       "1844/AFE                                        1                       7   \n",
       "3333/BBB                                        2                       6   \n",
       "0035/BKW                                        1                       2   \n",
       "0035/BFN                                        0                       3   \n",
       "0035/BFH                                        1                       4   \n",
       "1844/ADL                                        0                       2   \n",
       "0035/BAS                                        0                       1   \n",
       "0035/BCS                                        0                       2   \n",
       "\n",
       "            Driver drowsiness detection  Driver-side airbag  \\\n",
       "model_code                                                    \n",
       "1844/ACP                              0                  32   \n",
       "0588/BAH                              0                  21   \n",
       "1844/AFE                              0                   6   \n",
       "3333/BBB                              0                   6   \n",
       "0035/BKW                              0                   2   \n",
       "0035/BFN                              0                   2   \n",
       "0035/BFH                              0                   4   \n",
       "1844/ADL                              0                   2   \n",
       "0035/BAS                              0                   1   \n",
       "0035/BCS                              0                   2   \n",
       "\n",
       "            Electronic stability control  Emergency brake assistant  \\\n",
       "model_code                                                            \n",
       "1844/ACP                              32                          0   \n",
       "0588/BAH                              21                          1   \n",
       "1844/AFE                               7                          0   \n",
       "3333/BBB                               6                          2   \n",
       "0035/BKW                               2                          2   \n",
       "0035/BFN                               3                          1   \n",
       "0035/BFH                               4                          0   \n",
       "1844/ADL                               2                          2   \n",
       "0035/BAS                               1                          0   \n",
       "0035/BCS                               2                          0   \n",
       "\n",
       "            Emergency system  Fog lights  Head airbag  Immobilizer  Isofix  \\\n",
       "model_code                                                                   \n",
       "1844/ACP                   0           0            0           13      32   \n",
       "0588/BAH                   0          11            2           20      21   \n",
       "1844/AFE                   1           4            1            4       7   \n",
       "3333/BBB                   0           5            1            5       6   \n",
       "0035/BKW                   1           2            1            2       2   \n",
       "0035/BFN                   0           2            0            3       2   \n",
       "0035/BFH                   0           4            1            4       4   \n",
       "1844/ADL                   1           2            0            2       2   \n",
       "0035/BAS                   0           1            0            1       1   \n",
       "0035/BCS                   0           2            0            0       2   \n",
       "\n",
       "            LED Daytime Running Lights  LED Headlights  \\\n",
       "model_code                                               \n",
       "1844/ACP                             0               0   \n",
       "0588/BAH                             0               0   \n",
       "1844/AFE                             7               0   \n",
       "3333/BBB                             5               5   \n",
       "0035/BKW                             2               0   \n",
       "0035/BFN                             3               1   \n",
       "0035/BFH                             0               0   \n",
       "1844/ADL                             1               1   \n",
       "0035/BAS                             1               0   \n",
       "0035/BCS                             0               0   \n",
       "\n",
       "            Lane departure warning system  Night view assist  \\\n",
       "model_code                                                     \n",
       "1844/ACP                                0                  0   \n",
       "0588/BAH                                0                  0   \n",
       "1844/AFE                                1                  0   \n",
       "3333/BBB                                0                  0   \n",
       "0035/BKW                                1                  0   \n",
       "0035/BFN                                1                  0   \n",
       "0035/BFH                                0                  0   \n",
       "1844/ADL                                0                  0   \n",
       "0035/BAS                                0                  0   \n",
       "0035/BCS                                0                  0   \n",
       "\n",
       "            Passenger-side airbag  Power steering  Rear airbag  Side airbag  \\\n",
       "model_code                                                                    \n",
       "1844/ACP                       32              32            0           32   \n",
       "0588/BAH                       21              21            0           20   \n",
       "1844/AFE                        6               7            0            6   \n",
       "3333/BBB                        6               6            2            6   \n",
       "0035/BKW                        2               2            0            2   \n",
       "0035/BFN                        2               3            0            2   \n",
       "0035/BFH                        4               4            0            4   \n",
       "1844/ADL                        2               2            0            2   \n",
       "0035/BAS                        1               1            0            1   \n",
       "0035/BCS                        2               2            0            2   \n",
       "\n",
       "            Tire pressure monitoring system  Traction control  \\\n",
       "model_code                                                      \n",
       "1844/ACP                                 31                32   \n",
       "0588/BAH                                 18                19   \n",
       "1844/AFE                                  4                 7   \n",
       "3333/BBB                                  4                 6   \n",
       "0035/BKW                                  2                 2   \n",
       "0035/BFN                                  3                 2   \n",
       "0035/BFH                                  3                 4   \n",
       "1844/ADL                                  2                 2   \n",
       "0035/BAS                                  1                 1   \n",
       "0035/BCS                                  2                 2   \n",
       "\n",
       "            Traffic sign recognition  Xenon headlights  \n",
       "model_code                                              \n",
       "1844/ACP                           0                 0  \n",
       "0588/BAH                           0                 8  \n",
       "1844/AFE                           1                 0  \n",
       "3333/BBB                           0                 0  \n",
       "0035/BKW                           1                 0  \n",
       "0035/BFN                           1                 0  \n",
       "0035/BFH                           0                 0  \n",
       "1844/ADL                           0                 0  \n",
       "0035/BAS                           0                 1  \n",
       "0035/BCS                           0                 0  "
      ]
     },
     "execution_count": 105,
     "metadata": {},
     "output_type": "execute_result"
    }
   ],
   "source": [
    "# df_new.groupby(\"model_code\").sum().sample(10)"
   ]
  },
  {
   "cell_type": "markdown",
   "metadata": {},
   "source": [
    "Most of the information in this column is missing. We already have make and model columns, and additionally we have extra information on cars. Thus, this column may not be necessary.\n",
    "> I suggest dropping `model_code` column."
   ]
  },
  {
   "cell_type": "code",
   "execution_count": 70,
   "metadata": {},
   "outputs": [],
   "source": [
    "# df_new.drop(columns = \"model_code\", inplace = True)"
   ]
  },
  {
   "cell_type": "markdown",
   "metadata": {},
   "source": [
    "### Country Version"
   ]
  },
  {
   "cell_type": "code",
   "execution_count": 106,
   "metadata": {},
   "outputs": [
    {
     "data": {
      "text/plain": [
       "0              NaN\n",
       "1              NaN\n",
       "2              NaN\n",
       "3              NaN\n",
       "4    [\\nGermany\\n]\n",
       "Name: country_version, dtype: object"
      ]
     },
     "execution_count": 106,
     "metadata": {},
     "output_type": "execute_result"
    }
   ],
   "source": [
    "# df.country_version.head()"
   ]
  },
  {
   "cell_type": "code",
   "execution_count": 107,
   "metadata": {},
   "outputs": [
    {
     "data": {
      "text/plain": [
       "0.5234625290533325"
      ]
     },
     "execution_count": 107,
     "metadata": {},
     "output_type": "execute_result"
    }
   ],
   "source": [
    "# Proportion of missing values\n",
    "# df.country_version.isnull().mean()"
   ]
  },
  {
   "cell_type": "code",
   "execution_count": 108,
   "metadata": {},
   "outputs": [],
   "source": [
    "# Clean 'country_version' column\n",
    "df_new.loc[df_new.country_version.notnull(), \"country_version\"] = df.country_version[df.country_version.notnull()].apply(lambda x: str(x)[4:-4])"
   ]
  },
  {
   "cell_type": "code",
   "execution_count": 109,
   "metadata": {},
   "outputs": [
    {
     "data": {
      "text/plain": [
       "Germany           4502\n",
       "Italy             1038\n",
       "European Union     507\n",
       "Netherlands        464\n",
       "Spain              325\n",
       "Belgium            314\n",
       "Austria            208\n",
       "Czech Republic      52\n",
       "Poland              49\n",
       "France              38\n",
       "Denmark             33\n",
       "Hungary             28\n",
       "Japan                8\n",
       "Croatia              4\n",
       "Slovakia             4\n",
       "Sweden               3\n",
       "Romania              2\n",
       "Bulgaria             2\n",
       "Egypt                1\n",
       "Serbia               1\n",
       "Slovenia             1\n",
       "Luxembourg           1\n",
       "Switzerland          1\n",
       "Name: country_version, dtype: int64"
      ]
     },
     "execution_count": 109,
     "metadata": {},
     "output_type": "execute_result"
    }
   ],
   "source": [
    "# df_new.country_version.value_counts()"
   ]
  },
  {
   "cell_type": "code",
   "execution_count": 110,
   "metadata": {},
   "outputs": [
    {
     "data": {
      "text/plain": [
       "make     country_version\n",
       "Audi     Germany            1147\n",
       "         Italy               509\n",
       "         European Union      286\n",
       "         Belgium             134\n",
       "         Spain               123\n",
       "         Netherlands         106\n",
       "         Austria              37\n",
       "         Denmark              30\n",
       "         Czech Republic       18\n",
       "         Poland               18\n",
       "         France               11\n",
       "         Hungary               6\n",
       "         Sweden                2\n",
       "         Luxembourg            1\n",
       "         Romania               1\n",
       "         Slovakia              1\n",
       "         Slovenia              1\n",
       "         Switzerland           1\n",
       "Opel     Germany            2654\n",
       "         Italy               349\n",
       "         Netherlands         260\n",
       "         European Union      161\n",
       "         Spain               144\n",
       "         Belgium             103\n",
       "         Austria              55\n",
       "         Czech Republic       33\n",
       "         Poland               28\n",
       "         Hungary              21\n",
       "         France                5\n",
       "         Croatia               4\n",
       "         Slovakia              3\n",
       "         Denmark               2\n",
       "         Egypt                 1\n",
       "         Romania               1\n",
       "         Sweden                1\n",
       "Renault  Germany             701\n",
       "         Italy               180\n",
       "         Austria             116\n",
       "         Netherlands          98\n",
       "         Belgium              77\n",
       "         European Union       60\n",
       "         Spain                58\n",
       "         France               22\n",
       "         Japan                 8\n",
       "         Poland                3\n",
       "         Bulgaria              2\n",
       "         Czech Republic        1\n",
       "         Denmark               1\n",
       "         Hungary               1\n",
       "         Serbia                1\n",
       "Name: country_version, dtype: int64"
      ]
     },
     "execution_count": 110,
     "metadata": {},
     "output_type": "execute_result"
    }
   ],
   "source": [
    "# df_new.groupby('make').country_version.value_counts()"
   ]
  },
  {
   "cell_type": "markdown",
   "metadata": {},
   "source": [
    "Almost half of the information in this column is missing. This column may or may not be necessary.\n",
    "> I suggest dropping `model_code` column if we cannot find a clever way to fill in the missing rows. Another option might be encoding this column as 1's and 0's where 1 represent information and 0 represent no information. By this way, his column may be an indication of -not fraudulent- ads."
   ]
  },
  {
   "cell_type": "code",
   "execution_count": 76,
   "metadata": {},
   "outputs": [],
   "source": [
    "# df_new.drop(columns = \"country_version\", inplace = True)"
   ]
  },
  {
   "cell_type": "markdown",
   "metadata": {},
   "source": [
    "### CO2 Emission"
   ]
  },
  {
   "cell_type": "code",
   "execution_count": 259,
   "metadata": {},
   "outputs": [
    {
     "data": {
      "text/plain": [
       "0     [\\n99 g CO2/km (comb)\\n]\n",
       "1    [\\n129 g CO2/km (comb)\\n]\n",
       "2     [\\n99 g CO2/km (comb)\\n]\n",
       "3     [\\n99 g CO2/km (comb)\\n]\n",
       "4    [\\n109 g CO2/km (comb)\\n]\n",
       "Name: co2_emission, dtype: object"
      ]
     },
     "execution_count": 259,
     "metadata": {},
     "output_type": "execute_result"
    }
   ],
   "source": [
    "# df.co2_emission.head()"
   ]
  },
  {
   "cell_type": "code",
   "execution_count": 150,
   "metadata": {},
   "outputs": [],
   "source": [
    "# Clean 'co2_emission' column\n",
    "df_new['co2_emission'] = df.co2_emission.str[0].str.extract(r'(\\d+)')"
   ]
  },
  {
   "cell_type": "code",
   "execution_count": 139,
   "metadata": {},
   "outputs": [
    {
     "data": {
      "text/plain": [
       "0     99\n",
       "1    129\n",
       "2     99\n",
       "3     99\n",
       "4    109\n",
       "Name: co2_emission, dtype: object"
      ]
     },
     "execution_count": 139,
     "metadata": {},
     "output_type": "execute_result"
    }
   ],
   "source": [
    "# df_new.co2_emission.head()"
   ]
  },
  {
   "cell_type": "code",
   "execution_count": 151,
   "metadata": {},
   "outputs": [],
   "source": [
    "# Change the 'co2' columns data type to numeric\n",
    "df_new.co2_emission = pd.to_numeric(df_new.co2_emission)"
   ]
  },
  {
   "cell_type": "code",
   "execution_count": 133,
   "metadata": {},
   "outputs": [
    {
     "data": {
      "text/plain": [
       "0     99.0\n",
       "1    129.0\n",
       "2     99.0\n",
       "3     99.0\n",
       "4    109.0\n",
       "Name: co2_emission, dtype: float64"
      ]
     },
     "execution_count": 133,
     "metadata": {},
     "output_type": "execute_result"
    }
   ],
   "source": [
    "# df_new.co2_emission.head()"
   ]
  },
  {
   "cell_type": "code",
   "execution_count": 134,
   "metadata": {},
   "outputs": [
    {
     "data": {
      "text/plain": [
       "make\n",
       "Audi       106.967340\n",
       "Opel       126.311205\n",
       "Renault    120.140802\n",
       "Name: co2_emission, dtype: float64"
      ]
     },
     "execution_count": 134,
     "metadata": {},
     "output_type": "execute_result"
    }
   ],
   "source": [
    "# df_new.groupby(['make']).co2_emission.mean()"
   ]
  },
  {
   "cell_type": "code",
   "execution_count": 152,
   "metadata": {},
   "outputs": [
    {
     "data": {
      "text/plain": [
       "<matplotlib.axes._subplots.AxesSubplot at 0x1a2ad34748>"
      ]
     },
     "execution_count": 152,
     "metadata": {},
     "output_type": "execute_result"
    },
    {
     "data": {
      "image/png": "[encoded data removed]",
      "text/plain": [
       "<Figure size 432x288 with 1 Axes>"
      ]
     },
     "metadata": {
      "needs_background": "light"
     },
     "output_type": "display_data"
    }
   ],
   "source": [
    "# df_new.boxplot(\"co2_emission\", by=\"make\")"
   ]
  },
  {
   "cell_type": "code",
   "execution_count": 153,
   "metadata": {},
   "outputs": [
    {
     "data": {
      "text/plain": [
       "count    13483.000000\n",
       "mean       117.953942\n",
       "std         20.245589\n",
       "min          0.000000\n",
       "25%        104.000000\n",
       "50%        116.000000\n",
       "75%        129.000000\n",
       "max        990.000000\n",
       "Name: co2_emission, dtype: float64"
      ]
     },
     "execution_count": 153,
     "metadata": {},
     "output_type": "execute_result"
    }
   ],
   "source": [
    "# df_new.co2_emission.describe()"
   ]
  },
  {
   "cell_type": "code",
   "execution_count": 154,
   "metadata": {},
   "outputs": [
    {
     "name": "stdout",
     "output_type": "stream",
     "text": [
      "25.0\n"
     ]
    }
   ],
   "source": [
    "# # Calculate IQR for the whole column\n",
    "# Q1 = df_new.co2_emission.quantile(0.25)\n",
    "# Q3 = df_new.co2_emission.quantile(0.75)\n",
    "# IQR = Q3 - Q1\n",
    "# print(IQR)"
   ]
  },
  {
   "cell_type": "code",
   "execution_count": 155,
   "metadata": {},
   "outputs": [
    {
     "data": {
      "text/plain": [
       "248"
      ]
     },
     "execution_count": 155,
     "metadata": {},
     "output_type": "execute_result"
    }
   ],
   "source": [
    "# # Calculate the number of outliers\n",
    "# sum( (df_new.co2_emission < (Q1 - 1.5 * IQR)) | (df_new.co2_emission > (Q3 + 1.5 * IQR)) )"
   ]
  },
  {
   "cell_type": "markdown",
   "metadata": {},
   "source": [
    "There seems to be outliers, which are probably wrong entries. An Opel, for example, has a CO2 emission which is almost 800 g/km. That is impossible and such a level of emission is prohibited by the laws. (https://ec.europa.eu/clima/policies/transport/vehicles/cars_en)\n",
    "\n",
    "We need to take care of outliers and missing values in this column. A possible solution is to take the average of each car **model**, and assign the mean to the missing/wrong entries for that model of car."
   ]
  },
  {
   "cell_type": "markdown",
   "metadata": {},
   "source": [
    "----"
   ]
  },
  {
   "cell_type": "markdown",
   "metadata": {},
   "source": [
    "### Consumption"
   ]
  },
  {
   "cell_type": "code",
   "execution_count": 156,
   "metadata": {},
   "outputs": [
    {
     "data": {
      "text/plain": [
       "10129    [[6.3 l/100 km (comb)], [7.8 l/100 km (city)],...\n",
       "5679     [[5.5 l/100 km (comb)], [6.9 l/100 km (city)],...\n",
       "9572     [[5.2 l/100 km (comb)], [6.9 l/100 km (city)],...\n",
       "1734     [[4.4 l/100 km (comb)], [5.2 l/100 km (city)],...\n",
       "9797     [[5.3 l/100 km (comb)], [6.6 l/100 km (city)],...\n",
       "10661    [[4.9 l/100 km (comb)], [6.3 l/100 km (city)],...\n",
       "7872     [[6.1 l/100 km (comb)], [7.5 l/100 km (city)],...\n",
       "2724     [[], [3.4 l/100 km (city)], [3.8 l/100 km (cou...\n",
       "15614    [[5.1 l/100 km (comb)], [5.7 l/100 km (city)],...\n",
       "10806    [[5.5 l/100 km (comb)], [7.7 l/100 km (city)],...\n",
       "Name: consumption, dtype: object"
      ]
     },
     "execution_count": 156,
     "metadata": {},
     "output_type": "execute_result"
    }
   ],
   "source": [
    "# df.consumption.sample(10)"
   ]
  },
  {
   "cell_type": "code",
   "execution_count": 157,
   "metadata": {},
   "outputs": [
    {
     "data": {
      "text/plain": [
       "0.11973113889063383"
      ]
     },
     "execution_count": 157,
     "metadata": {},
     "output_type": "execute_result"
    }
   ],
   "source": [
    "# Percentage of NaNs\n",
    "# autos.consumption.isnull().mean()"
   ]
  },
  {
   "cell_type": "code",
   "execution_count": null,
   "metadata": {},
   "outputs": [],
   "source": [
    "NaN_to_list(df, \"consumption\")"
   ]
  },
  {
   "cell_type": "code",
   "execution_count": null,
   "metadata": {},
   "outputs": [],
   "source": [
    "# Check to see how many elements each list have\n",
    "df.consumption.apply(lambda x: len(x)).value_counts()"
   ]
  },
  {
   "cell_type": "markdown",
   "metadata": {},
   "source": [
    "I expected to see at most 3 elements in a list. Interestingly, however, there are many rows with 7 and 5 elements. The reason is that, lists in those row consist of `\\n`s along with consumption values (see below)."
   ]
  },
  {
   "cell_type": "code",
   "execution_count": null,
   "metadata": {},
   "outputs": [],
   "source": [
    "df.consumption[df.consumption.apply(lambda x: (len(x)== 7) | (len(x)== 5))].head()"
   ]
  },
  {
   "cell_type": "code",
   "execution_count": 201,
   "metadata": {},
   "outputs": [
    {
     "data": {
      "text/plain": [
       "[['3.8 l/100 km (comb)'], ['4.3 l/100 km (city)'], ['3.5 l/100 km (country)']]"
      ]
     },
     "execution_count": 201,
     "metadata": {},
     "output_type": "execute_result"
    }
   ],
   "source": [
    "df.consumption[0]"
   ]
  },
  {
   "cell_type": "code",
   "execution_count": 290,
   "metadata": {},
   "outputs": [
    {
     "data": {
      "text/plain": [
       "0    [3.8 l/100 km (comb)]\n",
       "1    [5.6 l/100 km (comb)]\n",
       "2    [3.8 l/100 km (comb)]\n",
       "3    [3.8 l/100 km (comb)]\n",
       "4    [4.1 l/100 km (comb)]\n",
       "5    [3.5 l/100 km (comb)]\n",
       "6    [3.7 l/100 km (comb)]\n",
       "7    [3.7 l/100 km (comb)]\n",
       "8    [3.7 l/100 km (comb)]\n",
       "9                      NaN\n",
       "Name: consumption, dtype: object"
      ]
     },
     "execution_count": 290,
     "metadata": {},
     "output_type": "execute_result"
    }
   ],
   "source": [
    "df.consumption.str[0].head(10)"
   ]
  },
  {
   "cell_type": "code",
   "execution_count": 303,
   "metadata": {},
   "outputs": [
    {
     "data": {
      "text/plain": [
       "0    3.8 l/100 km (comb)\n",
       "1    5.6 l/100 km (comb)\n",
       "2    3.8 l/100 km (comb)\n",
       "3    3.8 l/100 km (comb)\n",
       "4    4.1 l/100 km (comb)\n",
       "Name: consumption, dtype: object"
      ]
     },
     "execution_count": 303,
     "metadata": {},
     "output_type": "execute_result"
    }
   ],
   "source": [
    "df.consumption.str[0].str[0].head()"
   ]
  },
  {
   "cell_type": "code",
   "execution_count": 321,
   "metadata": {},
   "outputs": [
    {
     "data": {
      "text/plain": [
       "True"
      ]
     },
     "execution_count": 321,
     "metadata": {},
     "output_type": "execute_result"
    }
   ],
   "source": [
    "\"comb\" in str(df.consumption[0][0])"
   ]
  },
  {
   "cell_type": "code",
   "execution_count": 323,
   "metadata": {},
   "outputs": [],
   "source": [
    "# Create a boolean for checking \"comb\"\n",
    "comb_bool = df.consumption.str[0].str[0].str.contains(\"comb\", na=False)"
   ]
  },
  {
   "cell_type": "code",
   "execution_count": 330,
   "metadata": {},
   "outputs": [],
   "source": [
    "# Create a new column for 'consumption_comb'\n",
    "df_new['consumption_comb'] = df[comb_bool].consumption.str[0].str[0].str.extract(r'(\\d.\\d|\\d)')"
   ]
  },
  {
   "cell_type": "markdown",
   "metadata": {},
   "source": [
    "### Cylinders"
   ]
  },
  {
   "cell_type": "code",
   "execution_count": 202,
   "metadata": {},
   "outputs": [
    {
     "data": {
      "text/plain": [
       "988      [\\n3\\n]\n",
       "7607     [\\n4\\n]\n",
       "6662     [\\n4\\n]\n",
       "13266        NaN\n",
       "2            NaN\n",
       "7967         NaN\n",
       "7539     [\\n4\\n]\n",
       "4311     [\\n4\\n]\n",
       "3564         NaN\n",
       "8815     [\\n4\\n]\n",
       "Name: cylinders, dtype: object"
      ]
     },
     "execution_count": 202,
     "metadata": {},
     "output_type": "execute_result"
    }
   ],
   "source": [
    "# df.cylinders.sample(10)"
   ]
  },
  {
   "cell_type": "code",
   "execution_count": 203,
   "metadata": {},
   "outputs": [
    {
     "data": {
      "text/plain": [
       "0.3568063320560337"
      ]
     },
     "execution_count": 203,
     "metadata": {},
     "output_type": "execute_result"
    }
   ],
   "source": [
    "# Percentage of missing values\n",
    "# df.cylinders.isnull().mean()"
   ]
  },
  {
   "cell_type": "code",
   "execution_count": 204,
   "metadata": {},
   "outputs": [
    {
     "data": {
      "text/plain": [
       "5853     4.0\n",
       "7975     NaN\n",
       "9703     NaN\n",
       "13069    NaN\n",
       "13004    4.0\n",
       "15485    4.0\n",
       "4800     4.0\n",
       "1847     3.0\n",
       "7388     4.0\n",
       "15840    NaN\n",
       "Name: cylinders, dtype: float64"
      ]
     },
     "execution_count": 204,
     "metadata": {},
     "output_type": "execute_result"
    }
   ],
   "source": [
    "# Clean 'cylinders' column\n",
    "df_new['cylinders'] = df.cylinders.str[0].str.extract(r'(\\d+)')\n",
    "# Change the 'cylinders' columns data type to numeric\n",
    "df_new['cylinders'] = pd.to_numeric(df_new['cylinders'])\n",
    "# df_new.cylinders.sample(10)"
   ]
  },
  {
   "cell_type": "code",
   "execution_count": 205,
   "metadata": {},
   "outputs": [
    {
     "data": {
      "text/plain": [
       "4.0    8105\n",
       "3.0    2104\n",
       "5.0      22\n",
       "6.0       3\n",
       "2.0       2\n",
       "8.0       2\n",
       "1.0       1\n",
       "Name: cylinders, dtype: int64"
      ]
     },
     "execution_count": 205,
     "metadata": {},
     "output_type": "execute_result"
    }
   ],
   "source": [
    "# df_new.cylinders.value_counts()"
   ]
  },
  {
   "cell_type": "markdown",
   "metadata": {},
   "source": [
    "The values appear to be normal. We need to take care of missing values in this column though. A possible solution is to use some necessary columns such as  `model` to fit a *regression* model, and to predict those values."
   ]
  },
  {
   "cell_type": "markdown",
   "metadata": {},
   "source": [
    "### Displacement"
   ]
  },
  {
   "cell_type": "code",
   "execution_count": 206,
   "metadata": {},
   "outputs": [
    {
     "data": {
      "text/plain": [
       "12701               NaN\n",
       "12643    [\\n1,600 cc\\n]\n",
       "786      [\\n1,422 cc\\n]\n",
       "14994    [\\n1,598 cc\\n]\n",
       "5593       [\\n999 cc\\n]\n",
       "3535     [\\n1,197 cc\\n]\n",
       "12088    [\\n1,490 cc\\n]\n",
       "8504     [\\n1,398 cc\\n]\n",
       "4663     [\\n1,598 cc\\n]\n",
       "14693      [\\n898 cc\\n]\n",
       "Name: displacement, dtype: object"
      ]
     },
     "execution_count": 206,
     "metadata": {},
     "output_type": "execute_result"
    }
   ],
   "source": [
    "# df.displacement.sample(10)"
   ]
  },
  {
   "cell_type": "code",
   "execution_count": 207,
   "metadata": {},
   "outputs": [
    {
     "data": {
      "text/plain": [
       "0.0311577360386959"
      ]
     },
     "execution_count": 207,
     "metadata": {},
     "output_type": "execute_result"
    }
   ],
   "source": [
    "# df.displacement.isnull().mean()"
   ]
  },
  {
   "cell_type": "code",
   "execution_count": 211,
   "metadata": {},
   "outputs": [
    {
     "data": {
      "text/html": [
       "<div>\n",
       "<style scoped>\n",
       "    .dataframe tbody tr th:only-of-type {\n",
       "        vertical-align: middle;\n",
       "    }\n",
       "\n",
       "    .dataframe tbody tr th {\n",
       "        vertical-align: top;\n",
       "    }\n",
       "\n",
       "    .dataframe thead th {\n",
       "        text-align: right;\n",
       "    }\n",
       "</style>\n",
       "<table border=\"1\" class=\"dataframe\">\n",
       "  <thead>\n",
       "    <tr style=\"text-align: right;\">\n",
       "      <th></th>\n",
       "      <th>0</th>\n",
       "    </tr>\n",
       "  </thead>\n",
       "  <tbody>\n",
       "    <tr>\n",
       "      <th>0</th>\n",
       "      <td>1422</td>\n",
       "    </tr>\n",
       "    <tr>\n",
       "      <th>1</th>\n",
       "      <td>1798</td>\n",
       "    </tr>\n",
       "    <tr>\n",
       "      <th>2</th>\n",
       "      <td>1598</td>\n",
       "    </tr>\n",
       "    <tr>\n",
       "      <th>3</th>\n",
       "      <td>1422</td>\n",
       "    </tr>\n",
       "    <tr>\n",
       "      <th>4</th>\n",
       "      <td>1422</td>\n",
       "    </tr>\n",
       "  </tbody>\n",
       "</table>\n",
       "</div>"
      ],
      "text/plain": [
       "      0\n",
       "0  1422\n",
       "1  1798\n",
       "2  1598\n",
       "3  1422\n",
       "4  1422"
      ]
     },
     "execution_count": 211,
     "metadata": {},
     "output_type": "execute_result"
    }
   ],
   "source": [
    "# df.displacement.str[0].str.replace(\",\",\"\").str.extract(r'(\\d+)').head()"
   ]
  },
  {
   "cell_type": "code",
   "execution_count": 212,
   "metadata": {},
   "outputs": [
    {
     "data": {
      "text/plain": [
       "13674       NaN\n",
       "3973     1598.0\n",
       "4170     1968.0\n",
       "892       999.0\n",
       "4360     1598.0\n",
       "9892     1398.0\n",
       "9426     1398.0\n",
       "15722    1798.0\n",
       "1835     1422.0\n",
       "2360     1498.0\n",
       "Name: displacement, dtype: float64"
      ]
     },
     "execution_count": 212,
     "metadata": {},
     "output_type": "execute_result"
    }
   ],
   "source": [
    "# Extract discplacement values (and remove commas)\n",
    "df_new['displacement'] = df.displacement.str[0].str.replace(\",\",\"\").str.extract(r'(\\d+)')\n",
    "\n",
    "# Change the type\n",
    "df_new['displacement'] = pd.to_numeric(df_new['displacement'])\n",
    "\n",
    "# df_new['displacement'].sample(10)"
   ]
  },
  {
   "cell_type": "code",
   "execution_count": 213,
   "metadata": {},
   "outputs": [
    {
     "data": {
      "text/plain": [
       "<matplotlib.axes._subplots.AxesSubplot at 0x1a248834a8>"
      ]
     },
     "execution_count": 213,
     "metadata": {},
     "output_type": "execute_result"
    },
    {
     "data": {
      "image/png": "[encoded data removed]",
      "text/plain": [
       "<Figure size 432x288 with 1 Axes>"
      ]
     },
     "metadata": {
      "needs_background": "light"
     },
     "output_type": "display_data"
    }
   ],
   "source": [
    "# df_new.groupby([\"make\",\"model\"]).displacement.mean().plot.bar(rot=75)"
   ]
  },
  {
   "cell_type": "code",
   "execution_count": 214,
   "metadata": {},
   "outputs": [
    {
     "data": {
      "text/plain": [
       "count    15423.000000\n",
       "mean      1423.540881\n",
       "std        333.530658\n",
       "min          1.000000\n",
       "25%       1229.000000\n",
       "50%       1461.000000\n",
       "75%       1598.000000\n",
       "max      16000.000000\n",
       "Name: displacement, dtype: float64"
      ]
     },
     "execution_count": 214,
     "metadata": {},
     "output_type": "execute_result"
    }
   ],
   "source": [
    "# df_new.displacement.describe()"
   ]
  },
  {
   "cell_type": "code",
   "execution_count": 215,
   "metadata": {},
   "outputs": [
    {
     "data": {
      "text/plain": [
       "<matplotlib.axes._subplots.AxesSubplot at 0x1a268e0320>"
      ]
     },
     "execution_count": 215,
     "metadata": {},
     "output_type": "execute_result"
    },
    {
     "data": {
      "image/png": "[encoded data removed]",
      "text/plain": [
       "<Figure size 432x288 with 1 Axes>"
      ]
     },
     "metadata": {
      "needs_background": "light"
     },
     "output_type": "display_data"
    }
   ],
   "source": [
    "# df_new.displacement.plot.box()"
   ]
  },
  {
   "cell_type": "markdown",
   "metadata": {},
   "source": [
    "When we look at the outliers, they seem to be problematic (See below). We may need to threat them as missing and perform imputation."
   ]
  },
  {
   "cell_type": "code",
   "execution_count": 216,
   "metadata": {},
   "outputs": [
    {
     "data": {
      "text/html": [
       "<div>\n",
       "<style scoped>\n",
       "    .dataframe tbody tr th:only-of-type {\n",
       "        vertical-align: middle;\n",
       "    }\n",
       "\n",
       "    .dataframe tbody tr th {\n",
       "        vertical-align: top;\n",
       "    }\n",
       "\n",
       "    .dataframe thead th {\n",
       "        text-align: right;\n",
       "    }\n",
       "</style>\n",
       "<table border=\"1\" class=\"dataframe\">\n",
       "  <thead>\n",
       "    <tr style=\"text-align: right;\">\n",
       "      <th></th>\n",
       "      <th>safety_security</th>\n",
       "      <th>co2_emission</th>\n",
       "      <th>consumption</th>\n",
       "      <th>country_version</th>\n",
       "      <th>cylinders</th>\n",
       "      <th>displacement</th>\n",
       "      <th>make</th>\n",
       "      <th>model</th>\n",
       "      <th>model_code</th>\n",
       "      <th>next_inspection</th>\n",
       "      <th>non_smoking_vehicle</th>\n",
       "      <th>body_type</th>\n",
       "      <th>description</th>\n",
       "      <th>hp</th>\n",
       "      <th>kw</th>\n",
       "      <th>km</th>\n",
       "      <th>offer_number</th>\n",
       "      <th>ABS</th>\n",
       "      <th>Adaptive Cruise Control</th>\n",
       "      <th>Adaptive headlights</th>\n",
       "      <th>Alarm system</th>\n",
       "      <th>Blind spot monitor</th>\n",
       "      <th>Central door lock</th>\n",
       "      <th>Central door lock with remote control</th>\n",
       "      <th>Daytime running lights</th>\n",
       "      <th>Driver drowsiness detection</th>\n",
       "      <th>Driver-side airbag</th>\n",
       "      <th>Electronic stability control</th>\n",
       "      <th>Emergency brake assistant</th>\n",
       "      <th>Emergency system</th>\n",
       "      <th>Fog lights</th>\n",
       "      <th>Head airbag</th>\n",
       "      <th>Immobilizer</th>\n",
       "      <th>Isofix</th>\n",
       "      <th>LED Daytime Running Lights</th>\n",
       "      <th>LED Headlights</th>\n",
       "      <th>Lane departure warning system</th>\n",
       "      <th>Night view assist</th>\n",
       "      <th>Passenger-side airbag</th>\n",
       "      <th>Power steering</th>\n",
       "      <th>Rear airbag</th>\n",
       "      <th>Side airbag</th>\n",
       "      <th>Tire pressure monitoring system</th>\n",
       "      <th>Traction control</th>\n",
       "      <th>Traffic sign recognition</th>\n",
       "      <th>Xenon headlights</th>\n",
       "    </tr>\n",
       "  </thead>\n",
       "  <tbody>\n",
       "    <tr>\n",
       "      <th>7169</th>\n",
       "      <td>[ABS, Central door lock, Daytime running light...</td>\n",
       "      <td>119.0</td>\n",
       "      <td>[[4.5 l/100 km (comb)], [5.7 l/100 km (city)],...</td>\n",
       "      <td>NaN</td>\n",
       "      <td>4.0</td>\n",
       "      <td>15898.0</td>\n",
       "      <td>Opel</td>\n",
       "      <td>Astra</td>\n",
       "      <td>NaN</td>\n",
       "      <td>[\\n06/2021\\n, \\n119 g CO2/km (comb)\\n]</td>\n",
       "      <td>[\\n, \\n]</td>\n",
       "      <td>Station wagon</td>\n",
       "      <td>[\\n, Getriebe, Automatikgetriebe, 6-Gang, Lich...</td>\n",
       "      <td>100 kW</td>\n",
       "      <td>None</td>\n",
       "      <td>22,327 km</td>\n",
       "      <td>[\\n8070242\\n]</td>\n",
       "      <td>1</td>\n",
       "      <td>0</td>\n",
       "      <td>0</td>\n",
       "      <td>0</td>\n",
       "      <td>0</td>\n",
       "      <td>1</td>\n",
       "      <td>0</td>\n",
       "      <td>1</td>\n",
       "      <td>0</td>\n",
       "      <td>1</td>\n",
       "      <td>1</td>\n",
       "      <td>1</td>\n",
       "      <td>0</td>\n",
       "      <td>1</td>\n",
       "      <td>0</td>\n",
       "      <td>1</td>\n",
       "      <td>1</td>\n",
       "      <td>1</td>\n",
       "      <td>0</td>\n",
       "      <td>1</td>\n",
       "      <td>0</td>\n",
       "      <td>1</td>\n",
       "      <td>1</td>\n",
       "      <td>0</td>\n",
       "      <td>1</td>\n",
       "      <td>1</td>\n",
       "      <td>1</td>\n",
       "      <td>1</td>\n",
       "      <td>0</td>\n",
       "    </tr>\n",
       "    <tr>\n",
       "      <th>10932</th>\n",
       "      <td>[ABS, Central door lock, Daytime running light...</td>\n",
       "      <td>NaN</td>\n",
       "      <td>NaN</td>\n",
       "      <td>NaN</td>\n",
       "      <td>NaN</td>\n",
       "      <td>16000.0</td>\n",
       "      <td>Opel</td>\n",
       "      <td>Insignia</td>\n",
       "      <td>NaN</td>\n",
       "      <td>NaN</td>\n",
       "      <td>[\\n, \\n]</td>\n",
       "      <td>Station wagon</td>\n",
       "      <td>[\\nIch verkaufe meine gut gefleckt Opel Insign...</td>\n",
       "      <td>88 kW</td>\n",
       "      <td>None</td>\n",
       "      <td>76,500 km</td>\n",
       "      <td>NaN</td>\n",
       "      <td>1</td>\n",
       "      <td>0</td>\n",
       "      <td>0</td>\n",
       "      <td>0</td>\n",
       "      <td>0</td>\n",
       "      <td>1</td>\n",
       "      <td>0</td>\n",
       "      <td>1</td>\n",
       "      <td>1</td>\n",
       "      <td>1</td>\n",
       "      <td>1</td>\n",
       "      <td>0</td>\n",
       "      <td>1</td>\n",
       "      <td>1</td>\n",
       "      <td>0</td>\n",
       "      <td>0</td>\n",
       "      <td>0</td>\n",
       "      <td>1</td>\n",
       "      <td>0</td>\n",
       "      <td>0</td>\n",
       "      <td>0</td>\n",
       "      <td>1</td>\n",
       "      <td>1</td>\n",
       "      <td>1</td>\n",
       "      <td>1</td>\n",
       "      <td>1</td>\n",
       "      <td>1</td>\n",
       "      <td>0</td>\n",
       "      <td>0</td>\n",
       "    </tr>\n",
       "  </tbody>\n",
       "</table>\n",
       "</div>"
      ],
      "text/plain": [
       "                                         safety_security  co2_emission  \\\n",
       "7169   [ABS, Central door lock, Daytime running light...         119.0   \n",
       "10932  [ABS, Central door lock, Daytime running light...           NaN   \n",
       "\n",
       "                                             consumption country_version  \\\n",
       "7169   [[4.5 l/100 km (comb)], [5.7 l/100 km (city)],...             NaN   \n",
       "10932                                                NaN             NaN   \n",
       "\n",
       "       cylinders  displacement  make     model model_code  \\\n",
       "7169         4.0       15898.0  Opel     Astra        NaN   \n",
       "10932        NaN       16000.0  Opel  Insignia        NaN   \n",
       "\n",
       "                              next_inspection non_smoking_vehicle  \\\n",
       "7169   [\\n06/2021\\n, \\n119 g CO2/km (comb)\\n]            [\\n, \\n]   \n",
       "10932                                     NaN            [\\n, \\n]   \n",
       "\n",
       "           body_type                                        description  \\\n",
       "7169   Station wagon  [\\n, Getriebe, Automatikgetriebe, 6-Gang, Lich...   \n",
       "10932  Station wagon  [\\nIch verkaufe meine gut gefleckt Opel Insign...   \n",
       "\n",
       "           hp    kw         km   offer_number  ABS  Adaptive Cruise Control  \\\n",
       "7169   100 kW  None  22,327 km  [\\n8070242\\n]    1                        0   \n",
       "10932   88 kW  None  76,500 km            NaN    1                        0   \n",
       "\n",
       "       Adaptive headlights  Alarm system  Blind spot monitor  \\\n",
       "7169                     0             0                   0   \n",
       "10932                    0             0                   0   \n",
       "\n",
       "       Central door lock  Central door lock with remote control  \\\n",
       "7169                   1                                      0   \n",
       "10932                  1                                      0   \n",
       "\n",
       "       Daytime running lights  Driver drowsiness detection  \\\n",
       "7169                        1                            0   \n",
       "10932                       1                            1   \n",
       "\n",
       "       Driver-side airbag  Electronic stability control  \\\n",
       "7169                    1                             1   \n",
       "10932                   1                             1   \n",
       "\n",
       "       Emergency brake assistant  Emergency system  Fog lights  Head airbag  \\\n",
       "7169                           1                 0           1            0   \n",
       "10932                          0                 1           1            0   \n",
       "\n",
       "       Immobilizer  Isofix  LED Daytime Running Lights  LED Headlights  \\\n",
       "7169             1       1                           1               0   \n",
       "10932            0       0                           1               0   \n",
       "\n",
       "       Lane departure warning system  Night view assist  \\\n",
       "7169                               1                  0   \n",
       "10932                              0                  0   \n",
       "\n",
       "       Passenger-side airbag  Power steering  Rear airbag  Side airbag  \\\n",
       "7169                       1               1            0            1   \n",
       "10932                      1               1            1            1   \n",
       "\n",
       "       Tire pressure monitoring system  Traction control  \\\n",
       "7169                                 1                 1   \n",
       "10932                                1                 1   \n",
       "\n",
       "       Traffic sign recognition  Xenon headlights  \n",
       "7169                          1                 0  \n",
       "10932                         0                 0  "
      ]
     },
     "execution_count": 216,
     "metadata": {},
     "output_type": "execute_result"
    }
   ],
   "source": [
    "# df_new[df_new.displacement > 3500]"
   ]
  },
  {
   "cell_type": "markdown",
   "metadata": {},
   "source": [
    "### Next Inspection"
   ]
  },
  {
   "cell_type": "code",
   "execution_count": 217,
   "metadata": {},
   "outputs": [
    {
     "data": {
      "text/plain": [
       "14653                                       NaN\n",
       "12742                                       NaN\n",
       "812       [\\n05/2018\\n, \\n97 g CO2/km (comb)\\n]\n",
       "3534     [\\n01/2021\\n, \\n0 kWh/100 km (comb)\\n]\n",
       "2377                                        NaN\n",
       "5787                                        NaN\n",
       "12468                                       NaN\n",
       "4294                                        NaN\n",
       "3541                                        NaN\n",
       "10722    [\\n05/2021\\n, \\n129 g CO2/km (comb)\\n]\n",
       "Name: next_inspection, dtype: object"
      ]
     },
     "execution_count": 217,
     "metadata": {},
     "output_type": "execute_result"
    }
   ],
   "source": [
    "# df.next_inspection.sample(10)"
   ]
  },
  {
   "cell_type": "markdown",
   "metadata": {},
   "source": [
    "The rows are mixed with values from other columns: `CO2 Emission`, `Consumption` etc.  "
   ]
  },
  {
   "cell_type": "code",
   "execution_count": 61,
   "metadata": {},
   "outputs": [],
   "source": [
    "# Extract 'next_inspection' values\n",
    "df_new.next_inspection = df.next_inspection.str[0].str.strip(\"\\n\")"
   ]
  },
  {
   "cell_type": "code",
   "execution_count": 62,
   "metadata": {},
   "outputs": [
    {
     "data": {
      "text/plain": [
       "0    06/2021\n",
       "1        NaN\n",
       "2        NaN\n",
       "3        NaN\n",
       "4        NaN\n",
       "Name: next_inspection, dtype: object"
      ]
     },
     "execution_count": 62,
     "metadata": {},
     "output_type": "execute_result"
    }
   ],
   "source": [
    "# df_new.next_inspection.head()"
   ]
  },
  {
   "cell_type": "code",
   "execution_count": 266,
   "metadata": {},
   "outputs": [],
   "source": [
    "# Create a boolean column from `next_inspection`\n",
    "df_new['next_inspection_bool'] = df_new.next_inspection.notnull()"
   ]
  },
  {
   "cell_type": "code",
   "execution_count": 219,
   "metadata": {},
   "outputs": [
    {
     "data": {
      "text/plain": [
       "0.7779383127080847"
      ]
     },
     "execution_count": 219,
     "metadata": {},
     "output_type": "execute_result"
    }
   ],
   "source": [
    "# Percentage of missing values\n",
    "# df_new.next_inspection.isnull().mean()"
   ]
  },
  {
   "cell_type": "markdown",
   "metadata": {},
   "source": [
    "There are so many missing values. Although this column is important, we may need to drop it. Yet, there might be information in other columns, especially in `description` column, regarding the _Next Inspection_."
   ]
  },
  {
   "cell_type": "markdown",
   "metadata": {},
   "source": [
    "### Non-smoking Vehicle"
   ]
  },
  {
   "cell_type": "code",
   "execution_count": 226,
   "metadata": {},
   "outputs": [
    {
     "data": {
      "text/plain": [
       "3329                  [\\n, \\n, \\nEuro 6\\n]\n",
       "11261                 [\\n, \\n, \\nEuro 6\\n]\n",
       "11021                                  NaN\n",
       "9124                                   NaN\n",
       "15665                                  NaN\n",
       "13409                             [\\n, \\n]\n",
       "10056                             [\\n, \\n]\n",
       "10223                             [\\n, \\n]\n",
       "133                                    NaN\n",
       "4957                                   NaN\n",
       "8783                                   NaN\n",
       "10792              [\\n, \\n, \\n4 (Green)\\n]\n",
       "15083    [\\n, \\n, \\n153 g CO2/km (comb)\\n]\n",
       "5030                                   NaN\n",
       "11719                             [\\n, \\n]\n",
       "14177                                  NaN\n",
       "15786                                  NaN\n",
       "8886                              [\\n, \\n]\n",
       "823                   [\\n, \\n, \\nEuro 6\\n]\n",
       "8638                              [\\n, \\n]\n",
       "Name: non_smoking_vehicle, dtype: object"
      ]
     },
     "execution_count": 226,
     "metadata": {},
     "output_type": "execute_result"
    }
   ],
   "source": [
    "# df['non_smoking_vehicle'].sample(20)"
   ]
  },
  {
   "cell_type": "code",
   "execution_count": 235,
   "metadata": {},
   "outputs": [
    {
     "data": {
      "text/plain": [
       "'https://www.autoscout24.com//offers/opel-insignia-a-1-6-cdti-aut-sports-navi-applecarpla-diesel-grey-87baa4ac-16e9-4590-b79c-8cd37b798afb'"
      ]
     },
     "execution_count": 235,
     "metadata": {},
     "output_type": "execute_result"
    }
   ],
   "source": [
    "# autos.iloc[10792].url"
   ]
  },
  {
   "cell_type": "code",
   "execution_count": 222,
   "metadata": {},
   "outputs": [
    {
     "data": {
      "text/plain": [
       "0.5491550976820152"
      ]
     },
     "execution_count": 222,
     "metadata": {},
     "output_type": "execute_result"
    }
   ],
   "source": [
    "# df['non_smoking_vehicle'].isnull().mean()"
   ]
  },
  {
   "cell_type": "code",
   "execution_count": null,
   "metadata": {},
   "outputs": [],
   "source": [
    "# Drop 'non-smoking_vehicle' column\n",
    "df_new.drop(\"non_smoking_vehicle\", axis=1, inplace=True)"
   ]
  },
  {
   "cell_type": "markdown",
   "metadata": {},
   "source": [
    "The information in this column is wrognly coded, and more than half is missing. We may drop this column. (\" \" means yes(True))"
   ]
  },
  {
   "cell_type": "markdown",
   "metadata": {},
   "source": [
    "### Body Type"
   ]
  },
  {
   "cell_type": "code",
   "execution_count": 237,
   "metadata": {},
   "outputs": [
    {
     "data": {
      "text/plain": [
       "0    Sedans\n",
       "1    Sedans\n",
       "2    Sedans\n",
       "3    Sedans\n",
       "4    Sedans\n",
       "Name: body_type, dtype: object"
      ]
     },
     "execution_count": 237,
     "metadata": {},
     "output_type": "execute_result"
    }
   ],
   "source": [
    "# df.body_type.head()"
   ]
  },
  {
   "cell_type": "code",
   "execution_count": 238,
   "metadata": {},
   "outputs": [
    {
     "data": {
      "text/plain": [
       "Sedans           7903\n",
       "Station wagon    3553\n",
       "Compact          3153\n",
       "Van               783\n",
       "Other             290\n",
       "Transporter        88\n",
       "Off-Road           56\n",
       "Coupe              25\n",
       "Convertible         8\n",
       "Name: body_type, dtype: int64"
      ]
     },
     "execution_count": 238,
     "metadata": {},
     "output_type": "execute_result"
    }
   ],
   "source": [
    "# df.body_type.value_counts()"
   ]
  },
  {
   "cell_type": "markdown",
   "metadata": {},
   "source": [
    "### Hp"
   ]
  },
  {
   "cell_type": "code",
   "execution_count": 239,
   "metadata": {},
   "outputs": [
    {
     "data": {
      "text/plain": [
       "0     66 kW\n",
       "1    141 kW\n",
       "2     85 kW\n",
       "3     66 kW\n",
       "4     66 kW\n",
       "Name: hp, dtype: object"
      ]
     },
     "execution_count": 239,
     "metadata": {},
     "output_type": "execute_result"
    }
   ],
   "source": [
    "# df.hp.head()"
   ]
  },
  {
   "cell_type": "code",
   "execution_count": 65,
   "metadata": {},
   "outputs": [],
   "source": [
    "# Extract hp from 'hp' column\n",
    "df_new['hp'] = df.hp.str.extract(r'(\\d+)')"
   ]
  },
  {
   "cell_type": "code",
   "execution_count": 66,
   "metadata": {},
   "outputs": [],
   "source": [
    "# Change datatype to numeric\n",
    "df_new['hp'] = pd.to_numeric(df_new['hp'])"
   ]
  },
  {
   "cell_type": "markdown",
   "metadata": {},
   "source": [
    "### Kw"
   ]
  },
  {
   "cell_type": "code",
   "execution_count": 248,
   "metadata": {},
   "outputs": [
    {
     "data": {
      "text/plain": [
       "1.0"
      ]
     },
     "execution_count": 248,
     "metadata": {},
     "output_type": "execute_result"
    }
   ],
   "source": [
    "# df.kw.isnull().mean()"
   ]
  },
  {
   "cell_type": "code",
   "execution_count": 249,
   "metadata": {},
   "outputs": [],
   "source": [
    "# Drop 'kw' column\n",
    "df_new.drop('kw', axis=1, inplace=True)"
   ]
  },
  {
   "cell_type": "markdown",
   "metadata": {},
   "source": [
    "### Km"
   ]
  },
  {
   "cell_type": "code",
   "execution_count": 250,
   "metadata": {},
   "outputs": [
    {
     "data": {
      "text/plain": [
       "0    56,013 km\n",
       "1    80,000 km\n",
       "2    83,450 km\n",
       "3    73,000 km\n",
       "4    16,200 km\n",
       "Name: km, dtype: object"
      ]
     },
     "execution_count": 250,
     "metadata": {},
     "output_type": "execute_result"
    }
   ],
   "source": [
    "# df.km.head()"
   ]
  },
  {
   "cell_type": "code",
   "execution_count": 255,
   "metadata": {},
   "outputs": [],
   "source": [
    "# Clean 'km' column\n",
    "df_new['km'] = df.km.str.replace(\",\", \"\").str.extract(r'(\\d+)')"
   ]
  },
  {
   "cell_type": "markdown",
   "metadata": {},
   "source": [
    "### Offer Number"
   ]
  },
  {
   "cell_type": "code",
   "execution_count": 268,
   "metadata": {},
   "outputs": [
    {
     "data": {
      "text/plain": [
       "0    [\\nLR-062483\\n]\n",
       "1                NaN\n",
       "2     [\\nAM-95365\\n]\n",
       "3                NaN\n",
       "4        [\\nC1626\\n]\n",
       "Name: offer_number, dtype: object"
      ]
     },
     "execution_count": 268,
     "metadata": {},
     "output_type": "execute_result"
    }
   ],
   "source": [
    "df.offer_number.head()"
   ]
  },
  {
   "cell_type": "code",
   "execution_count": 287,
   "metadata": {},
   "outputs": [
    {
     "data": {
      "text/plain": [
       "0    LR-062483\n",
       "1          NaN\n",
       "2     AM-95365\n",
       "3          NaN\n",
       "4        C1626\n",
       "Name: offer_number, dtype: object"
      ]
     },
     "execution_count": 287,
     "metadata": {},
     "output_type": "execute_result"
    }
   ],
   "source": [
    "# Clean \"offer_number' column\n",
    "df_new['offer_number'] = df.offer_number.str[0].str.replace(\"\\n\",\"\")"
   ]
  },
  {
   "cell_type": "markdown",
   "metadata": {},
   "source": [
    "### Description"
   ]
  },
  {
   "cell_type": "code",
   "execution_count": 9,
   "metadata": {},
   "outputs": [
    {
     "data": {
      "text/plain": [
       "0    [\\n, Sicherheit:,  , Deaktivierung für Beifahr...\n",
       "1    [\\nLangstreckenfahrzeug daher die hohe Kilomet...\n",
       "2    [\\n, Fahrzeug-Nummer: AM-95365,  , Ehem. UPE 2...\n",
       "3    [\\nAudi A1: , - 1e eigenaar , - Perfecte staat...\n",
       "4    [\\n, Technik & Sicherheit:, Xenon plus, Klimaa...\n",
       "Name: description, dtype: object"
      ]
     },
     "execution_count": 9,
     "metadata": {},
     "output_type": "execute_result"
    }
   ],
   "source": [
    "df.description.head()"
   ]
  },
  {
   "cell_type": "code",
   "execution_count": 20,
   "metadata": {},
   "outputs": [
    {
     "data": {
      "text/plain": [
       "['\\n',\n",
       " 'Sicherheit:',\n",
       " ' ',\n",
       " 'Deaktivierung für Beifahrer-Airbag',\n",
       " ' ',\n",
       " 'ESC mit elektronischer Quersperre',\n",
       " ' ',\n",
       " 'Tagfahrlicht',\n",
       " ' ',\n",
       " 'Reifendruck-Kontrollanzeige',\n",
       " ' ',\n",
       " 'Kopfairbag-System mit Seiten-Airbags vorn',\n",
       " ' ',\n",
       " 'Sicherheitslenksäule',\n",
       " 'Assistenzsysteme:',\n",
       " ' ',\n",
       " 'Berganfahrassistent',\n",
       " 'Komfort:',\n",
       " ' ',\n",
       " 'Scheinwerferreinigung',\n",
       " ' ',\n",
       " 'Xenon plus inklusive Scheinwerfer-Reinigungsanlage',\n",
       " ' ',\n",
       " 'Scheinwerfer-Reinigungsanlage',\n",
       " ' ',\n",
       " 'Einparkhilfe hinten',\n",
       " ' ',\n",
       " 'Licht-/Regensensor',\n",
       " ' ',\n",
       " 'Funkfernbedienung',\n",
       " ' ',\n",
       " 'Elektrische Luftzusatzheizung',\n",
       " 'Interieur:',\n",
       " ' ',\n",
       " 'Rücksitzanlage 2 + 1',\n",
       " ' ',\n",
       " 'Multifunktions-Sportlederlenkrad im 3-Speichen-Design',\n",
       " ' ',\n",
       " 'automatische Leuchtweitenregulierung',\n",
       " ' ',\n",
       " 'Fahrerinformationssystem',\n",
       " ' ',\n",
       " 'Staub- und Pollenfilter',\n",
       " ' ',\n",
       " 'Kopfstützen hinten (3 Stück)',\n",
       " ' ',\n",
       " 'Stoff Zeitgeist',\n",
       " ' ',\n",
       " 'Fahrersitz manuell höheneinstellbar',\n",
       " ' ',\n",
       " 'Scheiben seitlich und hinten in Wärmeschutzverglasung',\n",
       " ' ',\n",
       " 'Kindersitzbefestigung ISOFIX und Top Tether für die äußeren Fondsitze',\n",
       " ' ',\n",
       " 'Dachhimmel in Stoff titangrau',\n",
       " ' ',\n",
       " 'Waschwasser-Standanzeige',\n",
       " ' ',\n",
       " 'Nichtraucherfahrzeug',\n",
       " 'Exterieur:',\n",
       " ' ',\n",
       " 'Elektrische Aussenspiegel',\n",
       " ' ',\n",
       " 'Außenspiegel elektrisch beheizbar inklusive beheizbarer Scheibenwaschdüsen',\n",
       " ' ',\n",
       " 'Scheibenwaschdüsen beheizbar vorn',\n",
       " ' ',\n",
       " 'Aluminium-Gussräder im 10-Speichen-Design Größe 7 J x 16 mit Reifen 215/45 R 16',\n",
       " ' ',\n",
       " 'LED-Heckleuchten',\n",
       " ' ',\n",
       " 'Dynamikfahrwerk',\n",
       " ' ',\n",
       " 'Reifenreparaturset',\n",
       " ' ',\n",
       " 'Heckscheibenwischer mit Wasch-Wisch-Automatik',\n",
       " 'Umwelt:',\n",
       " ' ',\n",
       " 'Start-Stop-System',\n",
       " ' ',\n",
       " 'Abgaskonzept EU6 plus',\n",
       " 'Multimedia:',\n",
       " ' ',\n",
       " 'Radio mit Dreifachtuner und Phasendiversity',\n",
       " ' ',\n",
       " 'Bluetooth-Schnittstelle',\n",
       " ' ',\n",
       " 'media-Paket',\n",
       " ' ',\n",
       " 'Sprachdialogsystem',\n",
       " ' ',\n",
       " 'MMI® Navigation plus',\n",
       " 'Getriebe:',\n",
       " ' ',\n",
       " '7-Gang-Automatikgetriebe',\n",
       " 'Sonstiges:',\n",
       " ' ',\n",
       " 'Scheckheft gepflegt',\n",
       " ' ',\n",
       " 'Frontscheibe mit grauem Colorstreifen am oberen Rand',\n",
       " ' ',\n",
       " 'Verbau der Startbatterie hinten ohne zweite Batterie',\n",
       " ' ',\n",
       " 'GebrauchtwagenPlus',\n",
       " ' ',\n",
       " 'Eingabefehler Irrtümer und Zwischenverkauf vorbehalten. Die gemachten Angaben in Anzeigen Internet Preisschildern und Bildern sind unverbindliche Beschreibungen und dienen nicht als zugesicherte Eigenschaften. Der Verkäufer übernimmt keine Haftung für Tipp- und Datenübermittlungsfehlern. Aufgeführte Ausstattungen sind ggfs. gesondert zu prüfen. Alle Angaben in den Inseraten sind unverbindlich und ohne Gewähr. Wir freuen uns auf Ihren Besuch.',\n",
       " '\\n']"
      ]
     },
     "execution_count": 20,
     "metadata": {},
     "output_type": "execute_result"
    }
   ],
   "source": [
    "df.description[0]"
   ]
  },
  {
   "cell_type": "code",
   "execution_count": 45,
   "metadata": {},
   "outputs": [],
   "source": [
    "df_new['description'] = df.description.apply(lambda x: str(x).strip(\"['\\\\n', \").replace(\"' ', \", ''))"
   ]
  },
  {
   "cell_type": "code",
   "execution_count": 48,
   "metadata": {},
   "outputs": [
    {
     "data": {
      "text/plain": [
       "\"Sicherheit:', 'Deaktivierung für Beifahrer-Airbag', 'ESC mit elektronischer Quersperre', 'Tagfahrlicht', 'Reifendruck-Kontrollanzeige', 'Kopfairbag-System mit Seiten-Airbags vorn', 'Sicherheitslenksäule', 'Assistenzsysteme:', 'Berganfahrassistent', 'Komfort:', 'Scheinwerferreinigung', 'Xenon plus inklusive Scheinwerfer-Reinigungsanlage', 'Scheinwerfer-Reinigungsanlage', 'Einparkhilfe hinten', 'Licht-/Regensensor', 'Funkfernbedienung', 'Elektrische Luftzusatzheizung', 'Interieur:', 'Rücksitzanlage 2 + 1', 'Multifunktions-Sportlederlenkrad im 3-Speichen-Design', 'automatische Leuchtweitenregulierung', 'Fahrerinformationssystem', 'Staub- und Pollenfilter', 'Kopfstützen hinten (3 Stück)', 'Stoff Zeitgeist', 'Fahrersitz manuell höheneinstellbar', 'Scheiben seitlich und hinten in Wärmeschutzverglasung', 'Kindersitzbefestigung ISOFIX und Top Tether für die äußeren Fondsitze', 'Dachhimmel in Stoff titangrau', 'Waschwasser-Standanzeige', 'Nichtraucherfahrzeug', 'Exterieur:', 'Elektrische Aussenspiegel', 'Außenspiegel elektrisch beheizbar inklusive beheizbarer Scheibenwaschdüsen', 'Scheibenwaschdüsen beheizbar vorn', 'Aluminium-Gussräder im 10-Speichen-Design Größe 7 J x 16 mit Reifen 215/45 R 16', 'LED-Heckleuchten', 'Dynamikfahrwerk', 'Reifenreparaturset', 'Heckscheibenwischer mit Wasch-Wisch-Automatik', 'Umwelt:', 'Start-Stop-System', 'Abgaskonzept EU6 plus', 'Multimedia:', 'Radio mit Dreifachtuner und Phasendiversity', 'Bluetooth-Schnittstelle', 'media-Paket', 'Sprachdialogsystem', 'MMI® Navigation plus', 'Getriebe:', '7-Gang-Automatikgetriebe', 'Sonstiges:', 'Scheckheft gepflegt', 'Frontscheibe mit grauem Colorstreifen am oberen Rand', 'Verbau der Startbatterie hinten ohne zweite Batterie', 'GebrauchtwagenPlus', 'Eingabefehler Irrtümer und Zwischenverkauf vorbehalten. Die gemachten Angaben in Anzeigen Internet Preisschildern und Bildern sind unverbindliche Beschreibungen und dienen nicht als zugesicherte Eigenschaften. Der Verkäufer übernimmt keine Haftung für Tipp- und Datenübermittlungsfehlern. Aufgeführte Ausstattungen sind ggfs. gesondert zu prüfen. Alle Angaben in den Inseraten sind unverbindlich und ohne Gewähr. Wir freuen uns auf Ihren Besuch.', '\\\\n']\""
      ]
     },
     "execution_count": 48,
     "metadata": {},
     "output_type": "execute_result"
    }
   ],
   "source": [
    "df_new['description'][0]"
   ]
  },
  {
   "cell_type": "code",
   "execution_count": 60,
   "metadata": {},
   "outputs": [
    {
     "data": {
      "text/plain": [
       "'Sicherheit: Deaktivierung für Beifahrer-Airbag ESC mit elektronischer Quersperre Tagfahrlicht Reifendruck-Kontrollanzeige Kopfairbag-System mit Seiten-Airbags vorn SicherheitslenksäuleAssistenzsysteme: BerganfahrassistentKomfort: Scheinwerferreinigung Xenon plus inklusive Scheinwerfer-Reinigungsanlage Scheinwerfer-Reinigungsanlage Einparkhilfe hinten Licht-/Regensensor Funkfernbedienung Elektrische LuftzusatzheizungInterieur: Rücksitzanlage 2 + 1 Multifunktions-Sportlederlenkrad im 3-Speichen-Design automatische Leuchtweitenregulierung Fahrerinformationssystem Staub- und Pollenfilter Kopfstützen hinten (3 Stück) Stoff Zeitgeist Fahrersitz manuell höheneinstellbar Scheiben seitlich und hinten in Wärmeschutzverglasung Kindersitzbefestigung ISOFIX und Top Tether für die äußeren Fondsitze Dachhimmel in Stoff titangrau Waschwasser-Standanzeige NichtraucherfahrzeugExterieur: Elektrische Aussenspiegel Außenspiegel elektrisch beheizbar inklusive beheizbarer Scheibenwaschdüsen Scheibenwaschdüsen beheizbar vorn Aluminium-Gussräder im 10-Speichen-Design Größe 7 J x 16 mit Reifen 215/45 R 16 LED-Heckleuchten Dynamikfahrwerk Reifenreparaturset Heckscheibenwischer mit Wasch-Wisch-AutomatikUmwelt: Start-Stop-System Abgaskonzept EU6 plusMultimedia: Radio mit Dreifachtuner und Phasendiversity Bluetooth-Schnittstelle media-Paket Sprachdialogsystem MMI® Navigation plusGetriebe: 7-Gang-AutomatikgetriebeSonstiges: Scheckheft gepflegt Frontscheibe mit grauem Colorstreifen am oberen Rand Verbau der Startbatterie hinten ohne zweite Batterie GebrauchtwagenPlus Eingabefehler Irrtümer und Zwischenverkauf vorbehalten. Die gemachten Angaben in Anzeigen Internet Preisschildern und Bildern sind unverbindliche Beschreibungen und dienen nicht als zugesicherte Eigenschaften. Der Verkäufer übernimmt keine Haftung für Tipp- und Datenübermittlungsfehlern. Aufgeführte Ausstattungen sind ggfs. gesondert zu prüfen. Alle Angaben in den Inseraten sind unverbindlich und ohne Gewähr. Wir freuen uns auf Ihren Besuch.'"
      ]
     },
     "execution_count": 60,
     "metadata": {},
     "output_type": "execute_result"
    }
   ],
   "source": [
    "df['description'].str.join('').str.strip(\"\\n\")[0]"
   ]
  },
  {
   "cell_type": "code",
   "execution_count": null,
   "metadata": {},
   "outputs": [],
   "source": []
  },
  {
   "cell_type": "markdown",
   "metadata": {},
   "source": [
    "----"
   ]
  },
  {
   "cell_type": "markdown",
   "metadata": {},
   "source": [
    "### Price"
   ]
  },
  {
   "cell_type": "code",
   "execution_count": 88,
   "metadata": {},
   "outputs": [
    {
     "data": {
      "text/plain": [
       "0    \\n€ 11,990.-\\n\n",
       "1    \\n€ 12,200.-\\n\n",
       "2    \\n€ 12,250.-\\n\n",
       "3    \\n€ 12,200.-\\n\n",
       "4    \\n€ 12,200.-\\n\n",
       "Name: price, dtype: object"
      ]
     },
     "execution_count": 88,
     "metadata": {},
     "output_type": "execute_result"
    }
   ],
   "source": [
    "autos.price.head()"
   ]
  },
  {
   "cell_type": "code",
   "execution_count": 89,
   "metadata": {},
   "outputs": [
    {
     "data": {
      "text/plain": [
       "0"
      ]
     },
     "execution_count": 89,
     "metadata": {},
     "output_type": "execute_result"
    }
   ],
   "source": [
    "autos.price.isnull().sum()"
   ]
  },
  {
   "cell_type": "code",
   "execution_count": 90,
   "metadata": {},
   "outputs": [
    {
     "data": {
      "text/plain": [
       "0    11990\n",
       "1    12200\n",
       "2    12250\n",
       "3    12200\n",
       "4    12200\n",
       "Name: price, dtype: object"
      ]
     },
     "execution_count": 90,
     "metadata": {},
     "output_type": "execute_result"
    }
   ],
   "source": [
    "df_new['price'] = autos.price.apply(lambda x: x.strip(\"\\n\").strip(\"€ \").strip(\".-\").replace(\",\",\"\"))\n",
    "df_new.price.head()"
   ]
  },
  {
   "cell_type": "code",
   "execution_count": 91,
   "metadata": {},
   "outputs": [],
   "source": [
    "df_new['price'] = pd.to_numeric(df_new.price)"
   ]
  },
  {
   "cell_type": "markdown",
   "metadata": {
    "toc-hr-collapsed": false
   },
   "source": [
    "### Registration"
   ]
  },
  {
   "cell_type": "code",
   "execution_count": 92,
   "metadata": {},
   "outputs": [
    {
     "data": {
      "text/plain": [
       "0     [03/2015, 1 previous owner]\n",
       "1    [11/2014, 2 previous owners]\n",
       "2     [03/2015, 1 previous owner]\n",
       "3    [11/2014, 2 previous owners]\n",
       "4    [11/2014, 2 previous owners]\n",
       "Name: registration, dtype: object"
      ]
     },
     "execution_count": 92,
     "metadata": {},
     "output_type": "execute_result"
    }
   ],
   "source": [
    "autos.registration.head()"
   ]
  },
  {
   "cell_type": "code",
   "execution_count": 93,
   "metadata": {},
   "outputs": [],
   "source": [
    "# Extract years (first item) from the list\n",
    "reg = autos.registration.apply(lambda x: x[0])"
   ]
  },
  {
   "cell_type": "code",
   "execution_count": 94,
   "metadata": {},
   "outputs": [
    {
     "data": {
      "text/plain": [
       "0    03/2015\n",
       "1    11/2014\n",
       "2    03/2015\n",
       "3    11/2014\n",
       "4    11/2014\n",
       "Name: registration, dtype: object"
      ]
     },
     "execution_count": 94,
     "metadata": {},
     "output_type": "execute_result"
    }
   ],
   "source": [
    "reg.head()"
   ]
  },
  {
   "cell_type": "code",
   "execution_count": 95,
   "metadata": {},
   "outputs": [
    {
     "data": {
      "text/plain": [
       "90"
      ]
     },
     "execution_count": 95,
     "metadata": {},
     "output_type": "execute_result"
    }
   ],
   "source": [
    "# Count the number of missing values\n",
    "(reg.str.count(\"\\d\") == 0).sum()\n",
    "\n",
    "# Count the number of missing values (alternative way)\n",
    "# (reg.str.count(\"\\d\") == 0).sum()"
   ]
  },
  {
   "cell_type": "code",
   "execution_count": 96,
   "metadata": {},
   "outputs": [
    {
     "data": {
      "text/plain": [
       "90"
      ]
     },
     "execution_count": 96,
     "metadata": {},
     "output_type": "execute_result"
    }
   ],
   "source": [
    "# Count the number of missing values\n",
    "reg.str.contains(\"-\").sum()"
   ]
  },
  {
   "cell_type": "code",
   "execution_count": 97,
   "metadata": {},
   "outputs": [],
   "source": [
    "reg_new = reg[~reg.str.contains(\"-\")]"
   ]
  },
  {
   "cell_type": "code",
   "execution_count": 98,
   "metadata": {},
   "outputs": [
    {
     "data": {
      "text/plain": [
       "0   2015-03-01\n",
       "1   2014-11-01\n",
       "2   2015-03-01\n",
       "3   2014-11-01\n",
       "4   2014-11-01\n",
       "Name: registration, dtype: datetime64[ns]"
      ]
     },
     "execution_count": 98,
     "metadata": {},
     "output_type": "execute_result"
    }
   ],
   "source": [
    "reg_new = pd.to_datetime(reg_new, format='%m/%Y')\n",
    "reg_new.head()"
   ]
  },
  {
   "cell_type": "code",
   "execution_count": 99,
   "metadata": {},
   "outputs": [],
   "source": [
    "reg_year = reg_new.apply(lambda x: x.year)"
   ]
  },
  {
   "cell_type": "code",
   "execution_count": 100,
   "metadata": {},
   "outputs": [],
   "source": [
    "df_new['age'] = 2019 - reg_year"
   ]
  },
  {
   "cell_type": "code",
   "execution_count": 101,
   "metadata": {},
   "outputs": [
    {
     "data": {
      "text/plain": [
       "model\n",
       "A4        4.076408\n",
       "A5        3.952913\n",
       "A6        3.978681\n",
       "Adam      3.405063\n",
       "Clio      3.734677\n",
       "Corsa     3.353701\n",
       "Duster    0.000000\n",
       "Meriva    4.138408\n",
       "Scenic    3.403760\n",
       "Name: age, dtype: float64"
      ]
     },
     "execution_count": 101,
     "metadata": {},
     "output_type": "execute_result"
    }
   ],
   "source": [
    "df_new.groupby(\"model\").age.mean()"
   ]
  },
  {
   "cell_type": "markdown",
   "metadata": {},
   "source": [
    "> There seems to be no ad for an older Duster "
   ]
  },
  {
   "cell_type": "code",
   "execution_count": 102,
   "metadata": {},
   "outputs": [
    {
     "data": {
      "text/html": [
       "<div>\n",
       "<style scoped>\n",
       "    .dataframe tbody tr th:only-of-type {\n",
       "        vertical-align: middle;\n",
       "    }\n",
       "\n",
       "    .dataframe tbody tr th {\n",
       "        vertical-align: top;\n",
       "    }\n",
       "\n",
       "    .dataframe thead th {\n",
       "        text-align: right;\n",
       "    }\n",
       "</style>\n",
       "<table border=\"1\" class=\"dataframe\">\n",
       "  <thead>\n",
       "    <tr style=\"text-align: right;\">\n",
       "      <th></th>\n",
       "      <th>count</th>\n",
       "      <th>mean</th>\n",
       "      <th>std</th>\n",
       "      <th>min</th>\n",
       "      <th>25%</th>\n",
       "      <th>50%</th>\n",
       "      <th>75%</th>\n",
       "      <th>max</th>\n",
       "    </tr>\n",
       "    <tr>\n",
       "      <th>model</th>\n",
       "      <th></th>\n",
       "      <th></th>\n",
       "      <th></th>\n",
       "      <th></th>\n",
       "      <th></th>\n",
       "      <th></th>\n",
       "      <th></th>\n",
       "      <th></th>\n",
       "    </tr>\n",
       "  </thead>\n",
       "  <tbody>\n",
       "    <tr>\n",
       "      <th>A4</th>\n",
       "      <td>1492.0</td>\n",
       "      <td>4.076408</td>\n",
       "      <td>0.916094</td>\n",
       "      <td>0.0</td>\n",
       "      <td>4.0</td>\n",
       "      <td>4.0</td>\n",
       "      <td>5.0</td>\n",
       "      <td>5.0</td>\n",
       "    </tr>\n",
       "    <tr>\n",
       "      <th>A5</th>\n",
       "      <td>1253.0</td>\n",
       "      <td>3.952913</td>\n",
       "      <td>0.963479</td>\n",
       "      <td>0.0</td>\n",
       "      <td>3.0</td>\n",
       "      <td>4.0</td>\n",
       "      <td>5.0</td>\n",
       "      <td>5.0</td>\n",
       "    </tr>\n",
       "    <tr>\n",
       "      <th>A6</th>\n",
       "      <td>1501.0</td>\n",
       "      <td>3.978681</td>\n",
       "      <td>0.982282</td>\n",
       "      <td>0.0</td>\n",
       "      <td>3.0</td>\n",
       "      <td>4.0</td>\n",
       "      <td>5.0</td>\n",
       "      <td>5.0</td>\n",
       "    </tr>\n",
       "    <tr>\n",
       "      <th>Adam</th>\n",
       "      <td>869.0</td>\n",
       "      <td>3.405063</td>\n",
       "      <td>1.242219</td>\n",
       "      <td>0.0</td>\n",
       "      <td>2.0</td>\n",
       "      <td>3.0</td>\n",
       "      <td>4.0</td>\n",
       "      <td>5.0</td>\n",
       "    </tr>\n",
       "    <tr>\n",
       "      <th>Clio</th>\n",
       "      <td>1191.0</td>\n",
       "      <td>3.734677</td>\n",
       "      <td>1.177577</td>\n",
       "      <td>0.0</td>\n",
       "      <td>3.0</td>\n",
       "      <td>4.0</td>\n",
       "      <td>5.0</td>\n",
       "      <td>5.0</td>\n",
       "    </tr>\n",
       "    <tr>\n",
       "      <th>Corsa</th>\n",
       "      <td>1162.0</td>\n",
       "      <td>3.353701</td>\n",
       "      <td>1.431655</td>\n",
       "      <td>0.0</td>\n",
       "      <td>2.0</td>\n",
       "      <td>4.0</td>\n",
       "      <td>5.0</td>\n",
       "      <td>5.0</td>\n",
       "    </tr>\n",
       "    <tr>\n",
       "      <th>Duster</th>\n",
       "      <td>16.0</td>\n",
       "      <td>0.000000</td>\n",
       "      <td>0.000000</td>\n",
       "      <td>0.0</td>\n",
       "      <td>0.0</td>\n",
       "      <td>0.0</td>\n",
       "      <td>0.0</td>\n",
       "      <td>0.0</td>\n",
       "    </tr>\n",
       "    <tr>\n",
       "      <th>Meriva</th>\n",
       "      <td>867.0</td>\n",
       "      <td>4.138408</td>\n",
       "      <td>0.908893</td>\n",
       "      <td>0.0</td>\n",
       "      <td>3.0</td>\n",
       "      <td>4.0</td>\n",
       "      <td>5.0</td>\n",
       "      <td>5.0</td>\n",
       "    </tr>\n",
       "    <tr>\n",
       "      <th>Scenic</th>\n",
       "      <td>1117.0</td>\n",
       "      <td>3.403760</td>\n",
       "      <td>1.420190</td>\n",
       "      <td>0.0</td>\n",
       "      <td>2.0</td>\n",
       "      <td>4.0</td>\n",
       "      <td>5.0</td>\n",
       "      <td>5.0</td>\n",
       "    </tr>\n",
       "  </tbody>\n",
       "</table>\n",
       "</div>"
      ],
      "text/plain": [
       "         count      mean       std  min  25%  50%  75%  max\n",
       "model                                                      \n",
       "A4      1492.0  4.076408  0.916094  0.0  4.0  4.0  5.0  5.0\n",
       "A5      1253.0  3.952913  0.963479  0.0  3.0  4.0  5.0  5.0\n",
       "A6      1501.0  3.978681  0.982282  0.0  3.0  4.0  5.0  5.0\n",
       "Adam     869.0  3.405063  1.242219  0.0  2.0  3.0  4.0  5.0\n",
       "Clio    1191.0  3.734677  1.177577  0.0  3.0  4.0  5.0  5.0\n",
       "Corsa   1162.0  3.353701  1.431655  0.0  2.0  4.0  5.0  5.0\n",
       "Duster    16.0  0.000000  0.000000  0.0  0.0  0.0  0.0  0.0\n",
       "Meriva   867.0  4.138408  0.908893  0.0  3.0  4.0  5.0  5.0\n",
       "Scenic  1117.0  3.403760  1.420190  0.0  2.0  4.0  5.0  5.0"
      ]
     },
     "execution_count": 102,
     "metadata": {},
     "output_type": "execute_result"
    }
   ],
   "source": [
    "df_new.groupby(\"model\").age.describe()"
   ]
  },
  {
   "cell_type": "code",
   "execution_count": 103,
   "metadata": {},
   "outputs": [
    {
     "data": {
      "text/plain": [
       "<matplotlib.axes._subplots.AxesSubplot at 0x1a1d48e320>"
      ]
     },
     "execution_count": 103,
     "metadata": {},
     "output_type": "execute_result"
    },
    {
     "data": {
      "image/png": "[encoded data removed]",
      "text/plain": [
       "<Figure size 432x288 with 1 Axes>"
      ]
     },
     "metadata": {
      "needs_background": "light"
     },
     "output_type": "display_data"
    }
   ],
   "source": [
    "reg_year.plot.hist()\n",
    "# df_new.age.plot.hist()"
   ]
  },
  {
   "cell_type": "markdown",
   "metadata": {},
   "source": [
    "> There is no car older than 5 years. The data seems to be problematic."
   ]
  },
  {
   "cell_type": "code",
   "execution_count": 104,
   "metadata": {},
   "outputs": [
    {
     "data": {
      "text/plain": [
       "model\n",
       "A4        5.0\n",
       "A5        5.0\n",
       "A6        5.0\n",
       "Adam      5.0\n",
       "Clio      5.0\n",
       "Corsa     5.0\n",
       "Duster    0.0\n",
       "Meriva    5.0\n",
       "Scenic    5.0\n",
       "Name: age, dtype: float64"
      ]
     },
     "execution_count": 104,
     "metadata": {},
     "output_type": "execute_result"
    }
   ],
   "source": [
    "df_new.groupby(\"model\").age.max()"
   ]
  },
  {
   "cell_type": "code",
   "execution_count": 105,
   "metadata": {},
   "outputs": [
    {
     "data": {
      "text/plain": [
       "0    1\n",
       "1    2\n",
       "2    1\n",
       "3    2\n",
       "4    2\n",
       "Name: registration, dtype: object"
      ]
     },
     "execution_count": 105,
     "metadata": {},
     "output_type": "execute_result"
    }
   ],
   "source": [
    "# Extract nr of \"Previous owners\"\n",
    "autos.registration.apply(lambda x: x[1][0] if len(x) > 1 else np.nan).head()"
   ]
  }
 ],
 "metadata": {
  "kernelspec": {
   "display_name": "Python 3",
   "language": "python",
   "name": "python3"
  },
  "language_info": {
   "codemirror_mode": {
    "name": "ipython",
    "version": 3
   },
   "file_extension": ".py",
   "mimetype": "text/x-python",
   "name": "python",
   "nbconvert_exporter": "python",
   "pygments_lexer": "ipython3",
   "version": "3.6.8"
  },
  "toc-autonumbering": false,
  "toc-showmarkdowntxt": false
 },
 "nbformat": 4,
 "nbformat_minor": 2
}
